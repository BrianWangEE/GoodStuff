{
 "cells": [
  {
   "cell_type": "code",
   "execution_count": 1,
   "metadata": {},
   "outputs": [
    {
     "name": "stdin",
     "output_type": "stream",
     "text": [
      "Enter your QID here:  ·······\n",
      "Enter your password here:  ·············\n"
     ]
    }
   ],
   "source": [
    "import pyodbc\n",
    "import pandas as pd\n",
    "import platform\n",
    "import datetime\n",
    "\n",
    "import getpass\n",
    "\n",
    "USERNAME = getpass.getpass(prompt=\"Enter your QID here: \")\n",
    "PASSWORD = getpass.getpass(prompt=\"Enter your password here: \")\n",
    "DSN = 'Teradata'\n",
    "connection = pyodbc.connect('DSN=' + DSN + '; UID=' + USERNAME + '; PWD='+ PASSWORD)"
   ]
  },
  {
   "cell_type": "markdown",
   "metadata": {},
   "source": [
    "# Config"
   ]
  },
  {
   "cell_type": "code",
   "execution_count": 2,
   "metadata": {},
   "outputs": [],
   "source": [
    "root_data = \"/apps/pproapp0/proews/current/jupyter/ey_ews_data/\"\n",
    "processed_path = root_data+\"processed_data/\"\n",
    "raw_data_dir = root_data + \"ey_raw_data/\"\n",
    "interm_data_dir = root_data+\"intermediate/\""
   ]
  },
  {
   "cell_type": "code",
   "execution_count": 3,
   "metadata": {},
   "outputs": [],
   "source": [
    "# Set character encoding/decoding.\n",
    "# This ensures our server can communicate with the Teradata server properly.\n",
    "# If you don't set these, the query will fail.\n",
    "# The reason is because Teradata represents strings differently than our server. \n",
    "connection.setdecoding(pyodbc.SQL_CHAR, encoding=\"utf_16_le\")\n",
    "connection.setdecoding(pyodbc.SQL_WCHAR, encoding=\"utf_16_le\")\n",
    "connection.setdecoding(pyodbc.SQL_WMETADATA, encoding=\"utf_16_le\")\n",
    "connection.setencoding(encoding=\"utf_16_le\")"
   ]
  },
  {
   "cell_type": "markdown",
   "metadata": {},
   "source": [
    "#### The next cell are similarly structured, they contain the core SQL query for each of the following tables:\n",
    " - Client_General\n",
    " - Mort_hist\n",
    " - Loan_Hist\n",
    " - Lend_General\n",
    " - Financials\n",
    " - Fac_general\n",
    " - BDA General\n",
    " - Prod Char\n",
    " - Bhvr Char\n",
    " - BRR Extract\n",
    " - BDA TXN NO COBC\n",
    " - Loan General\n",
    " - Agg Loan TXN Acct Level"
   ]
  },
  {
   "cell_type": "markdown",
   "metadata": {},
   "source": [
    "# Client_General"
   ]
  },
  {
   "cell_type": "code",
   "execution_count": 4,
   "metadata": {},
   "outputs": [],
   "source": [
    "def pull_client_general(start_snap_dt, end_snap_dt):    \n",
    "    qry = f\"\"\"\\\n",
    "        SELECT \n",
    "        /* This datapull uses RB_CLNT as the base population for pulling data */\n",
    "        /* month end date */\n",
    "               C.SNAP_DT as mth_end_dt, \n",
    "        /* client number */\n",
    "               C.clnt_no , \n",
    "        /* client group, used to define commercial and small business clients */\n",
    "        case\n",
    "                    when (c.BSC in (190,192,200,202,250,490,590)\n",
    "                            or (c.BSC in (310,500,502,504,505,510) and \n",
    "                                (c.CURR_CMI_NO not in (100,101,102,103,\n",
    "                                                        200,201,202,203,\n",
    "                                                        300,301,302,303,\n",
    "                                                        401,402,403,\n",
    "                                                        501,502,503) or c.CURR_CMI_NO is NULL))\n",
    "                         ) then 'COMM'\n",
    "            \n",
    "                    when (c.BSC in (550,554,555)\n",
    "                            and (c.CURR_CMI_NO not in (100,101,102,103,\n",
    "                                                        200,201,202,203,\n",
    "                                                        300,301,302,303,\n",
    "                                                        401,402,403,\n",
    "                                                        501,502,503) or c.CURR_CMI_NO is NULL)\n",
    "                         ) then 'AG'\n",
    "                    when c.BSC in (330) then 'PUB'\n",
    "                    when (c.BSC in (310,500,502,504,505,510, 550,554,555) \n",
    "                            and c.CURR_CMI_NO in (100,101,102,103,\n",
    "                                                    200,201,202,203,\n",
    "                                                    300,301,302,303,\n",
    "                                                    401,402,403,\n",
    "                                                    501,502,503)\n",
    "                         )then 'SB'\n",
    "                    else 'OOO'\n",
    "                end as Clnt_Grp,\n",
    "        /* response transit center*/\n",
    "               C.resp_unt AS resp_transit,\n",
    "        /*BSC code */\n",
    "               C.BSC, \n",
    "        /*Current client management index*/\n",
    "               C.CURR_CMI_NO AS cmi,\n",
    "        /*country*/\n",
    "               CASE\n",
    "                 WHEN c.snap_dt LE '2007-09-30' THEN ''\n",
    "                 WHEN AA.prov_cd IN ('AB','BC','MB','NB','NL','NS','NT','NU','ON','PE','QC','SK','YT') THEN 'Canada'\n",
    "                 ELSE 'Others'\n",
    "               END AS country, \n",
    "        /*STATE/COUNTRY NAME*/\n",
    "               AA.st_cntry_nm, \n",
    "        /*SUB COUNTRY CODE OF RESIDENCE (SUB_CNTRY_CD)*/\n",
    "               AA.prov_cd, \n",
    "        /*Critieria Paper BORROWER RISK RATING (BRR) ( RSK_RTG )*/\n",
    "               CH.RSK_RTG as BRR, \n",
    "        /* Numerical version of BRR */\n",
    "            CASE\n",
    "                        WHEN CH.RSK_RTG = '1+' THEN 1\n",
    "                        WHEN CH.RSK_RTG = '1' AND CH.RSK_RTG_MOD = 'H' THEN 2\n",
    "                        WHEN CH.RSK_RTG = '1' AND CH.RSK_RTG_MOD = 'M'  THEN 3\n",
    "                        WHEN CH.RSK_RTG = '1' AND CH.RSK_RTG_MOD IS NULL THEN 3\n",
    "                        WHEN CH.RSK_RTG = '1' AND CH.RSK_RTG_MOD = 'L' THEN 4\n",
    "                        WHEN CH.RSK_RTG = '2+' AND CH.RSK_RTG_MOD = 'H' THEN 5\n",
    "                        WHEN CH.RSK_RTG = '2+' AND CH.RSK_RTG_MOD = 'M' THEN 6\n",
    "                        WHEN CH.RSK_RTG = '2+' AND CH.RSK_RTG_MOD IS NULL THEN 6\n",
    "                        WHEN CH.RSK_RTG = '2+' AND CH.RSK_RTG_MOD = 'L' THEN 7\n",
    "                        WHEN CH.RSK_RTG = '2' AND CH.RSK_RTG_MOD = 'H' THEN 8\n",
    "                        WHEN CH.RSK_RTG = '2' AND CH.RSK_RTG_MOD = 'M' THEN 9\n",
    "                        WHEN CH.RSK_RTG = '2' AND CH.RSK_RTG_MOD IS NULL THEN 9\n",
    "                        WHEN CH.RSK_RTG = '2' AND CH.RSK_RTG_MOD = 'L' THEN 10\n",
    "                        WHEN CH.RSK_RTG = '2-' AND CH.RSK_RTG_MOD = 'H' THEN 11\n",
    "                        WHEN CH.RSK_RTG = '2-' AND CH.RSK_RTG_MOD = 'M' THEN 12\n",
    "                        WHEN CH.RSK_RTG = '2-' AND CH.RSK_RTG_MOD IS NULL THEN 12\n",
    "                        WHEN CH.RSK_RTG = '2-' AND CH.RSK_RTG_MOD = 'L' THEN 13\n",
    "                        WHEN CH.RSK_RTG = '3+' AND CH.RSK_RTG_MOD = 'H' THEN 14\n",
    "                        WHEN CH.RSK_RTG = '3+' AND CH.RSK_RTG_MOD = 'M' THEN 15\n",
    "                        WHEN CH.RSK_RTG = '3+' AND CH.RSK_RTG_MOD IS NULL THEN 15\n",
    "                        WHEN CH.RSK_RTG = '3+' AND CH.RSK_RTG_MOD = 'L' THEN 16\n",
    "                        WHEN CH.RSK_RTG = '3' AND CH.RSK_RTG_MOD = 'H' THEN 17\n",
    "                        WHEN CH.RSK_RTG = '3' AND CH.RSK_RTG_MOD = 'M' THEN 18\n",
    "                        WHEN CH.RSK_RTG = '3' AND CH.RSK_RTG_MOD IS NULL THEN 18\n",
    "                        WHEN CH.RSK_RTG = '3' AND CH.RSK_RTG_MOD = 'L' THEN 19\n",
    "                        WHEN CH.RSK_RTG = '4' THEN 20\n",
    "                        WHEN CH.RSK_RTG = '5' THEN 21\n",
    "                        WHEN CH.RSK_RTG = '6' THEN 22\n",
    "                      END as num_brr,\n",
    "        /*Special Loan Indicator*/\n",
    "               case\n",
    "                 when BB.clnt_no is not null then 'Y' /* if client exists in the BB table, then it is SLG client */\n",
    "                 else 'N'\n",
    "                 end as slg_ind,\n",
    "        /* single name ID */\n",
    "                 CASE\n",
    "                       WHEN SN.SN_ID IS NULL THEN C.CLNT_NO\n",
    "                       ELSE SN.SN_ID\n",
    "                     END AS SN_ID,\n",
    "        /* sic number */\n",
    "               CH.sic_cd1 AS sic,\n",
    "        /* sic description */\n",
    "               S.sic_desc_en,\n",
    "        /*CUSTOMER RISK INDEX GENERAL (CRI_GNRL)*/\n",
    "               D.cri_gnrl,\n",
    "        /*DATE BUSINESS ESTABLISHED*/\n",
    "               B.dt_bus_estb,\n",
    "        /*VERTICAL INDUSTRY CLASSIFICATION CODE*/\n",
    "               V.vic,  \n",
    "        /*VERTICAL INDUSTRY CODE IDENTIFIER*/\n",
    "               V.vic_id,\n",
    "        /*VERTICAL INDUSTRY CLASSIFICATION CODE DESCRIPTION*/\n",
    "               V.vic_desc_en, \n",
    "        /*SUB-VERTICAL INDUSTRY CLASSIFICATION CODE*/\n",
    "               V.sub_vic, \n",
    "        /*SUB-VERTICAL INDUSTRY CODE IDENTIFIER*/\n",
    "               V.sub_vic_id,\n",
    "        /*SUB-VERTICAL INDUSTRY CLASSIFICATION CODE DESCRIPT*/\n",
    "               V.sub_vic_desc_en, \n",
    "        /* Personal/business customer type flag from Probe */\n",
    "                D.pers_bus_flg_typ,\n",
    "        /* Date client signed up with RBC*/\n",
    "                ch.dt_opened,\n",
    "        /* Number of years being RBC client */\n",
    "                (ch.mth_end_dt - ch.DT_OPENED)/365  AS yrs_being_client,\n",
    "        /*BRR REVIEW DATE ( BRR_RVW_DT )*/\n",
    "               C.brr_rvw_dt AS brr_review_dt, \n",
    "        /* Client status (Active/Inactive) with 1 month lag*/\n",
    "               C.clnt_sts as status,\n",
    "        /*Client Total Authorization*/\n",
    "               CASE WHEN BPC.clnt_auth is not null then BPC.clnt_auth\n",
    "                    ELSE 0\n",
    "                end as clnt_auth, \n",
    "        /*Client Total Outstanding*/\n",
    "               CASE WHEN BPC.clnt_os is not null then BPC.clnt_os\n",
    "                    ELSE 0\n",
    "                end as clnt_os,\n",
    "        /*Borrower/Non-Borrower Indicator*/\n",
    "               CASE\n",
    "                 WHEN (BPC.clnt_os NE 0 and bpc.clnt_os is not null) \n",
    "                        OR (BPC.clnt_auth NE 0 and bpc.clnt_auth is not null) \n",
    "                        OR OD.od_ind=1 THEN 1\n",
    "                 ELSE 0\n",
    "               END AS borrower_ind,\n",
    "        /*Client total single name exposure*/\n",
    "                CASE WHEN BPC.tot_sn_exp is not null then BPC.tot_sn_exp\n",
    "                    ELSE 0\n",
    "                end as tot_sn_exp,\n",
    "        /*Maximum Historical Total Single Name Exposure*/\n",
    "               case when T.max_tsne is not null then t.max_tsne\n",
    "               else 0 \n",
    "               end as max_tsne\n",
    "        \n",
    "        \n",
    "        FROM DDWV01.rb_clnt AS C\n",
    "        \n",
    "                /* Inner join with roll-up rank hierarchy table to get Canadian banking clients */\n",
    "             INNER JOIN DDWV01.ROLL_HIER_RELTN_RNK AS R\n",
    "                  ON  r.SNAP_DT  = c.snap_dt\n",
    "                      AND r.ORG_UNT_ID = c.resp_unt\n",
    "                      AND r.PARNT_HIER_TYP_ID = 80000 \n",
    "                      AND r.ROLL_ID_RANK_600 IN (80013,80029,80146,82314,83080,83081,83082,83091)\n",
    "        \n",
    "            /* Identify clients with SLG manager, logic obtained from Business Portfolio Client table source code */\n",
    "             LEFT JOIN\n",
    "             (\n",
    "                 select distinct h.clnt_no, h.assign_typ, h.acct_mgr_cd,h.mth_end_dt\n",
    "                 from dg6v19.clnt_am_assignment_hist as H\n",
    "                 inner join ddwv01.org_unt_to_slg_mgr_reltn as S\n",
    "                 on H.acct_mgr_cd = S.slg_tr_no\n",
    "                 and H.mth_end_dt > '{start_snap_dt}' AND H.mth_end_dt < '{end_snap_dt}'\n",
    "                 and H.assign_typ = 'S'\n",
    "                  ) as BB\n",
    "                    ON C.clnt_no = BB.clnt_no\n",
    "                    and C.snap_dt = BB.mth_end_dt\n",
    "        \n",
    "            /* Used to get client SN ID, logic obtained from Business Portfolio Client table source code  */\n",
    "            LEFT JOIN DG6V19.CLNT_SN_HIST as SN\n",
    "                         ON C.CLNT_NO = SN.CLNT_NO\n",
    "                        AND C.snap_DT = SN.MTH_END_DT\n",
    "        \n",
    "            /* use this table to get the link to address, VIC tables, SIC tables */\n",
    "             LEFT JOIN DG6V19.clnt_hist AS CH\n",
    "               ON CH.clnt_no = C.clnt_no\n",
    "                  AND CH.mth_end_dt = c.snap_dt\n",
    "        \n",
    "            /* SIC info */\n",
    "             LEFT JOIN DDWV01.sic AS S\n",
    "               ON S.sic_cd = CH.sic_cd1\n",
    "                  AND S.snap_dt = CH.mth_end_dt\n",
    "        \n",
    "            /* Business established date */\n",
    "             LEFT JOIN DG6V19.non_pers_clnt_hist B\n",
    "               ON B.clnt_no = C.clnt_no\n",
    "                  AND B.mth_end_dt = c.snap_dt\n",
    "        \n",
    "            /* Address */\n",
    "             LEFT JOIN DG6V19.addr_hist AS AA\n",
    "               ON AA.addr_id = CH.addr_id\n",
    "                  AND AA.mth_end_dt = CH.mth_end_dt\n",
    "                  AND AA.addr_src = 'C'\n",
    "            \n",
    "            /* VIC */\t\n",
    "             LEFT JOIN DG6V19.sub_vic_hist AS V\n",
    "               ON V.sub_vic_id = CH.sub_vic_id\n",
    "                  AND V.mth_end_dt = CH.mth_end_dt  \n",
    "        \n",
    "            /* Probe table */\n",
    "             LEFT JOIN DDWV11.clnt_bhvr_charstc AS D\n",
    "               ON D.clnt_no = C.clnt_no\n",
    "                  AND D.capture_dt = c.snap_dt \n",
    "                  AND D.pers_bus_flg_typ = 'B'\n",
    "        \n",
    "            /* table to identify if client has overdraft facility */\n",
    "            left join ( select clnt_no, mth_end_dt, max(od_ind) as od_ind /* aggregate to client level */\n",
    "                        from \n",
    "                        (select lend.clnt_no, /* arrangement level table */\n",
    "                              lend.mth_end_dt,\n",
    "                              lend.ar_id,\n",
    "                              CASE WHEN FAC_TABLE.FAC_TYPE1 in ('OD', 'OV', 'OM') THEN 1\n",
    "                                ELSE 0\n",
    "                              END AS od_ind\n",
    "                            /* Arrangement ownership history table to link accounts to clients*/\n",
    "                              from DG6V19.ARNGMNT_OWN_HIST as lend \n",
    "                              /* Facility table to identify overdraft facilities */\n",
    "                              inner join DG6V19.BUS_COMM_RPT_FAC as FAC_TABLE\n",
    "                              on FAC_TABLE.prod_no = lend.ar_id\n",
    "                              and FAC_TABLE.SNAP_DT = lend.MTH_END_DT\n",
    "        \n",
    "                              where FAC_TABLE.SNAP_DT > '{start_snap_dt}' AND FAC_TABLE.SNAP_DT < '{end_snap_dt}'\n",
    "                              ) as OD_fac \n",
    "                            group by 1, 2) as OD\n",
    "                  ON C.CLNT_NO = OD.CLNT_NO \n",
    "                  AND c.snap_dt = OD.MTH_END_DT\n",
    "        \n",
    "             /* Calculate max TSNE */\n",
    "             LEFT JOIN (SELECT t1.MTH_END_DT,  \n",
    "                                t1.CLNT_NO, \n",
    "                                Max(t2.TOT_SN_EXP) AS Max_TSNE \n",
    "                         FROM \n",
    "                                DG6V19.BUS_PRTFOL_CLNT AS t1,\n",
    "                                DG6V19.BUS_PRTFOL_CLNT AS t2\n",
    "                         WHERE\n",
    "                                t1.CLNT_NO = t2.CLNT_NO AND \n",
    "                                t1.MTH_END_DT >= t2.MTH_END_DT \n",
    "                         GROUP BY 1,2 )AS T\n",
    "            \n",
    "               ON C.CLNT_NO = T.CLNT_NO \n",
    "                  AND c.snap_dt = T.MTH_END_DT\n",
    "            \n",
    "            /* business portfolio client table with client authorization, outstanding, max TSNE info */\n",
    "             LEFT JOIN DG6V19.BUS_PRTFOL_CLNT AS BPC\n",
    "               ON BPC.clnt_no = C.clnt_no\n",
    "                  AND BPC.mth_end_dt = c.snap_dt\n",
    "        \n",
    "        WHERE CLNT_GRP <> 'OOO' /* filter out non-COMM/SB clients*/\n",
    "        And c.snap_dt > '{start_snap_dt}' AND c.snap_dt < '{end_snap_dt}'  /* get info on snap date */\n",
    "        and (c.clnt_sts='A' or c.clnt_sts is null) /* filter out inactive clients */\n",
    "        and c.clnt_typ=2 /* keep only non-personal clients */\n",
    "        and BPC.tot_sn_exp > 1000000\n",
    "        \"\"\"\n",
    "    return pd.read_sql(qry, connection)"
   ]
  },
  {
   "cell_type": "code",
   "execution_count": 5,
   "metadata": {},
   "outputs": [
    {
     "data": {
      "text/plain": [
       "(448856, 33)"
      ]
     },
     "execution_count": 5,
     "metadata": {},
     "output_type": "execute_result"
    }
   ],
   "source": [
    "start_snap_dt='2015-01-01'\n",
    "end_snap_dt='2016-01-01'\n",
    "df1 = pull_client_general(start_snap_dt, end_snap_dt)\n",
    "df1.shape"
   ]
  },
  {
   "cell_type": "code",
   "execution_count": 6,
   "metadata": {},
   "outputs": [
    {
     "data": {
      "text/html": [
       "<div>\n",
       "<style scoped>\n",
       "    .dataframe tbody tr th:only-of-type {\n",
       "        vertical-align: middle;\n",
       "    }\n",
       "\n",
       "    .dataframe tbody tr th {\n",
       "        vertical-align: top;\n",
       "    }\n",
       "\n",
       "    .dataframe thead th {\n",
       "        text-align: right;\n",
       "    }\n",
       "</style>\n",
       "<table border=\"1\" class=\"dataframe\">\n",
       "  <thead>\n",
       "    <tr style=\"text-align: right;\">\n",
       "      <th></th>\n",
       "      <th>mth_end_dt</th>\n",
       "      <th>CLNT_NO</th>\n",
       "      <th>Clnt_Grp</th>\n",
       "      <th>resp_transit</th>\n",
       "      <th>BSC</th>\n",
       "      <th>cmi</th>\n",
       "      <th>country</th>\n",
       "      <th>ST_CNTRY_NM</th>\n",
       "      <th>PROV_CD</th>\n",
       "      <th>BRR</th>\n",
       "      <th>...</th>\n",
       "      <th>PERS_BUS_FLG_TYP</th>\n",
       "      <th>DT_OPENED</th>\n",
       "      <th>yrs_being_client</th>\n",
       "      <th>brr_review_dt</th>\n",
       "      <th>status</th>\n",
       "      <th>clnt_auth</th>\n",
       "      <th>clnt_os</th>\n",
       "      <th>borrower_ind</th>\n",
       "      <th>tot_sn_exp</th>\n",
       "      <th>max_tsne</th>\n",
       "    </tr>\n",
       "  </thead>\n",
       "  <tbody>\n",
       "    <tr>\n",
       "      <th>0</th>\n",
       "      <td>2015-01-31</td>\n",
       "      <td>528885403.0</td>\n",
       "      <td>COMM</td>\n",
       "      <td>5471</td>\n",
       "      <td>505</td>\n",
       "      <td>400</td>\n",
       "      <td>Canada</td>\n",
       "      <td>None</td>\n",
       "      <td>ON</td>\n",
       "      <td>2</td>\n",
       "      <td>...</td>\n",
       "      <td>B</td>\n",
       "      <td>2010-04-01</td>\n",
       "      <td>4</td>\n",
       "      <td>2015-06-30</td>\n",
       "      <td>A</td>\n",
       "      <td>1501889.29</td>\n",
       "      <td>1501889.29</td>\n",
       "      <td>1</td>\n",
       "      <td>1501889.29</td>\n",
       "      <td>1950000.00</td>\n",
       "    </tr>\n",
       "    <tr>\n",
       "      <th>1</th>\n",
       "      <td>2015-05-31</td>\n",
       "      <td>846087534.0</td>\n",
       "      <td>COMM</td>\n",
       "      <td>4482</td>\n",
       "      <td>505</td>\n",
       "      <td>400</td>\n",
       "      <td>Canada</td>\n",
       "      <td>None</td>\n",
       "      <td>ON</td>\n",
       "      <td>3+</td>\n",
       "      <td>...</td>\n",
       "      <td>B</td>\n",
       "      <td>2001-12-01</td>\n",
       "      <td>13</td>\n",
       "      <td>2013-09-30</td>\n",
       "      <td>A</td>\n",
       "      <td>0.00</td>\n",
       "      <td>0.00</td>\n",
       "      <td>0</td>\n",
       "      <td>2050000.00</td>\n",
       "      <td>3061710.68</td>\n",
       "    </tr>\n",
       "    <tr>\n",
       "      <th>2</th>\n",
       "      <td>2015-01-31</td>\n",
       "      <td>542884630.0</td>\n",
       "      <td>COMM</td>\n",
       "      <td>4756</td>\n",
       "      <td>505</td>\n",
       "      <td>304</td>\n",
       "      <td>Canada</td>\n",
       "      <td>None</td>\n",
       "      <td>ON</td>\n",
       "      <td>3+</td>\n",
       "      <td>...</td>\n",
       "      <td>B</td>\n",
       "      <td>2013-03-01</td>\n",
       "      <td>1</td>\n",
       "      <td>2015-01-31</td>\n",
       "      <td>A</td>\n",
       "      <td>962763.00</td>\n",
       "      <td>960185.15</td>\n",
       "      <td>1</td>\n",
       "      <td>2017770.00</td>\n",
       "      <td>3378983.50</td>\n",
       "    </tr>\n",
       "    <tr>\n",
       "      <th>3</th>\n",
       "      <td>2015-04-30</td>\n",
       "      <td>780242707.0</td>\n",
       "      <td>PUB</td>\n",
       "      <td>13908</td>\n",
       "      <td>330</td>\n",
       "      <td>400</td>\n",
       "      <td>Canada</td>\n",
       "      <td>None</td>\n",
       "      <td>ON</td>\n",
       "      <td>2+</td>\n",
       "      <td>...</td>\n",
       "      <td>None</td>\n",
       "      <td>1990-07-01</td>\n",
       "      <td>24</td>\n",
       "      <td>2015-12-31</td>\n",
       "      <td>A</td>\n",
       "      <td>13025001.00</td>\n",
       "      <td>0.00</td>\n",
       "      <td>1</td>\n",
       "      <td>13070001.00</td>\n",
       "      <td>13250000.00</td>\n",
       "    </tr>\n",
       "    <tr>\n",
       "      <th>4</th>\n",
       "      <td>2015-01-31</td>\n",
       "      <td>313757106.0</td>\n",
       "      <td>COMM</td>\n",
       "      <td>8966</td>\n",
       "      <td>200</td>\n",
       "      <td>400</td>\n",
       "      <td>Canada</td>\n",
       "      <td>None</td>\n",
       "      <td>ON</td>\n",
       "      <td>2-</td>\n",
       "      <td>...</td>\n",
       "      <td>B</td>\n",
       "      <td>2014-11-01</td>\n",
       "      <td>0</td>\n",
       "      <td>2015-05-31</td>\n",
       "      <td>A</td>\n",
       "      <td>1435000.00</td>\n",
       "      <td>1435000.00</td>\n",
       "      <td>1</td>\n",
       "      <td>45115296.51</td>\n",
       "      <td>45116476.38</td>\n",
       "    </tr>\n",
       "  </tbody>\n",
       "</table>\n",
       "<p>5 rows × 33 columns</p>\n",
       "</div>"
      ],
      "text/plain": [
       "   mth_end_dt      CLNT_NO Clnt_Grp  resp_transit  BSC  cmi country  \\\n",
       "0  2015-01-31  528885403.0     COMM          5471  505  400  Canada   \n",
       "1  2015-05-31  846087534.0     COMM          4482  505  400  Canada   \n",
       "2  2015-01-31  542884630.0     COMM          4756  505  304  Canada   \n",
       "3  2015-04-30  780242707.0      PUB         13908  330  400  Canada   \n",
       "4  2015-01-31  313757106.0     COMM          8966  200  400  Canada   \n",
       "\n",
       "  ST_CNTRY_NM PROV_CD BRR  ...  PERS_BUS_FLG_TYP   DT_OPENED  \\\n",
       "0        None      ON  2   ...                 B  2010-04-01   \n",
       "1        None      ON  3+  ...                 B  2001-12-01   \n",
       "2        None      ON  3+  ...                 B  2013-03-01   \n",
       "3        None      ON  2+  ...              None  1990-07-01   \n",
       "4        None      ON  2-  ...                 B  2014-11-01   \n",
       "\n",
       "   yrs_being_client  brr_review_dt status    clnt_auth     clnt_os  \\\n",
       "0                 4     2015-06-30      A   1501889.29  1501889.29   \n",
       "1                13     2013-09-30      A         0.00        0.00   \n",
       "2                 1     2015-01-31      A    962763.00   960185.15   \n",
       "3                24     2015-12-31      A  13025001.00        0.00   \n",
       "4                 0     2015-05-31      A   1435000.00  1435000.00   \n",
       "\n",
       "  borrower_ind   tot_sn_exp     max_tsne  \n",
       "0            1   1501889.29   1950000.00  \n",
       "1            0   2050000.00   3061710.68  \n",
       "2            1   2017770.00   3378983.50  \n",
       "3            1  13070001.00  13250000.00  \n",
       "4            1  45115296.51  45116476.38  \n",
       "\n",
       "[5 rows x 33 columns]"
      ]
     },
     "execution_count": 6,
     "metadata": {},
     "output_type": "execute_result"
    }
   ],
   "source": [
    "df1.head()"
   ]
  },
  {
   "cell_type": "code",
   "execution_count": 7,
   "metadata": {},
   "outputs": [],
   "source": [
    "df1.drop_duplicates(subset=['mth_end_dt', 'CLNT_NO'], keep='first', inplace=True)"
   ]
  },
  {
   "cell_type": "code",
   "execution_count": 8,
   "metadata": {},
   "outputs": [
    {
     "data": {
      "text/plain": [
       "(448856, 33)"
      ]
     },
     "execution_count": 8,
     "metadata": {},
     "output_type": "execute_result"
    }
   ],
   "source": [
    "df1.shape"
   ]
  },
  {
   "cell_type": "code",
   "execution_count": 9,
   "metadata": {},
   "outputs": [],
   "source": [
    "df1.to_csv(raw_data_dir+'clnt_general_y1.csv', index=False)"
   ]
  },
  {
   "cell_type": "code",
   "execution_count": 10,
   "metadata": {},
   "outputs": [
    {
     "data": {
      "text/plain": [
       "(471303, 33)"
      ]
     },
     "execution_count": 10,
     "metadata": {},
     "output_type": "execute_result"
    }
   ],
   "source": [
    "start_snap_dt='2016-01-01'\n",
    "end_snap_dt='2017-01-01'\n",
    "df2 = pull_client_general(start_snap_dt, end_snap_dt)\n",
    "df2.shape"
   ]
  },
  {
   "cell_type": "code",
   "execution_count": 11,
   "metadata": {},
   "outputs": [
    {
     "data": {
      "text/plain": [
       "(471303, 33)"
      ]
     },
     "execution_count": 11,
     "metadata": {},
     "output_type": "execute_result"
    }
   ],
   "source": [
    "df2.drop_duplicates(subset=['mth_end_dt', 'CLNT_NO'], keep='first', inplace=True)\n",
    "df2.shape"
   ]
  },
  {
   "cell_type": "code",
   "execution_count": 12,
   "metadata": {},
   "outputs": [],
   "source": [
    "df2.to_csv(raw_data_dir+'clnt_general_y2.csv', index=False)"
   ]
  },
  {
   "cell_type": "code",
   "execution_count": 13,
   "metadata": {},
   "outputs": [
    {
     "data": {
      "text/plain": [
       "(499314, 33)"
      ]
     },
     "execution_count": 13,
     "metadata": {},
     "output_type": "execute_result"
    }
   ],
   "source": [
    "start_snap_dt='2017-01-01'\n",
    "end_snap_dt='2018-01-01'\n",
    "df3 = pull_client_general(start_snap_dt, end_snap_dt)\n",
    "df3.shape"
   ]
  },
  {
   "cell_type": "code",
   "execution_count": 14,
   "metadata": {},
   "outputs": [
    {
     "data": {
      "text/plain": [
       "(499314, 33)"
      ]
     },
     "execution_count": 14,
     "metadata": {},
     "output_type": "execute_result"
    }
   ],
   "source": [
    "df3.drop_duplicates(subset=['mth_end_dt', 'CLNT_NO'], keep='first', inplace=True)\n",
    "df3.shape"
   ]
  },
  {
   "cell_type": "code",
   "execution_count": 15,
   "metadata": {},
   "outputs": [],
   "source": [
    "df3.to_csv(raw_data_dir+'clnt_general_y3.csv', index=False)"
   ]
  },
  {
   "cell_type": "code",
   "execution_count": 16,
   "metadata": {},
   "outputs": [
    {
     "data": {
      "text/plain": [
       "(809246, 33)"
      ]
     },
     "execution_count": 16,
     "metadata": {},
     "output_type": "execute_result"
    }
   ],
   "source": [
    "start_snap_dt='2018-01-01'\n",
    "end_snap_dt='2019-07-01'\n",
    "df4 = pull_client_general(start_snap_dt, end_snap_dt)\n",
    "df4.shape"
   ]
  },
  {
   "cell_type": "code",
   "execution_count": 17,
   "metadata": {},
   "outputs": [
    {
     "data": {
      "text/plain": [
       "(809246, 33)"
      ]
     },
     "execution_count": 17,
     "metadata": {},
     "output_type": "execute_result"
    }
   ],
   "source": [
    "df4.drop_duplicates(subset=['mth_end_dt', 'CLNT_NO'], keep='first', inplace=True)\n",
    "df4.shape"
   ]
  },
  {
   "cell_type": "code",
   "execution_count": 18,
   "metadata": {},
   "outputs": [],
   "source": [
    "df4.to_csv(raw_data_dir+'clnt_general_y4.csv', index=False)"
   ]
  },
  {
   "cell_type": "markdown",
   "metadata": {},
   "source": [
    "# Mort_hist"
   ]
  },
  {
   "cell_type": "code",
   "execution_count": 19,
   "metadata": {},
   "outputs": [],
   "source": [
    "def pull_mort_hist(start_snap_dt, end_snap_dt):    \n",
    "    qry = f\"\"\"\\\n",
    "            select \n",
    "            /* month end date */\n",
    "                   C.SNAP_DT as mth_end_dt, \n",
    "            /* client number */\n",
    "                   C.clnt_no , \n",
    "            /* client group, used to define commercial and small business clients */\n",
    "            case\n",
    "                        when (c.BSC in (190,192,200,202,250,490,590)\n",
    "                                or (c.BSC in (310,500,502,504,505,510) and \n",
    "                                    (c.CURR_CMI_NO not in (100,101,102,103,\n",
    "                                                            200,201,202,203,\n",
    "                                                            300,301,302,303,\n",
    "                                                            401,402,403,\n",
    "                                                            501,502,503) or c.CURR_CMI_NO is NULL))\n",
    "                             ) then 'COMM'\n",
    "                \n",
    "                        when (c.BSC in (550,554,555)\n",
    "                                and (c.CURR_CMI_NO not in (100,101,102,103,\n",
    "                                                            200,201,202,203, \n",
    "                                                            300,301,302,303,\n",
    "                                                            401,402,403,\n",
    "                                                            501,502,503) or c.CURR_CMI_NO is NULL)\n",
    "                             ) then 'AG'\n",
    "                        when c.BSC in (330) then 'PUB'\n",
    "                        when (c.BSC in (310,500,502,504,505,510, 550,554,555) \n",
    "                                and c.CURR_CMI_NO in (100,101,102,103,\n",
    "                                                        200,201,202,203,\n",
    "                                                        300,301,302,303,\n",
    "                                                        401,402,403,\n",
    "                                                        501,502,503)\n",
    "                             )then 'SB'\n",
    "                        else 'OOO'\n",
    "                    end as Clnt_Grp,\n",
    "                   L.ar_id ,   /*-- arrangement id*/\n",
    "                   'A' || trim(L.ar_id) as t_ar_id, /* added by QH on 2018-11-07 */\n",
    "                   L.mif_srvc_id, /*--MIF service identifier,*/\n",
    "                   MT.LST_FNCL_TXN_DT,\n",
    "                   case\n",
    "                     when extract (YEAR From MT.LST_FNCL_TXN_DT ) = Extract (YEAR From c.snap_dt)\n",
    "                              and  extract (MONTH From MT.LST_FNCL_TXN_DT) = Extract (MONTH From c.snap_dt) then 1\n",
    "                     else 0\n",
    "                    end as lst_fncl_txn_dt_ind,\n",
    "                    MT.WRITE_OFF_DATE,\n",
    "                    case \n",
    "                      when extract (YEAR From MT.WRITE_OFF_DATE ) = Extract (YEAR From c.snap_dt)\n",
    "                              and  extract (MONTH From MT.WRITE_OFF_DATE) = Extract (MONTH From c.snap_dt) then 1\n",
    "                     else 0\n",
    "                    end as wo_ind\n",
    "                    \n",
    "            \n",
    "            FROM DDWV01.rb_clnt AS C\n",
    "            /*Neo Added Logic */\n",
    "                     INNER JOIN DG6V19.BUS_PRTFOL_CLNT AS BCP\n",
    "                        ON  C.SNAP_DT  = BCP.MTH_END_DT\n",
    "                        AND c.clnt_no = BCP.CLNT_NO \n",
    "                        \n",
    "                    /* Inner join with roll-up rank hierarchy table to get Canadian banking clients */\n",
    "                 INNER JOIN DDWV01.ROLL_HIER_RELTN_RNK AS R\n",
    "                      ON  r.SNAP_DT  = c.snap_dt\n",
    "                          AND r.ORG_UNT_ID = c.resp_unt\n",
    "                          AND r.PARNT_HIER_TYP_ID = 80000 \n",
    "                          AND r.ROLL_ID_RANK_600 IN (80013,80029,80146,82314,83080,83081,83082,83091)\n",
    "            \n",
    "                  INNER JOIN DG6V19.bus_prtfol_lend as L\n",
    "                     ON L.clnt_no = C.clnt_no\n",
    "                         and L.mth_end_dt = C.snap_dt\n",
    "                    /*     --and L.mth_end_dt LE '2018-05-31'\n",
    "                         --and L.mth_end_dt >= '2016-05-31'*/\n",
    "            \n",
    "                  INNER JOIN DDWV01.MORTG_FINANCL_HIST as MT\n",
    "                    on MT.snap_dt = C.snap_dt\n",
    "                       and MT.DW_SRVC_ID = L.MIF_SRVC_ID\n",
    "                       and L.MIF_SRVC_ID = 21\n",
    "                       and MT.AR_ID = L.AR_ID\n",
    "                          \n",
    "            \n",
    "            where clnt_grp NOT IN ('OOO', 'SB')\n",
    "                  AND TOT_SN_EXP > 1000000\n",
    "                  and (c.clnt_sts='A' or c.clnt_sts is null) /* filter out inactive clients */\n",
    "                  and c.clnt_typ=2 /* keep only non-personal clients */\n",
    "            and C.snap_dt > '{start_snap_dt}' AND C.snap_dt < '{end_snap_dt}'\n",
    "    \"\"\"\n",
    "    return pd.read_sql(qry, connection)"
   ]
  },
  {
   "cell_type": "code",
   "execution_count": 20,
   "metadata": {},
   "outputs": [
    {
     "data": {
      "text/plain": [
       "(184833, 10)"
      ]
     },
     "execution_count": 20,
     "metadata": {},
     "output_type": "execute_result"
    }
   ],
   "source": [
    "start_snap_dt='2015-01-01'\n",
    "end_snap_dt='2016-01-01'\n",
    "df1 = pull_mort_hist(start_snap_dt, end_snap_dt)\n",
    "df1.shape"
   ]
  },
  {
   "cell_type": "code",
   "execution_count": 21,
   "metadata": {},
   "outputs": [],
   "source": [
    "df1.to_csv(raw_data_dir+'mort_hist_y1.csv', index=False)"
   ]
  },
  {
   "cell_type": "code",
   "execution_count": 22,
   "metadata": {},
   "outputs": [
    {
     "data": {
      "text/plain": [
       "(192398, 10)"
      ]
     },
     "execution_count": 22,
     "metadata": {},
     "output_type": "execute_result"
    }
   ],
   "source": [
    "start_snap_dt='2016-01-01'\n",
    "end_snap_dt='2017-01-01'\n",
    "df2 = pull_mort_hist(start_snap_dt, end_snap_dt)\n",
    "df2.shape"
   ]
  },
  {
   "cell_type": "code",
   "execution_count": 23,
   "metadata": {},
   "outputs": [],
   "source": [
    "df2.to_csv(raw_data_dir+'mort_hist_y2.csv', index=False)"
   ]
  },
  {
   "cell_type": "code",
   "execution_count": 24,
   "metadata": {},
   "outputs": [
    {
     "data": {
      "text/plain": [
       "(204829, 10)"
      ]
     },
     "execution_count": 24,
     "metadata": {},
     "output_type": "execute_result"
    }
   ],
   "source": [
    "start_snap_dt='2017-01-01'\n",
    "end_snap_dt='2018-01-01'\n",
    "df3 = pull_mort_hist(start_snap_dt, end_snap_dt)\n",
    "df3.shape"
   ]
  },
  {
   "cell_type": "code",
   "execution_count": 25,
   "metadata": {},
   "outputs": [],
   "source": [
    "df3.to_csv(raw_data_dir+'mort_hist_y3.csv', index=False)"
   ]
  },
  {
   "cell_type": "code",
   "execution_count": 26,
   "metadata": {},
   "outputs": [
    {
     "data": {
      "text/plain": [
       "(324810, 10)"
      ]
     },
     "execution_count": 26,
     "metadata": {},
     "output_type": "execute_result"
    }
   ],
   "source": [
    "start_snap_dt='2018-01-01'\n",
    "end_snap_dt='2019-07-01'\n",
    "df4 = pull_mort_hist(start_snap_dt, end_snap_dt)\n",
    "df4.shape"
   ]
  },
  {
   "cell_type": "code",
   "execution_count": 27,
   "metadata": {},
   "outputs": [],
   "source": [
    "df4.to_csv(raw_data_dir+'mort_hist_y4.csv', index=False)"
   ]
  },
  {
   "cell_type": "markdown",
   "metadata": {},
   "source": [
    "# Loan_Hist"
   ]
  },
  {
   "cell_type": "code",
   "execution_count": 28,
   "metadata": {},
   "outputs": [],
   "source": [
    "def pull_loan_hist(start_snap_dt, end_snap_dt):    \n",
    "    qry = f\"\"\"\\\n",
    "                    select \n",
    "                    /* month end date */\n",
    "                           C.SNAP_DT as mth_end_dt, \n",
    "                    /* client number */\n",
    "                           C.clnt_no , \n",
    "                    /* client group, used to define commercial and small business clients */\n",
    "                    case\n",
    "                                when (c.BSC in (190,192,200,202,250,490,590)\n",
    "                                        or (c.BSC in (310,500,502,504,505,510) and \n",
    "                                            (c.CURR_CMI_NO not in (100,101,102,103,\n",
    "                                                                    200,201,202,203, \n",
    "                                                                    300,301,302,303,\n",
    "                                                                    401,402,403,\n",
    "                                                                    501,502,503) or c.CURR_CMI_NO is NULL))\n",
    "                                     ) then 'COMM'\n",
    "\n",
    "                                when (c.BSC in (550,554,555)\n",
    "                                        and (c.CURR_CMI_NO not in (100,101,102,103,\n",
    "                                                                    200,201,202,203, \n",
    "                                                                    300,301,302,303,\n",
    "                                                                    401,402,403,\n",
    "                                                                    501,502,503) or c.CURR_CMI_NO is NULL)\n",
    "                                     ) then 'AG'\n",
    "                                when c.BSC in (330) then 'PUB'\n",
    "                                when (c.BSC in (310,500,502,504,505,510, 550,554,555) \n",
    "                                        and c.CURR_CMI_NO in (100,101,102,103,\n",
    "                                                                200,201,202,203,\n",
    "                                                                300,301,302,303,\n",
    "                                                                401,402,403,\n",
    "                                                                501,502,503)\n",
    "                                     )then 'SB'\n",
    "                                else 'OOO'\n",
    "                            end as Clnt_Grp,\n",
    "                          A.ar_id, /*-- arrangement id*/\n",
    "                          'A' || trim(A.ar_id) as t_ar_id, /* Added by QH 2018-11-08*/\n",
    "                          A.acct_sts_eff_dt, /*--account status effective date*/\n",
    "                          A.activatn_dt, /*-- activation date*/\n",
    "                          A.amort_end_dt, /*-- amortization end date - current*/\n",
    "                          A.amort_end_dt_orgnl, /*-- amortization end date - original*/\n",
    "                         A.clctn_ind,  /*-- collection indicator*/\n",
    "                         A.clctn_reas_cd, /*-- collection reason code*/\n",
    "                         A.tr_cur_dlq_strt_dt, /*-- current delinquent start date*/\n",
    "                         A.hi_bal, /*-- high balance*/\n",
    "                         A.hi_bal_dt,  /*-- high balnace date*/\n",
    "                         A.int_method, /*-- interest method*/\n",
    "                         A.int_unclct_due_dt, /*-- interest only due date*/\n",
    "                         A.int_only_pymt_freq, /*-- interest only payment frequency*/\n",
    "                         A.int_only_pymt_typ, /*-- interest only payment type*/\n",
    "                         A.int_pymt_inst_no, /*-- interest payment institution number*/\n",
    "                         A.int_rt_or_prem, /*-- interest rate or premium*/\n",
    "                         A.int_renew_dt, /*-- interest renewal date*/\n",
    "                         A.int_rule, /*-- interest rule*/\n",
    "                         A.int_trm_no_of_pymt, /*-- interest term - number of payments*/\n",
    "                         A.iss_renw_dt, /*-- issue/renewal date*/\n",
    "                         A.last_pymt_dt, /*-- last payment date*/\n",
    "                         A.lst_pymt_waivd_dt, /*-- last  payment waived date*/\n",
    "                         A.low_bal, /*-- low balance*/\n",
    "                        A.low_bal_dt, /*-- low balance date*/\n",
    "                        A.reneg_rduc_rt_ind, /*-- renegotiated reduced rate indicator*/\n",
    "                        A.renegotiatn_dt, /*-- renegotiation date*/\n",
    "                        A.tot_fees_clct, /*-- total fees collected*/\n",
    "                        A.tot_int_clct, /*-- total interest collected*/\n",
    "                        A.waived_pymt_cnt, /*-- waived payment count*/\n",
    "                        A.wrt_off_amt,  /*-- write off amount*/\n",
    "                        A.wrt_off_dt, /*-- write off date*/\n",
    "                        A.wrt_off_exist_ind,  /*-- write off recovery amount total*/\n",
    "                        A.wrt_off_rcvry_dt_last, /*-- write off last recovery date*/\n",
    "                        A.wrt_off_rcvry_amt_tot, /*-- write off recovery amount total */\n",
    "                        L.mif_srvc_id /*-- mif service id*/\n",
    "\n",
    "\n",
    "                    FROM DDWV01.rb_clnt AS C\t\n",
    "\n",
    "                            /* Inner join with roll-up rank hierarchy table to get Canadian banking clients */\n",
    "                         INNER JOIN DDWV01.ROLL_HIER_RELTN_RNK AS R\n",
    "                              ON  r.SNAP_DT  = c.snap_dt\n",
    "                                  AND r.ORG_UNT_ID = c.resp_unt\n",
    "                                  AND r.PARNT_HIER_TYP_ID = 80000 \n",
    "                                  AND r.ROLL_ID_RANK_600 IN (80013,80029,80146,82314,83080,83081,83082,83091)\n",
    "\n",
    "                         INNER JOIN DG6V19.bus_prtfol_lend as L\n",
    "                             on L.mth_end_dt = C.snap_dt\n",
    "                                and L.clnt_no = C.clnt_no\n",
    "                                /*--and L.mth_end_dt LE '2018-05-31'*/\n",
    "                                and L.mif_srvc_id = 20\n",
    "\n",
    "                         INNER JOIN DG6V19.loan_hist as A\n",
    "                             on A.mth_end_dt = L.mth_end_dt\n",
    "                                and A.ar_id = L.ar_id \n",
    "                                and A.mif_srvc_id = L.mif_srvc_id \n",
    "                                and A.mif_srvc_id = 20\n",
    "                                /*--and A.mth_end_dt LE '2018-05-31'*/\n",
    "\n",
    "                    where clnt_grp NOT IN ('SB') and clnt_grp NOT IN ('OOO')\n",
    "                          and (c.clnt_sts='A' or c.clnt_sts is null) /* filter out inactive clients */\n",
    "                          and c.clnt_typ=2 /* keep only non-personal clients */\n",
    "                    and c.snap_dt > '{start_snap_dt}' AND c.snap_dt < '{end_snap_dt}'\n",
    "            \"\"\"\n",
    "    return pd.read_sql(qry, connection)"
   ]
  },
  {
   "cell_type": "code",
   "execution_count": 29,
   "metadata": {},
   "outputs": [
    {
     "data": {
      "text/plain": [
       "(2451273, 39)"
      ]
     },
     "execution_count": 29,
     "metadata": {},
     "output_type": "execute_result"
    }
   ],
   "source": [
    "start_snap_dt='2015-01-01'\n",
    "end_snap_dt='2016-01-01'\n",
    "df1 = pull_loan_hist(start_snap_dt, end_snap_dt)\n",
    "df1.shape"
   ]
  },
  {
   "cell_type": "code",
   "execution_count": 30,
   "metadata": {},
   "outputs": [],
   "source": [
    "df1.to_csv(raw_data_dir+'loan_hist_y1.csv', index=False)"
   ]
  },
  {
   "cell_type": "code",
   "execution_count": 31,
   "metadata": {},
   "outputs": [
    {
     "data": {
      "text/plain": [
       "(2469950, 39)"
      ]
     },
     "execution_count": 31,
     "metadata": {},
     "output_type": "execute_result"
    }
   ],
   "source": [
    "start_snap_dt='2016-01-01'\n",
    "end_snap_dt='2017-01-01'\n",
    "df2 = pull_loan_hist(start_snap_dt, end_snap_dt)\n",
    "df2.shape"
   ]
  },
  {
   "cell_type": "code",
   "execution_count": 32,
   "metadata": {},
   "outputs": [],
   "source": [
    "df2.to_csv(raw_data_dir+'loan_hist_y2.csv', index=False)"
   ]
  },
  {
   "cell_type": "code",
   "execution_count": 33,
   "metadata": {},
   "outputs": [
    {
     "data": {
      "text/plain": [
       "(2504220, 39)"
      ]
     },
     "execution_count": 33,
     "metadata": {},
     "output_type": "execute_result"
    }
   ],
   "source": [
    "start_snap_dt='2017-01-01'\n",
    "end_snap_dt='2018-01-01'\n",
    "df3 = pull_loan_hist(start_snap_dt, end_snap_dt)\n",
    "df3.shape"
   ]
  },
  {
   "cell_type": "code",
   "execution_count": 34,
   "metadata": {},
   "outputs": [],
   "source": [
    "df3.to_csv(raw_data_dir+'loan_hist_y3.csv', index=False)"
   ]
  },
  {
   "cell_type": "code",
   "execution_count": 35,
   "metadata": {},
   "outputs": [
    {
     "data": {
      "text/plain": [
       "(3769933, 39)"
      ]
     },
     "execution_count": 35,
     "metadata": {},
     "output_type": "execute_result"
    }
   ],
   "source": [
    "start_snap_dt='2018-01-01'\n",
    "end_snap_dt='2019-07-01'\n",
    "df4 = pull_loan_hist(start_snap_dt, end_snap_dt)\n",
    "df4.shape"
   ]
  },
  {
   "cell_type": "code",
   "execution_count": 36,
   "metadata": {},
   "outputs": [],
   "source": [
    "df4.to_csv(raw_data_dir+'loan_hist_y4.csv', index=False)"
   ]
  },
  {
   "cell_type": "markdown",
   "metadata": {},
   "source": [
    "# Lend_General"
   ]
  },
  {
   "cell_type": "code",
   "execution_count": 4,
   "metadata": {},
   "outputs": [],
   "source": [
    "def pull_lend_general(start_snap_dt, end_snap_dt):    \n",
    "        qry = f\"\"\"\\\n",
    "                   select \n",
    "                    /* month end date */\n",
    "                           C.SNAP_DT as mth_end_dt, \n",
    "                    /* client number */\n",
    "                           C.clnt_no , \n",
    "                    /* client group, used to define commercial and small business clients */\n",
    "                    case\n",
    "                                when (c.BSC in (190,192,200,202,250,490,590)\n",
    "                                        or (c.BSC in (310,500,502,504,505,510) and \n",
    "                                            (c.CURR_CMI_NO not in (100,101,102,103,\n",
    "                                                                    200,201,202,203,\n",
    "                                                                    300,301,302,303,\n",
    "                                                                    401,402,403,\n",
    "                                                                    501,502,503) or c.CURR_CMI_NO is NULL))\n",
    "                                     ) then 'COMM'\n",
    "\n",
    "                                when (c.BSC in (550,554,555)\n",
    "                                        and (c.CURR_CMI_NO not in (100,101,102,103,\n",
    "                                                                    200,201,202,203, \n",
    "                                                                    300,301,302,303,\n",
    "                                                                    401,402,403,\n",
    "                                                                    501,502,503) or c.CURR_CMI_NO is NULL)\n",
    "                                     ) then 'AG'\n",
    "                                when c.BSC in (330) then 'PUB'\n",
    "                                when (c.BSC in (310,500,502,504,505,510, 550,554,555) \n",
    "                                        and c.CURR_CMI_NO in (100,101,102,103,\n",
    "                                                                200,201,202,203,\n",
    "                                                                300,301,302,303,\n",
    "                                                                401,402,403,\n",
    "                                                                501,502,503)\n",
    "                                     )then 'SB'\n",
    "                                else 'OOO'\n",
    "                            end as Clnt_Grp,\n",
    "                             /* consolidation indicator added on 2019-01-23 */\n",
    "                           C.CNSLN_NON_SURV_IND as cnsln_non_surv_ind,\n",
    "                    /*arrangement id*/\n",
    "                           L.ar_id ,   \n",
    "                           'A' || trim(L.ar_id) as t_ar_id, /* added by QH on 2018-11-07 */\n",
    "                    /*MIF service identifier,*/\n",
    "                           L.mif_srvc_id,\n",
    "                    /* product */\n",
    "                           PD. product,\n",
    "                    /*product open date*/\n",
    "                           L.dt_opened as product_dt_opened, \n",
    "                    /* loan status */\n",
    "                           L.ln_sts,\n",
    "                    /* Loan Description*/ \n",
    "                           L.ln_desc , \n",
    "                    /* close reason code in RBDM - more reliable */\n",
    "                           L.CL_REAS_CD as rbdm_cl_reas_cd, /*-- from performance monitoring*/\n",
    "                    /* close reason code in EDW */\n",
    "                           AR.CLS_REAS_CD as edw_cl_reas_cd,/* EDW close reason code, added on 2019-01-23 */\n",
    "                           AR.OPEN_CLS_STS as edw_open_cl_sts, /* EDW open close status, added on 2019-01-23 */  \n",
    "                           AR.DT_CLS as cls_dt, /* AR close date, added on 2019-01-23 */ \n",
    "                    /* write off info */\n",
    "                           L.wrt_off_dt, /* added on 2019-02-01 */\n",
    "                           L.wrt_off_exist_ind, /* added on 2019-02-01 */\n",
    "                           L.wrt_off_reas, /* added on 2019-02-01 */\n",
    "                           L.woff_to_dt_amt, /* added on 2019-02-01 */\n",
    "                           L.woff_mtd_amt, /* added on 2019-02-01 */\n",
    "                    /* Loan Type Code*/\n",
    "                           L.ln_tp_cd,  \n",
    "                    /* Interest Rule*/\n",
    "                           L.int_rule,  \n",
    "                    /* Month end balance*/ \n",
    "                           L.bal, \n",
    "                           LLL.av_bal_mth_len_cad as avg_bal,  /*-- This logic has been changed!!-> see the following*/\n",
    "                           case \n",
    "                                when L.MIF_SRVC_ID in (20, 37, 63, 64) then zeroifnull(Cast(TL.MTH_AV_BAL_BDTE * CE.RT_VAL as decimal(15,2))) \n",
    "                                when L.MIF_SRVC_ID = 21 then Cast(MS.AVG_BAL_MTH * CE.RT_VAL as decimal(15,2)) \n",
    "                                when L.MIF_SRVC_ID = 23 then\n",
    "                                                    zeroifnull(\n",
    "                                                    case \n",
    "                                                        when VM.DLY_AVG_BAL_MTH <= 0 then 0 \n",
    "                                                        when VM.VISA_PROD_CD in ('GUS', 'UXP') then Cast(VM.DLY_AVG_BAL_MTH * US.RT_VAL as decimal(15,2)) \n",
    "                                                        else VM.DLY_AVG_BAL_MTH\n",
    "                                                    end)\n",
    "                                when L.MIF_SRVC_ID in (25, 60) then L.BAL \n",
    "                                when L.MIF_SRVC_ID = 26 then Cast(TD.AVG_MTH_BAL_AMT * CE.RT_VAL as decimal(15,2)) \t\n",
    "                            end as avg_bal_new,\n",
    "\n",
    "                           L.mnemonic_desc,  /*--Detailed Loan description*/\n",
    "                           L.fac_id, /*-- facility id*/\n",
    "                           EXT.CARD_FAC_ID,\n",
    "                           /*\n",
    "                            Case\n",
    "                                when (L.FAC_ID is null or L.FAC_ID = '') then '00000000000000000000'\n",
    "                                else L.FAC_ID\n",
    "                            End as FAC_ID,\n",
    "                            */\n",
    "                           L.dlqy_amt_31_60,               /*-- Amount being delinquent between 30 and 60 days*/\n",
    "                           L.dlqy_amt_31_90,              /* --Amount being delinquent between 30 and 90 days*/\n",
    "                           L.dlqy_amt_61_90,              /*--Amount being delinquent between 60 and 90 days*/\n",
    "                           L.dlqy_amt_91_120,           /*-- Amount being delinquent between 90 and 120 days*/\n",
    "                           L.dlqy_amt_121,                 /*-- Amount being delinquent for more than 120 days*/\n",
    "                           L.tot_nal,                             /* -- Total non-accrual outstanding*/\n",
    "                           L.nal_dlqy_amt_91,            /*--Amount non-accrual or delinquent more than 90 days*/\n",
    "                           L.dlqy_strt_dt,               /*--Delinquency start date, added on 11-19-2020*/ \n",
    "                           L.tot_days_late,              /* added on 11-19-2020*/\n",
    "                           L.tot_dlq,                    /* added on 11-19-2020*/\n",
    "\n",
    "                           case\n",
    "                             when LL.dw_srvc_id = 20 then LL.int_rt_or_prem\n",
    "                             when LL.dw_srvc_id = 21 then LL.int_rt_or_prem * 100\n",
    "                             else LL.int_rt_or_prem\n",
    "                           end as client_pop, /*--interest rate or premium*/\n",
    "\n",
    "                           LL.int_base_rate AS client_int_base_rate, /*--interest base rate*/\n",
    "                           LL.int_rt_addn * 100 as int_rt_addn, /*--interest rate addition*/\n",
    "\n",
    "                           LL.amort_trm_in_mth , /*-- ammortization term*/\n",
    "                           LL.trm_in_mth , \n",
    "                           LL.cost_f_fnds_ntrst ,\n",
    "                           LL.int_renw_dt_lst ,\n",
    "\n",
    "                           case\n",
    "                             when L.mif_srvc_id = 20 and L.int_rule in ('3' , '03', '53', '20') then  LL.int_base_rate\n",
    "                             when L.mif_srvc_id = 20 and L.int_rule in ('4', '04', '9', '09', '10', '54') then  zeroifnull(LL.int_base_rate) + zeroifnull(LL.int_rt_or_prem) \n",
    "                             when L.mif_srvc_id = 21 then  zeroifnull(LL.int_rt_or_prem) * 100  + zeroifnull(LL.int_rt_addn) * 100\n",
    "                             else 0 /*only mif_sid = 37 has Null interest rate and base and pop are zeros in dm */\n",
    "                           end as client_rate, /*-- Client Interest Rate*/\n",
    "\n",
    "                           V.cash_apr as visa_cash_apr, /*--cash APR*/\n",
    "                           V.prch_apr as visa_prch_apr, /*-- visa APR*/\n",
    "                           VV.cr_lmt /*-- credit limit*/\n",
    "\n",
    "\n",
    "                    from DDWV01.RB_CLNT as C\n",
    "                \n",
    "                     /*Neo Added Logic */\n",
    "                     INNER JOIN DG6V19.BUS_PRTFOL_CLNT AS BCP\n",
    "                        ON  C.SNAP_DT  = BCP.MTH_END_DT\n",
    "                        AND c.clnt_no = BCP.CLNT_NO                         \n",
    "                        \n",
    "                        /* Inner join with roll-up rank hierarchy table to get Canadian banking clients */\n",
    "                         INNER JOIN DDWV01.ROLL_HIER_RELTN_RNK AS R\n",
    "                              ON  r.SNAP_DT  = c.snap_dt\n",
    "                                  AND r.ORG_UNT_ID = c.resp_unt\n",
    "                                  AND r.PARNT_HIER_TYP_ID = 80000 \n",
    "                                  AND r.ROLL_ID_RANK_600 IN (80013,80029,80146,82314,83080,83081,83082,83091)\n",
    "\n",
    "                        /* lending info in business portfolio lend table */\n",
    "                          INNER JOIN DG6V19.bus_prtfol_lend as L\n",
    "                             ON L.clnt_no = C.clnt_no\n",
    "                                 and L.mth_end_dt = c.snap_dt\n",
    "                            /*     --and L.mth_end_dt LE '2018-05-31'\n",
    "                                 --and L.mth_end_dt >= '2016-05-31'*/\n",
    "\n",
    "                          LEFT JOIN DDWV01.loan_info_tact as LL \n",
    "                               ON LL.ar_id = L.ar_id\n",
    "                                  and LL.snap_dt = L.mth_end_dt\n",
    "                                  and LL.dw_srvc_id = L.mif_srvc_id  /*-- added on 4th July, 2018, checkding by Kevin Ma\n",
    "                                  */\n",
    "                          LEFT JOIN DG6V19.bus_comm_rpt_lend_hist AS LLL /*min me_dt is 2011 Aug */\n",
    "                              ON L.clnt_no = LLL.cd_primary_ipn\n",
    "                                 and L.ar_id = LLL.prod_no\n",
    "                                 and L.mif_srvc_id = LLL.mif_srvc_id\n",
    "                                 and L.mth_end_dt = LLL.snap_dt\n",
    "                                 /*--and LLL.snap_dt LE '2018-05-31'\n",
    "                                 --and LLL.snap_dt >= '2016-05-31'*/\n",
    "\n",
    "                          LEFT JOIN P3C.visa_mth_triadbill as V /*min me_dt 2004 Feb */\n",
    "                              ON V.clnt_no = L.clnt_no\n",
    "                                 and V.acct_no = L.ar_id\n",
    "                                 and V.me_dt = L.mth_end_dt\n",
    "                        /*\t\t --and V.me_dt LE '2018-05-31'\n",
    "                                 --and V.me_dt >= '2016-05-31'\t*/\t \n",
    "\n",
    "                          LEFT JOIN DG6V19.VISA_NEW_HIST as VV \n",
    "                          ON VV.ar_id = L.ar_id\n",
    "                                  and VV.mth_end_dt = L.mth_end_dt\n",
    "                                  and VV.mif_srvc_id = L.mif_srvc_id\n",
    "\n",
    "\n",
    "                            /*--The following tables are added in the monitoring SAS code*/\n",
    "                            inner join DG6V19.ARNGMNT_OWN_HIST as AO\n",
    "                                                 on AO.AR_ID = L.AR_ID\n",
    "                                                and AO.CLNT_NO = L.CLNT_NO\n",
    "                                                and AO.MTH_END_DT = L.MTH_END_DT\n",
    "                                                and AO.MIF_SRVC_ID = L.MIF_SRVC_ID\n",
    "                                                and AO.PRMRY_ALT_IND = 'P'\n",
    "                                                and AO.MIF_SRVC_ID in (2,20,21,23,25,26,37,60,63,64) \n",
    "\n",
    "                            inner join DG6V19.ARNGMNT_HIST as AH\n",
    "                                                 on AH.MIF_ACCT_NO = AO.MIF_ACCT_NO\n",
    "                                                and AH.MIF_SRVC_ID = AO.MIF_SRVC_ID\n",
    "                                                and AH.MTH_END_DT = AO.MTH_END_DT\n",
    "                                                and AH.AR_ID = AO.AR_ID\n",
    "                                                and AH.MIF_SRVC_ID in (2,20,21,23,25,26,37,60,63,64)\n",
    "                            /* The following is added to extract the close date from AR on 2019-01-23*/\n",
    "                            left join DDWV01.AR as AR\n",
    "                                                on AO.AR_ID = AR.AR_ID\n",
    "                                                and AO.MTH_END_DT = AR.SNAP_DT \n",
    "                                                and AO.MIF_SRVC_ID = AR.SRVC_ID\n",
    "\n",
    "                            left join DG6V19.MORTG_MTHLY_STAT as MS\n",
    "                                                 on MS.MIF_ACCT_NO = AH.MIF_ACCT_NO \n",
    "                                                and MS.MIF_SRVC_ID = AH.MIF_SRVC_ID  \n",
    "                                                and MS.MTH_END_DT = AH.MTH_END_DT\t\n",
    "                                                and MS.MIF_SRVC_ID = 21\n",
    "\n",
    "                            left join DG6V19.CRNCY_EXCH_RT as CE\n",
    "                                                 on CE.CRNCY_CD = AH.CRNCY_CD\n",
    "                                                and CE.MTH_END_DT = AH.MTH_END_DT \n",
    "                                                and CE.RT_TYP = '1'\t\n",
    "\n",
    "                            left join DG6V19.CRNCY_EXCH_RT as US\n",
    "                                                 on US.MTH_END_DT = AH.MTH_END_DT \n",
    "                                                and US.CRNCY_CD = 'USD'\n",
    "                                                and US.RT_TYP = '1'\n",
    "\n",
    "                           left join DDWV01.TLN_LOANS_HIST as TL\n",
    "                           on TL.AR_ID = L.AR_ID\n",
    "                                and TL.SNAP_DT = L.MTH_END_DT\n",
    "                                and TL.DW_SRVC_ID = L.MIF_SRVC_ID\n",
    "                                and TL.DW_SRVC_ID in (20,37,63,64)\n",
    "\n",
    "                           left join DG6V19.TRD_AR_HIST as TD\n",
    "                           on TD.AR_ID = L.AR_ID\n",
    "                                 and TD.MIF_SRVC_ID = L.MIF_SRVC_ID\n",
    "                                 and TD.MTH_END_DT = L.MTH_END_DT\n",
    "                                 and TD.MIF_SRVC_ID = 26\n",
    "\n",
    "\n",
    "                            left join P3C.VISA_ACCT_MTH_ST_R as VM\n",
    "                            on CAST(VM.ACCT_NO as FORMAT'9(20)') = L.AR_ID\n",
    "                                  and VM.ME_DT = L.MTH_END_DT     \n",
    "                                  and VM.SRVC_ID = 22\n",
    "                                  and L.MIF_SRVC_ID = 23\n",
    "\n",
    "                            left join DL_Fortis.fortis_prd_hist as PD\n",
    "                            on    C.CLNT_NO = PD.CLNT_NO and /* This was added to reduce duplicates QH, 2018-09-10 */\n",
    "                                  L.AR_ID = PD.ar_id and\n",
    "                                  c.snap_dt = PD.mth_end_dt\n",
    "                                  and L.MIF_SRVC_ID = PD.MIF_SRVC_ID /* This was added to reduce duplicates QH, 2018-09-10 */\n",
    "\n",
    "                            /* The following is to add facility id for MIF_SRVC_ID = 23(visa) */\n",
    "                            left join DL_EXT.dl_LEND_EXT as EXT\n",
    "                            on EXT.clnt_no = C.clnt_no\n",
    "                               and EXT.mth_end_dt = c.snap_dt\n",
    "                               and EXT.MIF_SRVC_ID = L.MIF_SRVC_ID\n",
    "                               and L.MIF_SRVC_ID = 23\n",
    "                               and EXT.AR_ID = L.AR_ID\n",
    "\n",
    "                    where \n",
    "                          clnt_grp NOT IN ('SB') and clnt_grp NOT IN ('OOO')\n",
    "                          AND TOT_SN_EXP > 1000000\n",
    "                          and (c.clnt_sts='A' or c.clnt_sts is null) /* filter out inactive clients */\n",
    "                          and c.clnt_typ=2 /* keep only non-personal clients */                  \n",
    "                          and c.snap_dt > '{start_snap_dt}' AND c.snap_dt < '{end_snap_dt}'\n",
    "            \"\"\"\n",
    "        return pd.read_sql(qry, connection)"
   ]
  },
  {
   "cell_type": "code",
   "execution_count": 5,
   "metadata": {},
   "outputs": [
    {
     "data": {
      "text/plain": [
       "(4511262, 49)"
      ]
     },
     "execution_count": 5,
     "metadata": {},
     "output_type": "execute_result"
    }
   ],
   "source": [
    "start_snap_dt='2015-01-01'\n",
    "end_snap_dt='2016-01-01'\n",
    "df1 = pull_lend_general(start_snap_dt, end_snap_dt)\n",
    "df1.shape"
   ]
  },
  {
   "cell_type": "code",
   "execution_count": 6,
   "metadata": {},
   "outputs": [],
   "source": [
    "df1.to_csv(raw_data_dir+'lend_general_y1.csv', index=False)"
   ]
  },
  {
   "cell_type": "code",
   "execution_count": 7,
   "metadata": {},
   "outputs": [
    {
     "data": {
      "text/plain": [
       "(4600664, 49)"
      ]
     },
     "execution_count": 7,
     "metadata": {},
     "output_type": "execute_result"
    }
   ],
   "source": [
    "start_snap_dt='2016-01-01'\n",
    "end_snap_dt='2017-01-01'\n",
    "df2 = pull_lend_general(start_snap_dt, end_snap_dt)\n",
    "df2.shape"
   ]
  },
  {
   "cell_type": "code",
   "execution_count": 8,
   "metadata": {},
   "outputs": [],
   "source": [
    "df2.to_csv(raw_data_dir+'lend_general_y2.csv', index=False)"
   ]
  },
  {
   "cell_type": "code",
   "execution_count": 9,
   "metadata": {},
   "outputs": [
    {
     "data": {
      "text/plain": [
       "(4591727, 49)"
      ]
     },
     "execution_count": 9,
     "metadata": {},
     "output_type": "execute_result"
    }
   ],
   "source": [
    "start_snap_dt='2017-01-01'\n",
    "end_snap_dt='2018-01-01'\n",
    "df3 = pull_lend_general(start_snap_dt, end_snap_dt)\n",
    "df3.shape"
   ]
  },
  {
   "cell_type": "code",
   "execution_count": 10,
   "metadata": {},
   "outputs": [],
   "source": [
    "df3.to_csv(raw_data_dir+'lend_general_y3.csv', index=False)"
   ]
  },
  {
   "cell_type": "code",
   "execution_count": 11,
   "metadata": {},
   "outputs": [
    {
     "data": {
      "text/plain": [
       "(7307761, 49)"
      ]
     },
     "execution_count": 11,
     "metadata": {},
     "output_type": "execute_result"
    }
   ],
   "source": [
    "start_snap_dt='2018-01-01'\n",
    "end_snap_dt='2019-07-01'\n",
    "df4 = pull_lend_general(start_snap_dt, end_snap_dt)\n",
    "df4.shape"
   ]
  },
  {
   "cell_type": "code",
   "execution_count": 12,
   "metadata": {},
   "outputs": [],
   "source": [
    "df4.to_csv(raw_data_dir+'lend_general_y4.csv', index=False)"
   ]
  },
  {
   "cell_type": "markdown",
   "metadata": {},
   "source": [
    "# Financials"
   ]
  },
  {
   "cell_type": "code",
   "execution_count": null,
   "metadata": {},
   "outputs": [],
   "source": [
    "inancial_qry = f\"\"\"\\\n",
    "    SELECT \n",
    "     /*-- Snap Shot Date*/\n",
    "    F.SNAP_DT,\n",
    "    /*-- Client SRF - an internal RBC Client Identification Number*/\n",
    "    F.CLNT_NO,        \n",
    "    /* client group, used to define commercial and small business clients */\n",
    "    case\n",
    "                when (c.BSC in (190,192,200,202,250,490,590)\n",
    "                        or (c.BSC in (310,500,502,504,505,510) and \n",
    "                            (c.CURR_CMI_NO not in (100,101,102,103,\n",
    "                                                    200,201,202,203, \n",
    "                                                    300,301,302,303,\n",
    "                                                    401,402,403,\n",
    "                                                    501,502,503) or c.CURR_CMI_NO is NULL))\n",
    "                     ) then 'COMM'\n",
    "\n",
    "                when (c.BSC in (550,554,555)\n",
    "                        and (c.CURR_CMI_NO not in (100,101,102,103,\n",
    "                                                    200,201,202,203,\n",
    "                                                    300,301,302,303,\n",
    "                                                    401,402,403,\n",
    "                                                    501,502,503) or c.CURR_CMI_NO is NULL)\n",
    "                     ) then 'AG'\n",
    "                when c.BSC in (330) then 'PUB'\n",
    "                when (c.BSC in (310,500,502,504,505,510, 550,554,555) \n",
    "                        and c.CURR_CMI_NO in (100,101,102,103,\n",
    "                                                200,201,202,203, \n",
    "                                                300,301,302,303,\n",
    "                                                401,402,403,\n",
    "                                                501,502,503)\n",
    "                     )then 'SB'\n",
    "                else 'OOO'\n",
    "            end as Clnt_Grp,\n",
    "    /*-- A unique statement ID for each financial statement.*/\n",
    "    F.STMT_ID,  \n",
    "    /*-- System Source ID*/\n",
    "    F.SYS_SRC_ID,    \n",
    "\n",
    "    /* --  The sum of all expenses on the income statement that have not been paid or logged under accounts payable during an accounting period; \n",
    "     --  in other words, obligations for goods and services provided to a company for which invoices have not yet been received. */\n",
    "     TOT_ACCR_LBLTY_AMT, \n",
    "\n",
    "    /* -- A trade payable is an amount billed to a company by its suppliers for goods delivered to or services consumed by the company in the ordinary course of business. \n",
    "     --Trade payables are recorded in a separate accounts payable account, with a credit to the accounts payable account and a debit to whichever account most closely \n",
    "     -- represents the nature of the payment, such as an expense or an asset.*/\n",
    "     AP_TRD_AMT,    \n",
    "\n",
    "    /*-- Other accounts receivable are financial assets consisting of non-trade advances and other items due to be received.*/\n",
    "     AR_OTH_AMT,   \n",
    "\n",
    "    /*  -- Trade receivables are amounts billed by a business to its customers when it delivers goods or services to them in the ordinary course of business. \n",
    "      -- These billings are typically documented on formal invoices, which are summarized in an accounts receivable aging report.*/\n",
    "     AR_TRD_AMT, \n",
    "\n",
    "    /*-- The cumulative depreciation of an asset up to a single point in its life. \n",
    "    -- Regardless of the method used to calculate it, the depreciation of an asset during a single period is added to the previous period's accumulated depreciation \n",
    "    -- to get the current accumulated depreciation.*/\n",
    "     ACCUM_DEPR_AMT,  \n",
    "\n",
    "    /*-- The amount of money that a company has left over after all corporate income and withholding taxes have been deducted from taxable income. \n",
    "    -- After-tax income represents the amount of disposable income that a firm has to spend on future investments or on present consumption.*/\n",
    "     AFT_TX_INCM_AMT, \n",
    "\n",
    "    /*-- Amortization expense is the write-off of an asset over its expected period of use, which reflects the consumption of the asset.*/\n",
    "     AMORT_EXPNC_AMT,  \n",
    "\n",
    "    /*-- \"Audit Method John - French & English mixed.  use ref code?  TBD\"*/\n",
    "     ADT_MTHD_NM,  \n",
    "\n",
    "    /*-Cash is the most liquid asset a company can own. A company's cash account includes all currency and coins owned by the company as well as all \n",
    "      -- deposits in the bank including checking accounts and savings accounts. Cash also includes instruments or contracts that can be deposited in a bank account like vendee checks, \n",
    "      -- customer checks, cashier's checks, certified checks, as well as money orders.*/\n",
    "     CSH_AMT,  \n",
    "\n",
    "     /*-- Whether depreciation is included in cost of goods sold or in operating expenses depends on the type of asset being depreciated. \n",
    "       -- Depreciation is listed with cost of goods sold if the expense associated with the fixed asset is used in the direct production of inventory.*/\n",
    "     COGS_DEPR_AMT,  \n",
    "\n",
    "    /*-- This is a long term asset account that records the accumulated cost of a project (typically, applied to capital budget items) that has not yet been completed. \n",
    "      --When the project is finished and placed into the service, the cost is removed from this account and is recorded in a related long-term asset account. \n",
    "     --This asset item is not depreciated until the asset is placed in service. Normally, upon completion, a CIP item is reclassified, and the reclassified asset is capitalized and depreciated.*/\n",
    "     CONST_IN_PRGRS_AMT, \n",
    "\n",
    "    /*-- The direct costs attributable to the production of the goods sold by a company. \n",
    "       -- This amount includes the cost of the materials used in creating the good along with the direct labor costs used to produce the good.*/\n",
    "     COGS_AMT,  \n",
    "\n",
    "    /*--COST IN EXCESS OF BILLINGS, in percentage of completion method, is when the billings on uncompleted contracts are less than the income earned to date.*/\n",
    "     CST_IN_EXCS_OF_BL_AMT, \n",
    "\n",
    "     /*--A portion of the balance sheet that represents the total amount of long-term debt that must be paid within the next year. */\n",
    "     CURR_POR_OF_LT_DEBT_AMT, \n",
    "\n",
    "    /*--Subordinated debts are repayable after other debts have been paid, meaning they are more risky for the lender of the money. The debts may be secured or unsecured. Subordinated debt typically has a lower credit rating, and, therefore, a higher yield than senior debt.*/\n",
    "     CURR_POR_OF_SUB_DEBT_AMT, \n",
    "\n",
    "    /*--Depreciation expense is the allocated portion of the cost of a company's fixed assets that is appropriate for the accounting period indicated on the company's income statement.*/\n",
    "     DEPR_EXPNC_AMT, \n",
    "\n",
    "    /*-- Dividends payable are dividends that a company's board of directors has declared to be payable to its shareholders. Until such time as the company actually pays the shareholders, the cash amount of the dividend is recorded within a dividends payable account as a current liability.*/\n",
    "     DVDND_PYBL_AMT, \n",
    "\n",
    "     /*--The aggregate amount of receivables to be collected from related parties where one party can exercise control or significant influence over another party, including affiliates, owners or officers and their immediate families, pension trusts, and so forth, at the financial statement date. These receivables are usually due within one year (or one business cycle).*/\n",
    "     DUE_TO_REL_PRTY_AMT, \n",
    "\n",
    "     /*-- Dividends on an ESOP - a retirement plan that is designed to provide employees with an ownership interest in the company for which they work by investing primarily in stock of the employer.*/\n",
    "     ESOP_DVDND_AMT, \n",
    "\n",
    "     /*--Finished goods are goods that have completed the manufacturing process but have not yet been sold or distributed to the end user.*/\n",
    "     FINSHD_GDS_INVTY_AMT, \n",
    "\n",
    "    /* --Assets that are purchased for long-term use and are not likely to be converted quickly into cash, such as land, buildings, and equipment.*/\n",
    "     FIX_AST_AMT, \n",
    "\n",
    "     /*-- The amount of income tax that is associated with (matches) the net income reported on the company's income statement. This amount will likely be different than the income taxes actually payable, since some of the revenues and expenses reported on the tax return will be different from the amounts on the income statement.*/\n",
    "     INCM_TX_EXPNC_AMT, \n",
    "\n",
    "    /*-- Income tax receivable is money a company expects from tax revenue agencies. */\n",
    "     INCM_TX_RCV_AMT, \n",
    "\n",
    "    /*-- Interest expense is the cost of debt that has occurred during a specified period of time.*/\n",
    "     INT_EXPNC_AMT, \n",
    "\n",
    "    /*-- The term that companies use on their income statement for reporting the interest earned on cash temporarily held in savings accounts, certificates of deposits, or other investments. Because the interest wasn't part of the original investment, they record it separately, as interest income.*/\n",
    "     INT_INCM_AMT, \n",
    "\n",
    "    /*-- A long-term asset account that reports the cost of real property exclusive of the cost of any constructed assets on the property. Land usually appears as the first item under the balance sheet heading of Property, Plant and Equipment. Generally, land is not depreciated.*/\n",
    "     LAND_AMT, \n",
    "\n",
    "    /* -- \"The expense recorded when the company does not have the rights of ownership of an asset but has been allowed the use of an asset. An operating lease is not capitalized; it is accounted for as a rental expense in what is known as \"\"off balance sheet financing.\"\" */\n",
    "     LSE_RENT_EXPNC_AMT, \n",
    "\n",
    "     /*-- The LIFO reserve is the difference between the accounting cost of an inventory that is calculated using the FIFO method, and one using the LIFO method. */\n",
    "     LIFO_RES_AMT, \n",
    "\n",
    "     /*-- Loans and financial obligations lasting over one year. Long-term debt for a company would include any financing or leasing obligations that are to come due in a greater than 12-month period. Such obligations would include company bond issues or long-term leases that have been capitalized on a firm's balance sheet.*/\n",
    "     LT_DEBT_AMT, \n",
    "\n",
    "    /* --\"Marketable securities are unrestricted financial instruments which can be readily sold on a stock exchange or bond exchange. Marketable securities are often classified into two groups: marketable equity securities and marketable debt securities.\"*/\n",
    "     MRK_SCTY_AMT,  \n",
    "\n",
    "     /*-- Net operating profit refers to the amount of money that a company has earned after the cost of goods sold and operating expenses have been deducted.*/\n",
    "     NET_OPER_PROF_AMT, \n",
    "     /*-- Net sales are operating revenues earned by a company for selling its products or rendering its services. Also referred to as revenue, they are reported directly on the income statement as Sales or Net sales*/\n",
    "     NET_SALE_AMT,  \n",
    "     /*-- A non-operating asset is an asset that generates income, but is unrelated to the core operations of the company.*/\n",
    "     NON_OPER_CURR_AST_AMT, \n",
    "     /*-- \"Accumulated other comprehensive income is a subsection in equity where \"\"other comprehensive income\"\" is accumulated (summed or \"\"aggregated\"\"). The balance of AOCI is presented in the Equity section of the Balance Sheet as is the Retained Earnings balance, which aggregates past and current Earnings, and past and current Dividends.\".*/\n",
    "     OTH_COMP_INCM_AMT, \n",
    "     OTH_INVTY_AMT,\n",
    "     /*-- Revenue generating assets that have not been documented elsewhere as an Operating Asset.*/\n",
    "     OTH_OPER_AST_AMT, \n",
    "    /*-- An overdraft occurs when money is withdrawn from a bank account and the available balance goes below zero. In this situation the account is said to be \"overdrawn\". */\n",
    "     OD_AMT,   \n",
    "     /*-- \"A profitability measure that looks at a company's profits before the company has to pay corporate income tax. This measure deducts all expenses from revenue including interest expenses and operating expenses, but it leaves out the payment of tax. \"*/\n",
    "     PROF_BEF_TX_AMT, \n",
    "     /*-- \"A company's stock of the basic material from which a product is manufactured.\"*/\n",
    "     RAW_MATL_INVTY_AMT, \n",
    "     /*--\"Reported on the income statement, it is the sum of all direct and indirect selling expenses and all general and administrative expenses of a company. \"*/\n",
    "     SELL_AND_GNRL_EXPNC_AMT, \n",
    "     /*-- Source currency code.*/\n",
    "     SRC_CRNCY_CD, \n",
    "     /*-- The end date of the accounting period for which the financial statements were prepared.*/\n",
    "     STMT_DT,  \n",
    "    /*-- Denotes the number of months in the accounting period captured by the financial statement.*/\n",
    "     STMT_MTH_CNT,  \n",
    "    /*-- \"A loan scheduled to be repaid in less than a year \"*/\n",
    "     SHRT_TRM_LN_PYBL_AMT,  \n",
    "     /*-- Debt which ranks after other debts if a company falls into liquidation or bankruptcy.*/\n",
    "     SUB_DEBT_LBLTY_AMT, \n",
    "    /*  -- Work in Progress???.*/\n",
    "     WIP_INVTY_AMT, \n",
    "    /*-- Trade receivables (Net) are all accounts from trade, net of allowance for doutful accounts.*/\n",
    "     NET_TRD_AR_AMT,  \n",
    "    /*-- The amount by which assets exceed liabilities.*/\n",
    "     TOT_NET_WORTH_AMT, \n",
    "    /*-- A balance sheet account that represents the value of all assets that are reasonably expected to be converted to cash within one year in the normal course of business.*/\n",
    "     TOT_CURR_AST_AMT, \n",
    "     /*-- A company's debts or obligations that are due within one year. Current Liabilities appears on the balance sheet and include short term debt, accounts payable, accrued liabilities, and other debt.*/\n",
    "     TOT_CURR_LBLTY_AMT,   \n",
    "     /*-- The aggregate of all debts a company is liable for. Total Liabilities is calculated by summing all short term and long term liabilities.*/\n",
    "     TOT_LBLTY_AMT,   \n",
    "      /*-- The direct costs attributable to the production of goods sold by a company. Includes cost of materials and direct labour costs used to produce the good. It excludes indirect expenses. It appears on the income statement and is deducted from revenue to calculate gross margin. Also referred to as \"cost of sales.\"*/\n",
    "     TOT_COGS_AMT, \n",
    "     /*-- A companies debt, such as bonds, long-term notes payable, or debentures that will mature in more than one year or one business cycle. Classified as funded debt as it is funded by interest payments over the term of the loan. Synonymous with long term debt.*/\n",
    "     NET_FND_DEBT_AMT,  \n",
    "     /*-- Debt service coverage ratio (DSCR) also known as the debt coverage ratio (DCR) is the ratio of cash available for debt servicing for interest, principal, and lease payments. It is calculated as Net Operating Income/Debt Services. It is a popular benchmark used in the measurement of an entity's ability to produce enough cash to cover its debt (including lease payments).*/\n",
    "     DEBT_SRVC_CVRG_RATO,  \n",
    "     /*-- Investment securities that are short term, have high credit quality, and are highly liquid. They include government treasury bills, bank certificates of deposit, corporate commercial paper, and other money market instruments.*/\n",
    "     CSH_AND_EQUIV_AMT,  \n",
    "     /*-- \"Identifies the accounting standard or generally accepted account principles (GAAP) applied during the preparation of the financial statements. \"*/\n",
    "     ACCTG_STD_NM,  \n",
    "    /*-- The sum of all raw materials, work-in-process goods, and completely finished goods that are considered to be the portion of a business's assets that are ready or will be ready for sale.*/\n",
    "     TOT_INVTY_AMT,  \n",
    "    /*-- Gross Fixed Assets is the purchase price of all fixed assets (Land, buildings, equipment, machinery, vehicles, leasehold improvements) before taking into account the accumulated depreciation or consumption of the fixed assets.*/\n",
    "     GRS_FIX_AST_AMT,  \n",
    "     /*-- Net Fixed Assets is the purchase price of all fixed assets (Land, buildings, equipment, machinery, vehicles, leasehold improvements) less accumulated Depreciation.*/\n",
    "\n",
    "     NET_FIX_AST_AMT,  \n",
    "     /*-- A company's long term investments, where the full value will not be realized within the accounting year. Noncurrent assets are capitalized rather than expensed, meaning that the company allocates the cost of the asset over a number of years for which the asset will be in use, instead of allocating the entire cost to the accounting year in which the asset was purchased.*/\n",
    "     TOT_NON_CURR_AST_AMT,  \n",
    "     /*-- A company's long term financial obligations that are not due within the present accounting year. Examples are long-term borrowing, bonds payable, and long-term lease obligations.*/\n",
    "     TOT_NON_CURR_LBLTY_AMT, \n",
    "     /*-- A measure of a company's financial leverage calculated by dividing its total liabilities by stockholders equity. It indicates what proportion of equity the company is using to finance its assets. Also called Debt/Equity Ratio.*/\n",
    "     TOT_LBLTY_NET_WORTH_AMT,  \n",
    "     /*-- A measure of overall sales that is not adjusted for customer discounts or returns, calculated by simply adding all sales invoices, and not including operating expenses, cost of goods sold, payment of taxes, or any other charge.*/\n",
    "     GRS_SALE_AMT,  \n",
    "     /*-- A company's revenue minus its cost of goods sold. Gross profit is a company's residual profit after selling a product/service and deducting the cost associated with its production and sale. Also called gross margin.*/\n",
    "     GRS_PROF_AMT,  \n",
    "     /*-- Those expenditures that a business incurs to engage in any activities not directly associated with the production of goods or services.*/\n",
    "     OPER_EXPNC_AMT,  \n",
    "     /*-- The financial payments and non monetary benefits provided to high level management in exchange for their work on behalf of an organization.*/\n",
    "     OFFCR_COMPEN_AMT, \n",
    "     /*-- The sum of operating expenses which are any expenses associated with the general, sales, and administrative functions of an entity.*/\n",
    "     TOT_OPER_EXPNC_AMT,  \n",
    "     /*-- Expenses incurred related to the income earned from activities other than normal business operations, such as investment interest, foreign exchange gains (losses), and profit (loss) from the sale of non-inventory assets.*/\n",
    "     TOT_OTH_INCM_EXPNC_AMT,  \n",
    "     /*--The amount of income tax that is associated with (matches) the net income reported on the company's income statement. This amount will likely be different than the income taxes actually payable, since some of the revenue and expenses on the tax return will be different from the amounts on the income statement.*/\n",
    "     NET_INCM_TX_EXPNC_AMT,   \n",
    "     /*--This represents net profit before being adjusted for extraordinary items. Extraordinary items are gains and losses which are infrequent and atypical in nature. They are accounted for separately so they don't skew the company's regular earnings.*/\n",
    "    PROF_BEF_EXTRORD_ITM_AMT,   \n",
    "\n",
    "    /*--Often referred to as the bottom line, net profit is calculated by subtracting a company's total expenses from total revenue, thus showing what a company has earned (or lost) in a given period of time.*/\n",
    "    NET_PROF_AMT,   \n",
    "    /*--Comprehensive income is the change in equity of a business enterprise during a period from transactions and other events from non-owner sources. It includes all non-owner changes in equity (in contrast to net income which does not include some changes in equity).*/\n",
    "    COMP_INCM_AMT,   \n",
    "    /*--The capital of a business that is used in its day-to-day trading operations, calculated as the current assets minus the current liabilities.*/\n",
    "    WRK_CAPTL_AMT,   \n",
    "    /*--An indicator of a company's short-term liquidity. The quick ratio measures a company's ability to meet its short-term obligations with its most liquid assets. */\n",
    "    QUICK_RATO,   \n",
    "     /*--A liquidity ratio that measures a company's ability to pay short-term obligations.*/\n",
    "    CURR_RATO,  \n",
    "    /*--A measure of the physical worth of a company, which does not include any value derived from intangible assets such as copyrights, patents and intellectual property. Tangible net worth is calculated by taking a firm's total assets and subtracting the value of all liabilities and intangible assets.*/\n",
    "    TANGBL_NET_WORTH_AMT, \n",
    "    /*--Debt to tangible net worth is a derivative of the debt-to-equity ratio. */\n",
    "    DEBT_TO_TOT_NET_WORTH_RATO,   \n",
    "    /*--The liabilities to assets ratio is a solvency ratio that examines how much of a company's assets are financed by liabilities.*/\n",
    "    LIABS_TO_AST_RATO, \n",
    "     /*--A ratio used to determine how easily a company can pay interest on outstanding debt from its earnings before interest and taxes. */\n",
    "    INT_CVRG_RATO,  \n",
    "    /*--A measure of the earnings of a company that adds the interest expense, depreciation and amortization back to the net income number, but takes the tax expense into consideration.*/\n",
    "    EBIDA_AMT,  \n",
    "    /*--The fixed charge coverage ratio measures a firm's ability to pay all of its fixed charges or expenses with its income before interest and income taxes.*/\n",
    "    FIX_CHRG_CVR_AMT,  \n",
    "     /*--An indicator of how profitable a company is relative to its total assets.*/\n",
    "    RET_ON_AST_RATO,  \n",
    "    /*--Provides the rate of return to the company's shareholders. Calculated as net income as a percentage of shareholders equity.*/\n",
    "    RET_ON_EQTY_PCT,   \n",
    "     /*--A company's total sales revenue minus its cost of goods sold, divided by the total sales revenue, expressed as a percentage.*/\n",
    "    GRS_MRGN_PCT,  \n",
    "    /*--A ratio used to measure a company's pricing strategy and operating efficiency. A measurement of what proportion of a company's revenue is left over after paying for variable costs of production such as wages, raw materials, etc.*/\n",
    "    OPER_PROF_MRGN_RATO,   \n",
    "    /*--A ratio of profitability calculated as net income divided by revenues, or net profits divided by sales. */\n",
    "    PROF_MRGN_RATO,   \n",
    "    /*--The number of days that it would take for the company to collect all amounts due from customers (before deducting doubtful accounts). The point of the measurement is to determine the effectiveness of a company's credit and collection efforts in allowing credit to reputable customers, as well as its ability to collect cash from them. For example, if the credit terms are net 30 days, you would expect this to be at least 30 days.*/\n",
    "    GRS_ACCT_RCV_DYS_CNT,   \n",
    "     /*--The number of days that it would take for the company to collect all amounts due from customers (net of doubtful accounts). The point of the measurement is to determine the effectiveness of a company's credit and collection efforts in allowing credit to reputable customers, as well as its ability to collect cash from them. For example, if the credit terms are net 30 days, you would expect this to be at least 30 days.*/\n",
    "    NET_ACCT_RCV_DYS_CNT,  \n",
    "    /*--A measure of a company's performance that gives investors an idea of how long it takes a company to turn its raw material into sales.*/\n",
    "    RAW_MATL_INVTY_DYS_CNT,   \n",
    "    /*--A measure of a company's performance that gives investors an idea of how long it takes a company to turn its work in progress into sales.*/\n",
    "    WRK_IN_PRGRS_INVTY_DYS_CNT,   \n",
    "     /*--A measure of a company's performance that gives investors an idea of how long it takes a company to turn its finished goods into sales.*/\n",
    "    FINSHD_GDS_INVTY_DYS_CNT,  \n",
    "    /*--The number of days it takes a company to turn over its inventory.*/\n",
    "    TOT_INVTY_DYS_CNT,   \n",
    "    /*--A company's average payable period. Days payable outstanding tells how long it takes a company to pay its invoices from trade creditors, such as suppliers.*/\n",
    "    ACCT_PYBL_DYS_CNT,   \n",
    "     /*--The change in total assets over completed fiscal periods.*/\n",
    "    TOT_AST_GRWTH_PCT,  \n",
    "    /*--The change in total liabilities over completed fiscal periods.*/\n",
    "    TOT_LBLTY_GRWTH_PCT,   \n",
    "     /*--The change in net worth over completed fiscal periods.*/\n",
    "    NET_WORTH_GRWTH_PCT,  \n",
    "    /*--The change in operating profit over completed fiscal periods.*/\n",
    "    OPER_PROF_GRWTH_PCT,   \n",
    "     /*--The change in net profit over completed fiscal periods.*/\n",
    "    NET_PROF_GRWTH_PCT,  \n",
    "     /*--A lease considered a purchased asset for accounting purposes in contrast to an operating lease which is a rental.*/\n",
    "    CAPTL_LSE_OBLGN_AMT,  \n",
    "    /*--Estimates the ability of a company to use its cash to generate sales, eg. through purchasing inventory. Typically expressed as a ratio of working capital to sales.*/\n",
    "    SALE_TO_WRK_CAPTL_RATO,   \n",
    "     /*--Ratio of sales to fixed assets measuring a company's ability to generate sales from fixed asset investments, eg. property, plant, and equipment.*/\n",
    "    SALE_TO_FIX_AST_RATO,  \n",
    "     /*--The amount of physical assets a company has net of its liabilities. It represents the supposed liquidation proceeds if operations ceased immediately.*/\n",
    "    EFF_TANGBL_NET_WORTH_AMT,  \n",
    "    /*--Also called Debt/Equity ratio. A measure of a company's financial leverage calculated by dividing its total liabilities by shareholder's equity.*/\n",
    "    DEBT_TO_WORTH_RATO,   \n",
    "    /*--Also called Asset Turnover Ratio. The amount of sales or revenues generated per dollar of assets. The asset turnover ratio is a indicator of the efficiency with which a company is deploying its assets. Calculated as Asset Turnover= Sales or Revenue/Total Assets*/\n",
    "    SALE_TO_TOT_AST_RATO, \n",
    "     /*--Measures how well a company uses equity from its stockholders to generate sales. Calculated as Sales Revenue/Net Worth. Also called Sales to Equity Ratio.*/\n",
    "    SALE_TO_NET_WORTH_RATO,  \n",
    "    /*--The sum of current and long-term assets owned by the company.*/\n",
    "    TOT_AST_AMT,   \n",
    "    /*--An accounting measure calculated using a company's net earnings, before interest expenses, taxes, depreciation and amortization are subtracted, as a proxy for a company's current operating profitability, i.e., how much profit it makes with its present assets and its operations on the products it produces and sells, as well as providing a proxy for cash flow.*/\n",
    "    EBITDA_AMT,   \n",
    "     /*--Consolidated financial statements are the financial statements of a group in which the assets, liabilities, equity, income, expenses and cash flows of the parent (company) and its subsidiaries are presented as those of a single economic entity, according to International Accounting Standard John - perhaps replace with more meaningful Y or N\"*/\n",
    "    CNSLN_IND,  \n",
    "    /*--Should data flow from MRA to FACT - Y/N*/\n",
    "    FACT_IND,   \n",
    "     /*--Access Group*/\n",
    "    ACS_GRP_NM,  \n",
    "    /*--The level of reporting i.e. Audit, Review &  Compilation, etc*/\n",
    "    STMT_TYP_NM,   \n",
    "     /*--Expenses on the income statement that have not been paid or logged under accounts payable during an accounting period; in other words, obligations for goods and services provided to a company for which invoices have not yet been received. */\n",
    "    ACCR_LBLTY_AMT,  \n",
    "    /*--Interest payable is the interest expense that has been incurred (has already occurred) but has not been paid as of the date of the balance sheet. (The interest payable amount does not include the interest for the periods of time which follow the date of the balance sheet.)*/\n",
    "    INT_PYBL_AMT,   \n",
    "    /*--Ratio of EBITDA to Interest Expense.*/\n",
    "    EBITDA_TO_INT_EXPNC_RATO,   \n",
    "     /*--A non-current liability that can be found on a parent company's balance sheet that represents the proportion of its subsidiaries owned by minority shareholders.\"*/\n",
    "    MNRTY_INT_EXPNC_AMT,  \n",
    "    /*--Amounts owing from related companies.*/\n",
    "    AR_REL_CO_AMT,   \n",
    "    F.LST_UPDT_DT_TM,\n",
    "    /*--Net sales is equal to gross sales, minus discounts, customer returns, and allowances for defective/damaged merchandise. Net sales growth from one financial period to another is compared by the equation (Current period net sales- Prior period net sales)/ Prior period net sales * 100.*/\n",
    "    NET_SALE_GRWTH_RATO,   \n",
    "    /*--An account created in the income statement section of a business' financial statements that holds a suitable amount of funds meant to pay off upcoming interest payments. Furthermore, this type of interest is seen as an asset and unlike most conventional types of interest, it also is expensed over time.*/\n",
    "    CPTLZ_INT_AMT,   \n",
    "    /**********************CCRI selected Financial Module Variables listed below********************************/\n",
    "    /*-- Net sales to Account Receivables: It measures how quickly the client is paid by its customers. \n",
    "    -- The lower the value the longer time it'll take for customers to pay, and longer period of exposure to higher delinquency possibility*/ \n",
    "    (Cast(net_sale_amt AS DECIMAL(25,6))/NullIfZero(net_trd_ar_amt))  AS ccri_Net_Sales_to_AR,  \n",
    "\n",
    "    /*-- Cost of goods sold to Accounts Payables: It measures how quickly the client pays its suppliers. The lower the value\n",
    "    -- the longer time the clients needs to  pay back its suppliers which indicates the worsening financial situation*/\n",
    "    ( Cast(tot_cogs_amt AS DECIMAL(25,6))/NullIfZero(AP_TRD_AMT))  AS ccri_Cogs_to_AP,  \n",
    "\n",
    "    /*-- Net funded debt to EBITDA: It measures how quickly the client pays back its debt given the stable operation of the business\n",
    "    -- The higher the value, the longer period it'll take to payback the debt*/\n",
    "    (Cast(net_fnd_debt_amt AS DECIMAL(25,6))/NullIfZero(ebitda_amt))  AS ccri_Net_fnd_debt_to_EBITDA , \n",
    "\n",
    "    /*-- Leverage ratio: It measures the capital structure of a company. The higher the value, more equity share in the capital structure\n",
    "    -- the less burdened by interest payment*/\t\t\t\t\t\t\t\t\t\t\t\t\t\t\t\t\t\t\t\t\t\t\t\t\t\t\t\t\t\t\t\t\t\t\t\t\t\t\t\t\t\t   \n",
    "    (Cast(TOT_NET_WORTH_AMT AS DECIMAL(25,6))/NullIfZero(TOT_LBLTY_AMT))  AS ccri_leverage, \n",
    "\n",
    "    /*-- Debt service coverage ratio from MRA directly*/\n",
    "    DEBT_SRVC_CVRG_RATO  AS ccri_DSCR,   \n",
    "    /*-- Debt service coverage ratio derived*/\n",
    "    Cast(EBITDA_AMT AS DECIMAL(25,6))/NullIfZero( Cast(INT_EXPNC_AMT AS DECIMAL(25,6))+Cast(CURR_POR_OF_LT_DEBT_AMT AS DECIMAL(25,6)))  AS ccri_DSCR_derived, \n",
    "\n",
    "    /*-- Growth of net sales*/\n",
    "    NET_SALE_GRWTH_RATO AS ccri_net_sales_growth, \n",
    "    /*-- Cash and marketable securities to total assets*/\n",
    "    (Cast(CSH_AMT AS DECIMAL(25,6))+Cast(MRK_SCTY_AMT AS DECIMAL(25,6)))/NullIfZero(tot_ast_amt)  AS ccri_csh_mktscty_to_ast, \n",
    "    /*--  Current ratio from MRA directly*/\n",
    "    CURR_RATO AS ccri_curr_ratio, \n",
    "    /*-- Current ratio derived using the formula*/\n",
    "    (Cast(TOT_CURR_AST_AMT AS DECIMAL(25,6))/NullIfZero(TOT_CURR_LBLTY_AMT)) AS ccri_curr_ratio_derived, \n",
    "    /*-- EBITDA margin*/\n",
    "    (Cast(EBITDA_AMT AS DECIMAL(25,6))/NullIfZero(NET_SALE_AMT)) AS EBITDA_margin, \n",
    "\n",
    "    /**********************Other potential Financial Variables listed below********************************/\n",
    "    /*--Net sales to Total Assets*/\n",
    "    Cast(net_sale_amt AS DECIMAL(25,6))/NullIfZero(tot_ast_amt) as net_sales_to_tot_assets  ,  \n",
    "    /*-- Assets to Libability*/\n",
    "    Cast(tot_ast_amt AS DECIMAL(25,6))/NullIfZero(TOT_LBLTY_AMT) as assets_to_liability , \n",
    "    /*-- EBITDA to interest Expense Ratio*/\n",
    "    /*EBITDA_TO_INT_EXPNC_RATO  , */\n",
    "    /*-- Profit before tax to Total Assets*/\n",
    "    Cast(PROF_BEF_TX_AMT AS DECIMAL(25,6))/NullIfZero(tot_ast_amt) as profit_btax_to_tot_assets \n",
    "    /*-- Total Asset amount,*/\n",
    "    /*tot_ast_amt, */\n",
    "    /*-- Net sales amount*/\n",
    "    /*NET_SALE_AMT */\n",
    "\n",
    "    FROM DG6V05.RSK_ANAL_STMT as F\n",
    "        INNER JOIN \n",
    "             (SELECT CLNT_NO, SNAP_DT, max(STMT_DT) as max_STMT_DT\n",
    "               FROM DG6V05.RSK_ANAL_STMT \n",
    "               GROUP BY CLNT_NO, SNAP_DT\n",
    "               WHERE STMT_DT <= SNAP_DT) as FF\n",
    "        ON F.CLNT_NO = FF.CLNT_NO and F.SNAP_DT = FF.SNAP_DT and FF.max_STMT_DT = F.STMT_DT\n",
    "\n",
    "        INNER JOIN  DDWV01.rb_clnt AS C\n",
    "        ON F.CLNT_NO = C. CLNT_NO\n",
    "                and F.SNAP_DT = C.snap_DT\n",
    "\n",
    "        /* Inner join with roll-up rank hierarchy table to get Canadian banking clients */\n",
    "         INNER JOIN DDWV01.ROLL_HIER_RELTN_RNK AS R\n",
    "              ON  r.SNAP_DT  = c.snap_dt\n",
    "                  AND r.ORG_UNT_ID = c.resp_unt\n",
    "                  AND r.PARNT_HIER_TYP_ID = 80000 \n",
    "                  AND r.ROLL_ID_RANK_600 IN (80013,80029,80146,82314,83080,83081,83082,83091)\n",
    "\n",
    "\n",
    "    WHERE C.snap_DT > '{start_snap_dt}' AND C.snap_DT < '{end_snap_dt}'\n",
    "    and   clnt_grp NOT IN ('SB') and clnt_grp NOT IN ('OOO')\n",
    "          and (c.clnt_sts='A' or c.clnt_sts is null) /* filter out inactive clients */\n",
    "          and c.clnt_typ=2 /* keep only non-personal clients */\n",
    "    ORDER BY F.CLNT_NO, F.SNAP_DT, F.STMT_DT"
   ]
  },
  {
   "cell_type": "code",
   "execution_count": 46,
   "metadata": {},
   "outputs": [],
   "source": [
    "def pull_financials(start_snap_dt, end_snap_dt):\n",
    "    qry = f\"\"\"\\\n",
    "                SELECT \n",
    "                 /*-- Snap Shot Date*/\n",
    "                F.SNAP_DT,\n",
    "                /*-- Client SRF - an internal RBC Client Identification Number*/\n",
    "                F.CLNT_NO,        \n",
    "                /* client group, used to define commercial and small business clients */\n",
    "                case\n",
    "                            when (c.BSC in (190,192,200,202,250,490,590)\n",
    "                                    or (c.BSC in (310,500,502,504,505,510) and \n",
    "                                        (c.CURR_CMI_NO not in (100,101,102,103,\n",
    "                                                                200,201,202,203, \n",
    "                                                                300,301,302,303,\n",
    "                                                                401,402,403,\n",
    "                                                                501,502,503) or c.CURR_CMI_NO is NULL))\n",
    "                                 ) then 'COMM'\n",
    "\n",
    "                            when (c.BSC in (550,554,555)\n",
    "                                    and (c.CURR_CMI_NO not in (100,101,102,103,\n",
    "                                                                200,201,202,203,\n",
    "                                                                300,301,302,303,\n",
    "                                                                401,402,403,\n",
    "                                                                501,502,503) or c.CURR_CMI_NO is NULL)\n",
    "                                 ) then 'AG'\n",
    "                            when c.BSC in (330) then 'PUB'\n",
    "                            when (c.BSC in (310,500,502,504,505,510, 550,554,555) \n",
    "                                    and c.CURR_CMI_NO in (100,101,102,103,\n",
    "                                                            200,201,202,203, \n",
    "                                                            300,301,302,303,\n",
    "                                                            401,402,403,\n",
    "                                                            501,502,503)\n",
    "                                 )then 'SB'\n",
    "                            else 'OOO'\n",
    "                        end as Clnt_Grp,\n",
    "                /*-- A unique statement ID for each financial statement.*/\n",
    "                F.STMT_ID,  \n",
    "                /*-- System Source ID*/\n",
    "                F.SYS_SRC_ID,    \n",
    "\n",
    "                /* --  The sum of all expenses on the income statement that have not been paid or logged under accounts payable during an accounting period; \n",
    "                 --  in other words, obligations for goods and services provided to a company for which invoices have not yet been received. */\n",
    "                 TOT_ACCR_LBLTY_AMT, \n",
    "\n",
    "                /* -- A trade payable is an amount billed to a company by its suppliers for goods delivered to or services consumed by the company in the ordinary course of business. \n",
    "                 --Trade payables are recorded in a separate accounts payable account, with a credit to the accounts payable account and a debit to whichever account most closely \n",
    "                 -- represents the nature of the payment, such as an expense or an asset.*/\n",
    "                 AP_TRD_AMT,    \n",
    "\n",
    "                /*-- Other accounts receivable are financial assets consisting of non-trade advances and other items due to be received.*/\n",
    "                 AR_OTH_AMT,   \n",
    "\n",
    "                /*  -- Trade receivables are amounts billed by a business to its customers when it delivers goods or services to them in the ordinary course of business. \n",
    "                  -- These billings are typically documented on formal invoices, which are summarized in an accounts receivable aging report.*/\n",
    "                 AR_TRD_AMT, \n",
    "\n",
    "                /*-- The cumulative depreciation of an asset up to a single point in its life. \n",
    "                -- Regardless of the method used to calculate it, the depreciation of an asset during a single period is added to the previous period's accumulated depreciation \n",
    "                -- to get the current accumulated depreciation.*/\n",
    "                 ACCUM_DEPR_AMT,  \n",
    "\n",
    "                /*-- The amount of money that a company has left over after all corporate income and withholding taxes have been deducted from taxable income. \n",
    "                -- After-tax income represents the amount of disposable income that a firm has to spend on future investments or on present consumption.*/\n",
    "                 AFT_TX_INCM_AMT, \n",
    "\n",
    "                /*-- Amortization expense is the write-off of an asset over its expected period of use, which reflects the consumption of the asset.*/\n",
    "                 AMORT_EXPNC_AMT,  \n",
    "\n",
    "                /*-- \"Audit Method John - French & English mixed.  use ref code?  TBD\"*/\n",
    "                 ADT_MTHD_NM,  \n",
    "\n",
    "                /*-Cash is the most liquid asset a company can own. A company's cash account includes all currency and coins owned by the company as well as all \n",
    "                  -- deposits in the bank including checking accounts and savings accounts. Cash also includes instruments or contracts that can be deposited in a bank account like vendee checks, \n",
    "                  -- customer checks, cashier's checks, certified checks, as well as money orders.*/\n",
    "                 CSH_AMT,  \n",
    "\n",
    "                 /*-- Whether depreciation is included in cost of goods sold or in operating expenses depends on the type of asset being depreciated. \n",
    "                   -- Depreciation is listed with cost of goods sold if the expense associated with the fixed asset is used in the direct production of inventory.*/\n",
    "                 COGS_DEPR_AMT,  \n",
    "\n",
    "                /*-- This is a long term asset account that records the accumulated cost of a project (typically, applied to capital budget items) that has not yet been completed. \n",
    "                  --When the project is finished and placed into the service, the cost is removed from this account and is recorded in a related long-term asset account. \n",
    "                 --This asset item is not depreciated until the asset is placed in service. Normally, upon completion, a CIP item is reclassified, and the reclassified asset is capitalized and depreciated.*/\n",
    "                 CONST_IN_PRGRS_AMT, \n",
    "\n",
    "                /*-- The direct costs attributable to the production of the goods sold by a company. \n",
    "                   -- This amount includes the cost of the materials used in creating the good along with the direct labor costs used to produce the good.*/\n",
    "                 COGS_AMT,  \n",
    "\n",
    "                /*--COST IN EXCESS OF BILLINGS, in percentage of completion method, is when the billings on uncompleted contracts are less than the income earned to date.*/\n",
    "                 CST_IN_EXCS_OF_BL_AMT, \n",
    "\n",
    "                 /*--A portion of the balance sheet that represents the total amount of long-term debt that must be paid within the next year. */\n",
    "                 CURR_POR_OF_LT_DEBT_AMT, \n",
    "\n",
    "                /*--Subordinated debts are repayable after other debts have been paid, meaning they are more risky for the lender of the money. The debts may be secured or unsecured. Subordinated debt typically has a lower credit rating, and, therefore, a higher yield than senior debt.*/\n",
    "                 CURR_POR_OF_SUB_DEBT_AMT, \n",
    "\n",
    "                /*--Depreciation expense is the allocated portion of the cost of a company's fixed assets that is appropriate for the accounting period indicated on the company's income statement.*/\n",
    "                 DEPR_EXPNC_AMT, \n",
    "\n",
    "                /*-- Dividends payable are dividends that a company's board of directors has declared to be payable to its shareholders. Until such time as the company actually pays the shareholders, the cash amount of the dividend is recorded within a dividends payable account as a current liability.*/\n",
    "                 DVDND_PYBL_AMT, \n",
    "\n",
    "                 /*--The aggregate amount of receivables to be collected from related parties where one party can exercise control or significant influence over another party, including affiliates, owners or officers and their immediate families, pension trusts, and so forth, at the financial statement date. These receivables are usually due within one year (or one business cycle).*/\n",
    "                 DUE_TO_REL_PRTY_AMT, \n",
    "\n",
    "                 /*-- Dividends on an ESOP - a retirement plan that is designed to provide employees with an ownership interest in the company for which they work by investing primarily in stock of the employer.*/\n",
    "                 ESOP_DVDND_AMT, \n",
    "\n",
    "                 /*--Finished goods are goods that have completed the manufacturing process but have not yet been sold or distributed to the end user.*/\n",
    "                 FINSHD_GDS_INVTY_AMT, \n",
    "\n",
    "                /* --Assets that are purchased for long-term use and are not likely to be converted quickly into cash, such as land, buildings, and equipment.*/\n",
    "                 FIX_AST_AMT, \n",
    "\n",
    "                 /*-- The amount of income tax that is associated with (matches) the net income reported on the company's income statement. This amount will likely be different than the income taxes actually payable, since some of the revenues and expenses reported on the tax return will be different from the amounts on the income statement.*/\n",
    "                 INCM_TX_EXPNC_AMT, \n",
    "\n",
    "                /*-- Income tax receivable is money a company expects from tax revenue agencies. */\n",
    "                 INCM_TX_RCV_AMT, \n",
    "\n",
    "                /*-- Interest expense is the cost of debt that has occurred during a specified period of time.*/\n",
    "                 INT_EXPNC_AMT, \n",
    "\n",
    "                /*-- The term that companies use on their income statement for reporting the interest earned on cash temporarily held in savings accounts, certificates of deposits, or other investments. Because the interest wasn't part of the original investment, they record it separately, as interest income.*/\n",
    "                 INT_INCM_AMT, \n",
    "\n",
    "                /*-- A long-term asset account that reports the cost of real property exclusive of the cost of any constructed assets on the property. Land usually appears as the first item under the balance sheet heading of Property, Plant and Equipment. Generally, land is not depreciated.*/\n",
    "                 LAND_AMT, \n",
    "\n",
    "                /* -- \"The expense recorded when the company does not have the rights of ownership of an asset but has been allowed the use of an asset. An operating lease is not capitalized; it is accounted for as a rental expense in what is known as \"\"off balance sheet financing.\"\" */\n",
    "                 LSE_RENT_EXPNC_AMT, \n",
    "\n",
    "                 /*-- The LIFO reserve is the difference between the accounting cost of an inventory that is calculated using the FIFO method, and one using the LIFO method. */\n",
    "                 LIFO_RES_AMT, \n",
    "\n",
    "                 /*-- Loans and financial obligations lasting over one year. Long-term debt for a company would include any financing or leasing obligations that are to come due in a greater than 12-month period. Such obligations would include company bond issues or long-term leases that have been capitalized on a firm's balance sheet.*/\n",
    "                 LT_DEBT_AMT, \n",
    "\n",
    "                /* --\"Marketable securities are unrestricted financial instruments which can be readily sold on a stock exchange or bond exchange. Marketable securities are often classified into two groups: marketable equity securities and marketable debt securities.\"*/\n",
    "                 MRK_SCTY_AMT,  \n",
    "\n",
    "                 /*-- Net operating profit refers to the amount of money that a company has earned after the cost of goods sold and operating expenses have been deducted.*/\n",
    "                 NET_OPER_PROF_AMT, \n",
    "                 /*-- Net sales are operating revenues earned by a company for selling its products or rendering its services. Also referred to as revenue, they are reported directly on the income statement as Sales or Net sales*/\n",
    "                 NET_SALE_AMT,  \n",
    "                 /*-- A non-operating asset is an asset that generates income, but is unrelated to the core operations of the company.*/\n",
    "                 NON_OPER_CURR_AST_AMT, \n",
    "                 /*-- \"Accumulated other comprehensive income is a subsection in equity where \"\"other comprehensive income\"\" is accumulated (summed or \"\"aggregated\"\"). The balance of AOCI is presented in the Equity section of the Balance Sheet as is the Retained Earnings balance, which aggregates past and current Earnings, and past and current Dividends.\".*/\n",
    "                 OTH_COMP_INCM_AMT, \n",
    "                 OTH_INVTY_AMT,\n",
    "                 /*-- Revenue generating assets that have not been documented elsewhere as an Operating Asset.*/\n",
    "                 OTH_OPER_AST_AMT, \n",
    "                /*-- An overdraft occurs when money is withdrawn from a bank account and the available balance goes below zero. In this situation the account is said to be \"overdrawn\". */\n",
    "                 OD_AMT,   \n",
    "                 /*-- \"A profitability measure that looks at a company's profits before the company has to pay corporate income tax. This measure deducts all expenses from revenue including interest expenses and operating expenses, but it leaves out the payment of tax. \"*/\n",
    "                 PROF_BEF_TX_AMT, \n",
    "                 /*-- \"A company's stock of the basic material from which a product is manufactured.\"*/\n",
    "                 RAW_MATL_INVTY_AMT, \n",
    "                 /*--\"Reported on the income statement, it is the sum of all direct and indirect selling expenses and all general and administrative expenses of a company. \"*/\n",
    "                 SELL_AND_GNRL_EXPNC_AMT, \n",
    "                 /*-- Source currency code.*/\n",
    "                 SRC_CRNCY_CD, \n",
    "                 /*-- The end date of the accounting period for which the financial statements were prepared.*/\n",
    "                 STMT_DT,  \n",
    "                /*-- Denotes the number of months in the accounting period captured by the financial statement.*/\n",
    "                 STMT_MTH_CNT,  \n",
    "                /*-- \"A loan scheduled to be repaid in less than a year \"*/\n",
    "                 SHRT_TRM_LN_PYBL_AMT,  \n",
    "                 /*-- Debt which ranks after other debts if a company falls into liquidation or bankruptcy.*/\n",
    "                 SUB_DEBT_LBLTY_AMT, \n",
    "                /*  -- Work in Progress???.*/\n",
    "                 WIP_INVTY_AMT, \n",
    "                /*-- Trade receivables (Net) are all accounts from trade, net of allowance for doutful accounts.*/\n",
    "                 NET_TRD_AR_AMT,  \n",
    "                /*-- The amount by which assets exceed liabilities.*/\n",
    "                 TOT_NET_WORTH_AMT, \n",
    "                /*-- A balance sheet account that represents the value of all assets that are reasonably expected to be converted to cash within one year in the normal course of business.*/\n",
    "                 TOT_CURR_AST_AMT, \n",
    "                 /*-- A company's debts or obligations that are due within one year. Current Liabilities appears on the balance sheet and include short term debt, accounts payable, accrued liabilities, and other debt.*/\n",
    "                 TOT_CURR_LBLTY_AMT,   \n",
    "                 /*-- The aggregate of all debts a company is liable for. Total Liabilities is calculated by summing all short term and long term liabilities.*/\n",
    "                 TOT_LBLTY_AMT,   \n",
    "                  /*-- The direct costs attributable to the production of goods sold by a company. Includes cost of materials and direct labour costs used to produce the good. It excludes indirect expenses. It appears on the income statement and is deducted from revenue to calculate gross margin. Also referred to as \"cost of sales.\"*/\n",
    "                 TOT_COGS_AMT, \n",
    "                 /*-- A companies debt, such as bonds, long-term notes payable, or debentures that will mature in more than one year or one business cycle. Classified as funded debt as it is funded by interest payments over the term of the loan. Synonymous with long term debt.*/\n",
    "                 NET_FND_DEBT_AMT,  \n",
    "                 /*-- Debt service coverage ratio (DSCR) also known as the debt coverage ratio (DCR) is the ratio of cash available for debt servicing for interest, principal, and lease payments. It is calculated as Net Operating Income/Debt Services. It is a popular benchmark used in the measurement of an entity's ability to produce enough cash to cover its debt (including lease payments).*/\n",
    "                 DEBT_SRVC_CVRG_RATO,  \n",
    "                 /*-- Investment securities that are short term, have high credit quality, and are highly liquid. They include government treasury bills, bank certificates of deposit, corporate commercial paper, and other money market instruments.*/\n",
    "                 CSH_AND_EQUIV_AMT,  \n",
    "                 /*-- \"Identifies the accounting standard or generally accepted account principles (GAAP) applied during the preparation of the financial statements. \"*/\n",
    "                 ACCTG_STD_NM,  \n",
    "                /*-- The sum of all raw materials, work-in-process goods, and completely finished goods that are considered to be the portion of a business's assets that are ready or will be ready for sale.*/\n",
    "                 TOT_INVTY_AMT,  \n",
    "                /*-- Gross Fixed Assets is the purchase price of all fixed assets (Land, buildings, equipment, machinery, vehicles, leasehold improvements) before taking into account the accumulated depreciation or consumption of the fixed assets.*/\n",
    "                 GRS_FIX_AST_AMT,  \n",
    "                 /*-- Net Fixed Assets is the purchase price of all fixed assets (Land, buildings, equipment, machinery, vehicles, leasehold improvements) less accumulated Depreciation.*/\n",
    "\n",
    "                 NET_FIX_AST_AMT,  \n",
    "                 /*-- A company's long term investments, where the full value will not be realized within the accounting year. Noncurrent assets are capitalized rather than expensed, meaning that the company allocates the cost of the asset over a number of years for which the asset will be in use, instead of allocating the entire cost to the accounting year in which the asset was purchased.*/\n",
    "                 TOT_NON_CURR_AST_AMT,  \n",
    "                 /*-- A company's long term financial obligations that are not due within the present accounting year. Examples are long-term borrowing, bonds payable, and long-term lease obligations.*/\n",
    "                 TOT_NON_CURR_LBLTY_AMT, \n",
    "                 /*-- A measure of a company's financial leverage calculated by dividing its total liabilities by stockholders equity. It indicates what proportion of equity the company is using to finance its assets. Also called Debt/Equity Ratio.*/\n",
    "                 TOT_LBLTY_NET_WORTH_AMT,  \n",
    "                 /*-- A measure of overall sales that is not adjusted for customer discounts or returns, calculated by simply adding all sales invoices, and not including operating expenses, cost of goods sold, payment of taxes, or any other charge.*/\n",
    "                 GRS_SALE_AMT,  \n",
    "                 /*-- A company's revenue minus its cost of goods sold. Gross profit is a company's residual profit after selling a product/service and deducting the cost associated with its production and sale. Also called gross margin.*/\n",
    "                 GRS_PROF_AMT,  \n",
    "                 /*-- Those expenditures that a business incurs to engage in any activities not directly associated with the production of goods or services.*/\n",
    "                 OPER_EXPNC_AMT,  \n",
    "                 /*-- The financial payments and non monetary benefits provided to high level management in exchange for their work on behalf of an organization.*/\n",
    "                 OFFCR_COMPEN_AMT, \n",
    "                 /*-- The sum of operating expenses which are any expenses associated with the general, sales, and administrative functions of an entity.*/\n",
    "                 TOT_OPER_EXPNC_AMT,  \n",
    "                 /*-- Expenses incurred related to the income earned from activities other than normal business operations, such as investment interest, foreign exchange gains (losses), and profit (loss) from the sale of non-inventory assets.*/\n",
    "                 TOT_OTH_INCM_EXPNC_AMT,  \n",
    "                 /*--The amount of income tax that is associated with (matches) the net income reported on the company's income statement. This amount will likely be different than the income taxes actually payable, since some of the revenue and expenses on the tax return will be different from the amounts on the income statement.*/\n",
    "                 NET_INCM_TX_EXPNC_AMT,   \n",
    "                 /*--This represents net profit before being adjusted for extraordinary items. Extraordinary items are gains and losses which are infrequent and atypical in nature. They are accounted for separately so they don't skew the company's regular earnings.*/\n",
    "                PROF_BEF_EXTRORD_ITM_AMT,   \n",
    "\n",
    "                /*--Often referred to as the bottom line, net profit is calculated by subtracting a company's total expenses from total revenue, thus showing what a company has earned (or lost) in a given period of time.*/\n",
    "                NET_PROF_AMT,   \n",
    "                /*--Comprehensive income is the change in equity of a business enterprise during a period from transactions and other events from non-owner sources. It includes all non-owner changes in equity (in contrast to net income which does not include some changes in equity).*/\n",
    "                COMP_INCM_AMT,   \n",
    "                /*--The capital of a business that is used in its day-to-day trading operations, calculated as the current assets minus the current liabilities.*/\n",
    "                WRK_CAPTL_AMT,   \n",
    "                /*--An indicator of a company's short-term liquidity. The quick ratio measures a company's ability to meet its short-term obligations with its most liquid assets. */\n",
    "                QUICK_RATO,   \n",
    "                 /*--A liquidity ratio that measures a company's ability to pay short-term obligations.*/\n",
    "                CURR_RATO,  \n",
    "                /*--A measure of the physical worth of a company, which does not include any value derived from intangible assets such as copyrights, patents and intellectual property. Tangible net worth is calculated by taking a firm's total assets and subtracting the value of all liabilities and intangible assets.*/\n",
    "                TANGBL_NET_WORTH_AMT, \n",
    "                /*--Debt to tangible net worth is a derivative of the debt-to-equity ratio. */\n",
    "                DEBT_TO_TOT_NET_WORTH_RATO,   \n",
    "                /*--The liabilities to assets ratio is a solvency ratio that examines how much of a company's assets are financed by liabilities.*/\n",
    "                LIABS_TO_AST_RATO, \n",
    "                 /*--A ratio used to determine how easily a company can pay interest on outstanding debt from its earnings before interest and taxes. */\n",
    "                INT_CVRG_RATO,  \n",
    "                /*--A measure of the earnings of a company that adds the interest expense, depreciation and amortization back to the net income number, but takes the tax expense into consideration.*/\n",
    "                EBIDA_AMT,  \n",
    "                /*--The fixed charge coverage ratio measures a firm's ability to pay all of its fixed charges or expenses with its income before interest and income taxes.*/\n",
    "                FIX_CHRG_CVR_AMT,  \n",
    "                 /*--An indicator of how profitable a company is relative to its total assets.*/\n",
    "                RET_ON_AST_RATO,  \n",
    "                /*--Provides the rate of return to the company's shareholders. Calculated as net income as a percentage of shareholders equity.*/\n",
    "                RET_ON_EQTY_PCT,   \n",
    "                 /*--A company's total sales revenue minus its cost of goods sold, divided by the total sales revenue, expressed as a percentage.*/\n",
    "                GRS_MRGN_PCT,  \n",
    "                /*--A ratio used to measure a company's pricing strategy and operating efficiency. A measurement of what proportion of a company's revenue is left over after paying for variable costs of production such as wages, raw materials, etc.*/\n",
    "                OPER_PROF_MRGN_RATO,   \n",
    "                /*--A ratio of profitability calculated as net income divided by revenues, or net profits divided by sales. */\n",
    "                PROF_MRGN_RATO,   \n",
    "                /*--The number of days that it would take for the company to collect all amounts due from customers (before deducting doubtful accounts). The point of the measurement is to determine the effectiveness of a company's credit and collection efforts in allowing credit to reputable customers, as well as its ability to collect cash from them. For example, if the credit terms are net 30 days, you would expect this to be at least 30 days.*/\n",
    "                GRS_ACCT_RCV_DYS_CNT,   \n",
    "                 /*--The number of days that it would take for the company to collect all amounts due from customers (net of doubtful accounts). The point of the measurement is to determine the effectiveness of a company's credit and collection efforts in allowing credit to reputable customers, as well as its ability to collect cash from them. For example, if the credit terms are net 30 days, you would expect this to be at least 30 days.*/\n",
    "                NET_ACCT_RCV_DYS_CNT,  \n",
    "                /*--A measure of a company's performance that gives investors an idea of how long it takes a company to turn its raw material into sales.*/\n",
    "                RAW_MATL_INVTY_DYS_CNT,   \n",
    "                /*--A measure of a company's performance that gives investors an idea of how long it takes a company to turn its work in progress into sales.*/\n",
    "                WRK_IN_PRGRS_INVTY_DYS_CNT,   \n",
    "                 /*--A measure of a company's performance that gives investors an idea of how long it takes a company to turn its finished goods into sales.*/\n",
    "                FINSHD_GDS_INVTY_DYS_CNT,  \n",
    "                /*--The number of days it takes a company to turn over its inventory.*/\n",
    "                TOT_INVTY_DYS_CNT,   \n",
    "                /*--A company's average payable period. Days payable outstanding tells how long it takes a company to pay its invoices from trade creditors, such as suppliers.*/\n",
    "                ACCT_PYBL_DYS_CNT,   \n",
    "                 /*--The change in total assets over completed fiscal periods.*/\n",
    "                TOT_AST_GRWTH_PCT,  \n",
    "                /*--The change in total liabilities over completed fiscal periods.*/\n",
    "                TOT_LBLTY_GRWTH_PCT,   \n",
    "                 /*--The change in net worth over completed fiscal periods.*/\n",
    "                NET_WORTH_GRWTH_PCT,  \n",
    "                /*--The change in operating profit over completed fiscal periods.*/\n",
    "                OPER_PROF_GRWTH_PCT,   \n",
    "                 /*--The change in net profit over completed fiscal periods.*/\n",
    "                NET_PROF_GRWTH_PCT,  \n",
    "                 /*--A lease considered a purchased asset for accounting purposes in contrast to an operating lease which is a rental.*/\n",
    "                CAPTL_LSE_OBLGN_AMT,  \n",
    "                /*--Estimates the ability of a company to use its cash to generate sales, eg. through purchasing inventory. Typically expressed as a ratio of working capital to sales.*/\n",
    "                SALE_TO_WRK_CAPTL_RATO,   \n",
    "                 /*--Ratio of sales to fixed assets measuring a company's ability to generate sales from fixed asset investments, eg. property, plant, and equipment.*/\n",
    "                SALE_TO_FIX_AST_RATO,  \n",
    "                 /*--The amount of physical assets a company has net of its liabilities. It represents the supposed liquidation proceeds if operations ceased immediately.*/\n",
    "                EFF_TANGBL_NET_WORTH_AMT,  \n",
    "                /*--Also called Debt/Equity ratio. A measure of a company's financial leverage calculated by dividing its total liabilities by shareholder's equity.*/\n",
    "                DEBT_TO_WORTH_RATO,   \n",
    "                /*--Also called Asset Turnover Ratio. The amount of sales or revenues generated per dollar of assets. The asset turnover ratio is a indicator of the efficiency with which a company is deploying its assets. Calculated as Asset Turnover= Sales or Revenue/Total Assets*/\n",
    "                SALE_TO_TOT_AST_RATO, \n",
    "                 /*--Measures how well a company uses equity from its stockholders to generate sales. Calculated as Sales Revenue/Net Worth. Also called Sales to Equity Ratio.*/\n",
    "                SALE_TO_NET_WORTH_RATO,  \n",
    "                /*--The sum of current and long-term assets owned by the company.*/\n",
    "                TOT_AST_AMT,   \n",
    "                /*--An accounting measure calculated using a company's net earnings, before interest expenses, taxes, depreciation and amortization are subtracted, as a proxy for a company's current operating profitability, i.e., how much profit it makes with its present assets and its operations on the products it produces and sells, as well as providing a proxy for cash flow.*/\n",
    "                EBITDA_AMT,   \n",
    "                 /*--Consolidated financial statements are the financial statements of a group in which the assets, liabilities, equity, income, expenses and cash flows of the parent (company) and its subsidiaries are presented as those of a single economic entity, according to International Accounting Standard John - perhaps replace with more meaningful Y or N\"*/\n",
    "                CNSLN_IND,  \n",
    "                /*--Should data flow from MRA to FACT - Y/N*/\n",
    "                FACT_IND,   \n",
    "                 /*--Access Group*/\n",
    "                ACS_GRP_NM,  \n",
    "                /*--The level of reporting i.e. Audit, Review &  Compilation, etc*/\n",
    "                STMT_TYP_NM,   \n",
    "                 /*--Expenses on the income statement that have not been paid or logged under accounts payable during an accounting period; in other words, obligations for goods and services provided to a company for which invoices have not yet been received. */\n",
    "                ACCR_LBLTY_AMT,  \n",
    "                /*--Interest payable is the interest expense that has been incurred (has already occurred) but has not been paid as of the date of the balance sheet. (The interest payable amount does not include the interest for the periods of time which follow the date of the balance sheet.)*/\n",
    "                INT_PYBL_AMT,   \n",
    "                /*--Ratio of EBITDA to Interest Expense.*/\n",
    "                EBITDA_TO_INT_EXPNC_RATO,   \n",
    "                 /*--A non-current liability that can be found on a parent company's balance sheet that represents the proportion of its subsidiaries owned by minority shareholders.\"*/\n",
    "                MNRTY_INT_EXPNC_AMT,  \n",
    "                /*--Amounts owing from related companies.*/\n",
    "                AR_REL_CO_AMT,   \n",
    "                F.LST_UPDT_DT_TM,\n",
    "                /*--Net sales is equal to gross sales, minus discounts, customer returns, and allowances for defective/damaged merchandise. Net sales growth from one financial period to another is compared by the equation (Current period net sales- Prior period net sales)/ Prior period net sales * 100.*/\n",
    "                NET_SALE_GRWTH_RATO,   \n",
    "                /*--An account created in the income statement section of a business' financial statements that holds a suitable amount of funds meant to pay off upcoming interest payments. Furthermore, this type of interest is seen as an asset and unlike most conventional types of interest, it also is expensed over time.*/\n",
    "                CPTLZ_INT_AMT,   \n",
    "                /**********************CCRI selected Financial Module Variables listed below********************************/\n",
    "                /*-- Net sales to Account Receivables: It measures how quickly the client is paid by its customers. \n",
    "                -- The lower the value the longer time it'll take for customers to pay, and longer period of exposure to higher delinquency possibility*/ \n",
    "                (Cast(net_sale_amt AS DECIMAL(25,6))/NullIfZero(net_trd_ar_amt))  AS ccri_Net_Sales_to_AR,  \n",
    "\n",
    "                /*-- Cost of goods sold to Accounts Payables: It measures how quickly the client pays its suppliers. The lower the value\n",
    "                -- the longer time the clients needs to  pay back its suppliers which indicates the worsening financial situation*/\n",
    "                ( Cast(tot_cogs_amt AS DECIMAL(25,6))/NullIfZero(AP_TRD_AMT))  AS ccri_Cogs_to_AP,  \n",
    "\n",
    "                /*-- Net funded debt to EBITDA: It measures how quickly the client pays back its debt given the stable operation of the business\n",
    "                -- The higher the value, the longer period it'll take to payback the debt*/\n",
    "                (Cast(net_fnd_debt_amt AS DECIMAL(25,6))/NullIfZero(ebitda_amt))  AS ccri_Net_fnd_debt_to_EBITDA , \n",
    "\n",
    "                /*-- Leverage ratio: It measures the capital structure of a company. The higher the value, more equity share in the capital structure\n",
    "                -- the less burdened by interest payment*/\t\t\t\t\t\t\t\t\t\t\t\t\t\t\t\t\t\t\t\t\t\t\t\t\t\t\t\t\t\t\t\t\t\t\t\t\t\t\t\t\t\t   \n",
    "                (Cast(TOT_NET_WORTH_AMT AS DECIMAL(25,6))/NullIfZero(TOT_LBLTY_AMT))  AS ccri_leverage, \n",
    "\n",
    "                /*-- Debt service coverage ratio from MRA directly*/\n",
    "                DEBT_SRVC_CVRG_RATO  AS ccri_DSCR,   \n",
    "                /*-- Debt service coverage ratio derived*/\n",
    "                Cast(EBITDA_AMT AS DECIMAL(25,6))/NullIfZero( Cast(INT_EXPNC_AMT AS DECIMAL(25,6))+Cast(CURR_POR_OF_LT_DEBT_AMT AS DECIMAL(25,6)))  AS ccri_DSCR_derived, \n",
    "\n",
    "                /*-- Growth of net sales*/\n",
    "                NET_SALE_GRWTH_RATO AS ccri_net_sales_growth, \n",
    "                /*-- Cash and marketable securities to total assets*/\n",
    "                (Cast(CSH_AMT AS DECIMAL(25,6))+Cast(MRK_SCTY_AMT AS DECIMAL(25,6)))/NullIfZero(tot_ast_amt)  AS ccri_csh_mktscty_to_ast, \n",
    "                /*--  Current ratio from MRA directly*/\n",
    "                CURR_RATO AS ccri_curr_ratio, \n",
    "                /*-- Current ratio derived using the formula*/\n",
    "                (Cast(TOT_CURR_AST_AMT AS DECIMAL(25,6))/NullIfZero(TOT_CURR_LBLTY_AMT)) AS ccri_curr_ratio_derived, \n",
    "                /*-- EBITDA margin*/\n",
    "                (Cast(EBITDA_AMT AS DECIMAL(25,6))/NullIfZero(NET_SALE_AMT)) AS EBITDA_margin, \n",
    "\n",
    "                /**********************Other potential Financial Variables listed below********************************/\n",
    "                /*--Net sales to Total Assets*/\n",
    "                Cast(net_sale_amt AS DECIMAL(25,6))/NullIfZero(tot_ast_amt) as net_sales_to_tot_assets  ,  \n",
    "                /*-- Assets to Libability*/\n",
    "                Cast(tot_ast_amt AS DECIMAL(25,6))/NullIfZero(TOT_LBLTY_AMT) as assets_to_liability , \n",
    "                /*-- EBITDA to interest Expense Ratio*/\n",
    "                /*EBITDA_TO_INT_EXPNC_RATO  , */\n",
    "                /*-- Profit before tax to Total Assets*/\n",
    "                Cast(PROF_BEF_TX_AMT AS DECIMAL(25,6))/NullIfZero(tot_ast_amt) as profit_btax_to_tot_assets \n",
    "                /*-- Total Asset amount,*/\n",
    "                /*tot_ast_amt, */\n",
    "                /*-- Net sales amount*/\n",
    "                /*NET_SALE_AMT */\n",
    "                FROM DG6V05.RSK_ANAL_STMT as F\n",
    "                \n",
    "                    /*Neo Added Logic */\n",
    "                    INNER JOIN DG6V19.BUS_PRTFOL_CLNT AS BCP\n",
    "                    ON  F.SNAP_DT  = BCP.MTH_END_DT\n",
    "                    AND F.clnt_no = BCP.CLNT_NO\n",
    "                    \n",
    "                    INNER JOIN \n",
    "                         (SELECT CLNT_NO, SNAP_DT, max(STMT_DT) as max_STMT_DT\n",
    "                           FROM DG6V05.RSK_ANAL_STMT \n",
    "                           GROUP BY CLNT_NO, SNAP_DT\n",
    "                           WHERE STMT_DT <= SNAP_DT) as FF\n",
    "                    ON F.CLNT_NO = FF.CLNT_NO and F.SNAP_DT = FF.SNAP_DT and FF.max_STMT_DT = F.STMT_DT\n",
    "\n",
    "                    INNER JOIN  DDWV01.rb_clnt AS C\n",
    "                    ON F.CLNT_NO = C. CLNT_NO\n",
    "                            and F.SNAP_DT = C.snap_DT\n",
    "\n",
    "                    /* Inner join with roll-up rank hierarchy table to get Canadian banking clients */\n",
    "                     INNER JOIN DDWV01.ROLL_HIER_RELTN_RNK AS R\n",
    "                          ON  r.SNAP_DT  = c.snap_dt\n",
    "                              AND r.ORG_UNT_ID = c.resp_unt\n",
    "                              AND r.PARNT_HIER_TYP_ID = 80000 \n",
    "                              AND r.ROLL_ID_RANK_600 IN (80013,80029,80146,82314,83080,83081,83082,83091)\n",
    "\n",
    "\n",
    "                WHERE C.snap_DT > '{start_snap_dt}' AND C.snap_DT < '{end_snap_dt}'\n",
    "                AND BCP.TOT_SN_EXP > 1000000\n",
    "                and   clnt_grp NOT IN ('SB') and clnt_grp NOT IN ('OOO')\n",
    "                      and (c.clnt_sts='A' or c.clnt_sts is null) /* filter out inactive clients */\n",
    "                      and c.clnt_typ=2 /* keep only non-personal clients */\n",
    "                ORDER BY F.CLNT_NO, F.SNAP_DT, F.STMT_DT\n",
    "\n",
    "            \"\"\"\n",
    "    return pd.read_sql(qry, connection)"
   ]
  },
  {
   "cell_type": "code",
   "execution_count": 47,
   "metadata": {},
   "outputs": [
    {
     "data": {
      "text/plain": [
       "(129983, 138)"
      ]
     },
     "execution_count": 47,
     "metadata": {},
     "output_type": "execute_result"
    }
   ],
   "source": [
    "start_snap_dt='2015-01-01'\n",
    "end_snap_dt='2016-01-01'\n",
    "df1 = pull_financials(start_snap_dt, end_snap_dt)\n",
    "df1.shape"
   ]
  },
  {
   "cell_type": "code",
   "execution_count": 48,
   "metadata": {},
   "outputs": [],
   "source": [
    "df1.to_csv(raw_data_dir+'financials_y1.csv', index=False)"
   ]
  },
  {
   "cell_type": "code",
   "execution_count": 49,
   "metadata": {},
   "outputs": [
    {
     "data": {
      "text/plain": [
       "(322089, 138)"
      ]
     },
     "execution_count": 49,
     "metadata": {},
     "output_type": "execute_result"
    }
   ],
   "source": [
    "start_snap_dt='2016-01-01'\n",
    "end_snap_dt='2017-01-01'\n",
    "df2 = pull_financials(start_snap_dt, end_snap_dt)\n",
    "df2.shape"
   ]
  },
  {
   "cell_type": "code",
   "execution_count": 50,
   "metadata": {},
   "outputs": [],
   "source": [
    "df2.to_csv(raw_data_dir+'financials_y2.csv', index=False)"
   ]
  },
  {
   "cell_type": "code",
   "execution_count": 51,
   "metadata": {},
   "outputs": [
    {
     "data": {
      "text/plain": [
       "(337719, 138)"
      ]
     },
     "execution_count": 51,
     "metadata": {},
     "output_type": "execute_result"
    }
   ],
   "source": [
    "start_snap_dt='2017-01-01'\n",
    "end_snap_dt='2018-01-01'\n",
    "df3 = pull_financials(start_snap_dt, end_snap_dt)\n",
    "df3.shape"
   ]
  },
  {
   "cell_type": "code",
   "execution_count": 52,
   "metadata": {},
   "outputs": [],
   "source": [
    "df3.to_csv(raw_data_dir+'financials_y3.csv', index=False)"
   ]
  },
  {
   "cell_type": "code",
   "execution_count": 53,
   "metadata": {},
   "outputs": [
    {
     "data": {
      "text/plain": [
       "(550653, 138)"
      ]
     },
     "execution_count": 53,
     "metadata": {},
     "output_type": "execute_result"
    }
   ],
   "source": [
    "start_snap_dt='2018-01-01'\n",
    "end_snap_dt='2019-07-01'\n",
    "df4 = pull_financials(start_snap_dt, end_snap_dt)\n",
    "df4.shape"
   ]
  },
  {
   "cell_type": "code",
   "execution_count": 54,
   "metadata": {},
   "outputs": [],
   "source": [
    "df4.to_csv(raw_data_dir+'financials_y4.csv', index=False)"
   ]
  },
  {
   "cell_type": "markdown",
   "metadata": {},
   "source": [
    "# Fac_general"
   ]
  },
  {
   "cell_type": "code",
   "execution_count": 55,
   "metadata": {},
   "outputs": [],
   "source": [
    "def pull_fac_general(start_snap_dt, end_snap_dt):    \n",
    "    qry = f\"\"\"\\\n",
    "            select \n",
    "            /* month end date */\n",
    "                   C.SNAP_DT as mth_end_dt, \n",
    "            /* client number */\n",
    "                   C.clnt_no , \n",
    "            /* single name ID */\n",
    "                     CASE\n",
    "                           WHEN SN.SN_ID IS NULL THEN C.CLNT_NO\n",
    "                           ELSE SN.SN_ID\n",
    "                         END AS SN_ID,\n",
    "              \n",
    "            /* client group, used to define commercial and small business clients */\n",
    "            case\n",
    "                        when (c.BSC in (190,192,200,202,250,490,590)\n",
    "                                or (c.BSC in (310,500,502,504,505,510) and \n",
    "                                    (c.CURR_CMI_NO not in (100,101,102,103,\n",
    "                                                            200,201,202,203,\n",
    "                                                            300,301,302,303,\n",
    "                                                            401,402,403,\n",
    "                                                            501,502,503) or c.CURR_CMI_NO is NULL))\n",
    "                             ) then 'COMM'\n",
    "                \n",
    "                        when (c.BSC in (550,554,555)\n",
    "                                and (c.CURR_CMI_NO not in (100,101,102,103,\n",
    "                                                            200,201,202,203,\n",
    "                                                            300,301,302,303,\n",
    "                                                            401,402,403,\n",
    "                                                            501,502,503) or c.CURR_CMI_NO is NULL)\n",
    "                             ) then 'AG'\n",
    "                        when c.BSC in (330) then 'PUB'\n",
    "                        when (c.BSC in (310,500,502,504,505,510, 550,554,555) \n",
    "                                and c.CURR_CMI_NO in (100,101,102,103,\n",
    "                                                        200,201,202,203,\n",
    "                                                        300,301,302,303,\n",
    "                                                        401,402,403,\n",
    "                                                        501,502,503)\n",
    "                             )then 'SB'\n",
    "                        else 'OOO'\n",
    "                    end as Clnt_Grp,\n",
    "                   /* arrangement id/facility id*/ \n",
    "                   F.ar_id as fac_id,     \n",
    "                   /*facility type*/ \n",
    "                   F.fac_tp_1 as fac_type , \n",
    "                   /*authorized credit status*/ \n",
    "                   F.auth_sts as fac_sts ,  \n",
    "                   /*facility lied code*/ \n",
    "                   F.fac_lied_cd,   \n",
    "                   /*instrument group code*/ \n",
    "                   F.inst_grp_cd, \n",
    "                   /*facility authorization amount*/\n",
    "                   F.fac_auth_amt, \n",
    "                   /*facility outstnding amount*/\n",
    "                   F.fac_os_amt \n",
    "            \n",
    "            FROM DDWV01.rb_clnt AS C\n",
    "            \n",
    "            /*Neo Added Logic */\n",
    "                     INNER JOIN DG6V19.BUS_PRTFOL_CLNT AS BCP\n",
    "                        ON  C.SNAP_DT  = BCP.MTH_END_DT\n",
    "                        AND c.clnt_no = BCP.CLNT_NO  \n",
    "            \n",
    "            \n",
    "                    /* Inner join with roll-up rank hierarchy table to get Canadian banking clients */\n",
    "                 INNER JOIN DDWV01.ROLL_HIER_RELTN_RNK AS R\n",
    "                      ON  r.SNAP_DT  = c.snap_dt\n",
    "                          AND r.ORG_UNT_ID = c.resp_unt\n",
    "                          AND r.PARNT_HIER_TYP_ID = 80000 \n",
    "                          AND r.ROLL_ID_RANK_600 IN (80013,80029,80146,82314,83080,83081,83082,83091)\n",
    "            \n",
    "                /* Used to get client SN ID */\n",
    "                LEFT JOIN DG6V19.CLNT_SN_HIST as SN\n",
    "                             ON C.CLNT_NO = SN.CLNT_NO\n",
    "                            AND C.snap_DT = SN.MTH_END_DT\n",
    "                              \n",
    "                /* Facility info */\n",
    "                    INNER JOIN DG6V19.BUS_PRTFOL_FAC as F\n",
    "                        ON  C.clnt_no = F.clnt_no\n",
    "                            and C.snap_dt = F.mth_end_dt\n",
    "            where \n",
    "                  clnt_grp NOT IN ('OOO', 'SB')\n",
    "                  AND TOT_SN_EXP > 1000000\n",
    "                  and (c.clnt_sts='A' or c.clnt_sts is null) /* filter out inactive clients */\n",
    "                  and c.clnt_typ=2 /* keep only non-personal clients */\n",
    "                  and c.snap_dt > '{start_snap_dt}' AND c.snap_dt < '{end_snap_dt}'\n",
    "        \"\"\"\n",
    "    return pd.read_sql(qry, connection)"
   ]
  },
  {
   "cell_type": "code",
   "execution_count": 56,
   "metadata": {},
   "outputs": [
    {
     "data": {
      "text/plain": [
       "(1670352, 11)"
      ]
     },
     "execution_count": 56,
     "metadata": {},
     "output_type": "execute_result"
    }
   ],
   "source": [
    "start_snap_dt='2015-01-01'\n",
    "end_snap_dt='2016-01-01'\n",
    "df1 = pull_fac_general(start_snap_dt, end_snap_dt)\n",
    "df1.shape"
   ]
  },
  {
   "cell_type": "code",
   "execution_count": 57,
   "metadata": {},
   "outputs": [],
   "source": [
    "df1.to_csv(raw_data_dir+'fac_general_y1.csv', index=False)"
   ]
  },
  {
   "cell_type": "code",
   "execution_count": 58,
   "metadata": {},
   "outputs": [
    {
     "data": {
      "text/plain": [
       "(1764193, 11)"
      ]
     },
     "execution_count": 58,
     "metadata": {},
     "output_type": "execute_result"
    }
   ],
   "source": [
    "start_snap_dt='2016-01-01'\n",
    "end_snap_dt='2017-01-01'\n",
    "df2 = pull_fac_general(start_snap_dt, end_snap_dt)\n",
    "df2.shape"
   ]
  },
  {
   "cell_type": "code",
   "execution_count": 59,
   "metadata": {},
   "outputs": [],
   "source": [
    "df2.to_csv(raw_data_dir+'fac_general_y2.csv', index=False)"
   ]
  },
  {
   "cell_type": "code",
   "execution_count": 60,
   "metadata": {},
   "outputs": [
    {
     "data": {
      "text/plain": [
       "(1868521, 11)"
      ]
     },
     "execution_count": 60,
     "metadata": {},
     "output_type": "execute_result"
    }
   ],
   "source": [
    "start_snap_dt='2017-01-01'\n",
    "end_snap_dt='2018-01-01'\n",
    "df3 = pull_fac_general(start_snap_dt, end_snap_dt)\n",
    "df3.shape"
   ]
  },
  {
   "cell_type": "code",
   "execution_count": 61,
   "metadata": {},
   "outputs": [],
   "source": [
    "df3.to_csv(raw_data_dir+'fac_general_y3.csv', index=False)"
   ]
  },
  {
   "cell_type": "code",
   "execution_count": 62,
   "metadata": {},
   "outputs": [
    {
     "data": {
      "text/plain": [
       "(3020126, 11)"
      ]
     },
     "execution_count": 62,
     "metadata": {},
     "output_type": "execute_result"
    }
   ],
   "source": [
    "start_snap_dt='2018-01-01'\n",
    "end_snap_dt='2019-07-01'\n",
    "df4 = pull_fac_general(start_snap_dt, end_snap_dt)\n",
    "df4.shape"
   ]
  },
  {
   "cell_type": "code",
   "execution_count": 63,
   "metadata": {},
   "outputs": [],
   "source": [
    "df4.to_csv(raw_data_dir+'fac_general_y4.csv', index=False)"
   ]
  },
  {
   "cell_type": "markdown",
   "metadata": {},
   "source": [
    "# BDA"
   ]
  },
  {
   "cell_type": "code",
   "execution_count": 64,
   "metadata": {},
   "outputs": [],
   "source": [
    "def pull_bda_general(start_snap_dt, end_snap_dt):    \n",
    "    qry = f\"\"\"\\\n",
    "               select \n",
    "                /* month end date */\n",
    "                       C.SNAP_DT as mth_end_dt, \n",
    "                /* client number */\n",
    "                       C.clnt_no , \n",
    "                /*arrangement id*/\n",
    "                      A.ar_id,             \n",
    "                      'A' || trim(A.ar_id) as t_ar_id, /* Added by QH on 2018-11-07 */\n",
    "                /* client group, used to define commercial and small business clients */\n",
    "                case\n",
    "                            when (c.BSC in (190,192,200,202,250,490,590)\n",
    "                                    or (c.BSC in (310,500,502,504,505,510) and \n",
    "                                        (c.CURR_CMI_NO not in (100,101,102,103,\n",
    "                                                                200,201,202,203,\n",
    "                                                                300,301,302,303,\n",
    "                                                                401,402,403,\n",
    "                                                                501,502,503) or c.CURR_CMI_NO is NULL))\n",
    "                                 ) then 'COMM'\n",
    "                    \n",
    "                            when (c.BSC in (550,554,555)\n",
    "                                    and (c.CURR_CMI_NO not in (100,101,102,103,\n",
    "                                                                200,201,202,203,\n",
    "                                                                300,301,302,303,\n",
    "                                                                401,402,403,\n",
    "                                                                501,502,503) or c.CURR_CMI_NO is NULL)\n",
    "                                 ) then 'AG'\n",
    "                            when c.BSC in (330) then 'PUB'\n",
    "                            when (c.BSC in (310,500,502,504,505,510, 550,554,555) \n",
    "                                    and c.CURR_CMI_NO in (100,101,102,103,\n",
    "                                                            200,201,202,203,\n",
    "                                                            300,301,302,303,\n",
    "                                                            401,402,403,\n",
    "                                                            501,502,503)\n",
    "                                 )then 'SB'\n",
    "                            else 'OOO'\n",
    "                        end as Clnt_Grp,\n",
    "                /*currency code*/\n",
    "                    O.crncy_cd,    \n",
    "                /*open/close status*/\n",
    "                    O.op_cls_sts,  \n",
    "                /*balance*/\n",
    "                    DD.bal,    \n",
    "                /*balance-backdated*/ \n",
    "                    DD.bal_bkdt,  \n",
    "                /* MIF service ID*/\n",
    "                    D.mif_srvc_id, \n",
    "                /* deposit amount*/\n",
    "                    D.dep_amt, \n",
    "                /*deposits count*/\n",
    "                    D.deps_cnt, \n",
    "                /* minimum cycle balance*/\n",
    "                    D.cyc_minm_bal, \n",
    "                /* transfer credit amount*/\n",
    "                    D.tsfr_cr_amt, \n",
    "                /* transfer credit count*/\n",
    "                    D.tsfr_cr_cnt, \n",
    "                /* transfer debit amount*/\n",
    "                    D.tsfr_dr_amt, \n",
    "                /* transfer debit count*/\n",
    "                    D.tsfr_dr_cnt, \n",
    "                /* average credit balance*/\n",
    "                    D.avg_cr_bal, \n",
    "                /* average credit balance backdate*/\n",
    "                    D.avg_cr_bal_bkdt, \n",
    "                /* average debit balance */\n",
    "                    D.avg_dr_bal, \n",
    "                /* average debit balance backdate*/\n",
    "                    D.avg_dr_bal_bkdt, \n",
    "                /* overdraft count*/\n",
    "                    D.od_cnt, \n",
    "                /* overdraft accumulated balance*/\n",
    "                    D.od_accum_bal, \n",
    "                /* overdraft current number of days*/\n",
    "                    D.od_days_in_mth,\n",
    "                /* overdraft interest charged*/ \n",
    "                    D.od_int_chrg, \n",
    "                /* overdraft  current number of days*/\n",
    "                    D.od_curr_no_of_days, \n",
    "                /* other credit amount*/ \n",
    "                    D.oth_cr_amt, \n",
    "                /* other credit count*/\n",
    "                    D.oth_cr_cnt, \n",
    "                /* other debit amount*/\n",
    "                    D.oth_dr_amt, \n",
    "                /* other debit count*/\n",
    "                    D.oth_dr_cnt, \n",
    "                /* not sufficient fund charge from previous month end*/\n",
    "                    D.nsf_chrg_mtd,\n",
    "                /* not sufficient fund times count*/ \n",
    "                    D.nsf_times_cnt, \n",
    "                /* COBC  indicator*/\n",
    "                    D3.cobc_cbr_type, \n",
    "                /* Overdraft limit*/ \n",
    "                    D3.spcl_od_lmt,\n",
    "                /* overdraft limit type*/ \n",
    "                    D3.od_lmt_type,\n",
    "                /* excess item charge*/\n",
    "                    D4.excs_itm_chrg, \n",
    "                /* excess days in month count including last business day  */\n",
    "                    D4.excess_crrnt_mth_cnt_incl,\n",
    "                /* excess days in month count including last business day */ \n",
    "                    D4.excess_crrnt_mth_cnt_excl, \n",
    "                /* minimum balance during month*/\n",
    "                    B.min_bal,\n",
    "                /* maximum balance during month*/ \n",
    "                      B.max_bal, \n",
    "                /* average balance during month*/\n",
    "                      B.avg_bal          \n",
    "                \n",
    "                FROM DDWV01.rb_clnt AS C\n",
    "                \n",
    "                /*Neo Added Logic */\n",
    "                     INNER JOIN DG6V19.BUS_PRTFOL_CLNT AS BCP\n",
    "                        ON  C.SNAP_DT  = BCP.MTH_END_DT\n",
    "                        AND c.clnt_no = BCP.CLNT_NO                     \n",
    "                    \n",
    "                        /* Inner join with roll-up rank hierarchy table to get Canadian banking clients */\n",
    "                     INNER JOIN DDWV01.ROLL_HIER_RELTN_RNK AS R\n",
    "                          ON  r.SNAP_DT  = c.snap_dt\n",
    "                              AND r.ORG_UNT_ID = c.resp_unt\n",
    "                              AND r.PARNT_HIER_TYP_ID = 80000 \n",
    "                              AND r.ROLL_ID_RANK_600 IN (80013,80029,80146,82314,83080,83081,83082,83091)\n",
    "                    \n",
    "                    /* Inner join with arrangement ownership history to pull primary clients on BDA accounts */\n",
    "                     INNER JOIN DG6V19.arngmnt_own_hist as A\n",
    "                         on A.clnt_no = C.clnt_no\n",
    "                            and A.mth_end_dt = C.snap_dt\n",
    "                            and A.prmry_alt_ind = 'P'\n",
    "                            and A.mif_srvc_id = 2\n",
    "                \n",
    "                    /* Arrangement history table */\n",
    "                     INNER JOIN DG6V19.arngmnt_hist as O\n",
    "                       ON O.mth_end_dt = A.mth_end_dt\n",
    "                          and O.mif_srvc_id = 2\n",
    "                          and O.mif_srvc_id = A.mif_srvc_id /*-- add on 2018-07-03, checked by Kevin*/\n",
    "                          and O.ar_id = A.ar_id\n",
    "                \n",
    "                    /* Deposit account monthly stats history table */\n",
    "                     INNER JOIN DG6V19.dep_acct_mth_stt_hist as D\n",
    "                         on D.mif_acct_no = A.mif_acct_no \n",
    "                            and D.mif_srvc_id = A.mif_srvc_id \n",
    "                            and D.mth_end_dt = A.mth_end_dt \n",
    "                            /*--and D.mth_end_dt LE '2014-10-31'*/\n",
    "                            and D.mif_srvc_id = 2 \n",
    "                \n",
    "                    /* Account history table */\n",
    "                     INNER JOIN DG6V19.acct_hist as DD\n",
    "                         on DD.mif_acct_no = A.mif_acct_no \n",
    "                            and DD.mif_srvc_id = A.mif_srvc_id \n",
    "                            and DD.mth_end_dt = A.mth_end_dt \n",
    "                            /*--and DD.mth_end_dt LE '2014-10-31'*/\n",
    "                            and DD.mif_srvc_id = 2 \n",
    "                \n",
    "                    /* Deposit account history table */\n",
    "                     INNER JOIN DG6V19.dep_acct_hist as D3\n",
    "                         on D3.mif_acct_no = A.mif_acct_no \n",
    "                            and D3.mif_srvc_id = A.mif_srvc_id\n",
    "                            and D3.mth_end_dt = A.mth_end_dt \n",
    "                            /*--and D3.mth_end_dt LE '2014-10-31'*/\n",
    "                            and D3.mif_srvc_id = 2 \n",
    "                \n",
    "                    /* Deposit acct mthly table */\n",
    "                     INNER JOIN DDWV01.depst_acct_mthly as D4\n",
    "                         on D4.month_end_date = A.mth_end_dt\n",
    "                            and D4.dw_srvc_id = A.mif_srvc_id\n",
    "                            and D4.ar_id = A.ar_id\n",
    "                            /*--and D4.month_end_date LE '2014-10-31'*/\n",
    "                            and D4.dw_srvc_id = 2\n",
    "                \n",
    "                    /* min/max/avg balance table */\n",
    "                     LEFT JOIN \n",
    "                     (SELECT \n",
    "                         VT_CLNT_CORE.mth_end_dt,\n",
    "                         VT_CLNT_CORE.ar_id,\n",
    "                         MIN(\n",
    "                           case\n",
    "                               when AR_BAL_DLY.snap_dt GE '2012-11-23' then zeroifnull(AR_BAL_DLY.bal_aft_bkdt)\n",
    "                                else zeroifnull(AR_BAL_DLY.bal)\n",
    "                           end\n",
    "                           ) as min_bal,\n",
    "                        MAX(\n",
    "                           case\n",
    "                             when AR_BAL_DLY.snap_dt GE '2012-11-23' then zeroifnull(AR_BAL_DLY.bal_aft_bkdt)\n",
    "                             else zeroifnull(AR_BAL_DLY.bal)\n",
    "                           end\n",
    "                           ) as max_bal,\n",
    "                         \n",
    "                        AVG(\n",
    "                           case\n",
    "                             when AR_BAL_DLY.snap_dt GE '2012-11-23' then zeroifnull(AR_BAL_DLY.bal_aft_bkdt)\n",
    "                             else zeroifnull(AR_BAL_DLY.bal)\n",
    "                           end\n",
    "                           ) as avg_bal\n",
    "                \n",
    "                      FROM \n",
    "                         (SELECT \n",
    "                             CL.snap_dt as mth_end_dt, \n",
    "                             AR.ar_id, \n",
    "                             case\n",
    "                            when (CL.BSC in (190,192,200,202,250,490,590)\n",
    "                                    or (CL.BSC in (310,500,502,504,505,510) and \n",
    "                                        (CL.CURR_CMI_NO not in (100,101,102,103,\n",
    "                                                                200,201,202,203,\n",
    "                                                                300,301,302,303,\n",
    "                                                                401,402,403,\n",
    "                                                                501,502,503) or CL.CURR_CMI_NO is NULL))\n",
    "                                 ) then 'COMM'\n",
    "                    \n",
    "                            when (CL.BSC in (550,554,555)\n",
    "                                    and (CL.CURR_CMI_NO not in (100,101,102,103,\n",
    "                                                                200,201,202,203,\n",
    "                                                                300,301,302,303,\n",
    "                                                                401,402,403,\n",
    "                                                                501,502,503) or CL.CURR_CMI_NO is NULL)\n",
    "                                 ) then 'AG'\n",
    "                            when CL.BSC in (330) then 'PUB'\n",
    "                            when (CL.BSC in (310,500,502,504,505,510, 550,554,555) \n",
    "                                    and CL.CURR_CMI_NO in (100,101,102,103,\n",
    "                                                            200,201,202,203,\n",
    "                                                            300,301,302,303,\n",
    "                                                            401,402,403,\n",
    "                                                            501,502,503)\n",
    "                                 )then 'SB'\n",
    "                            else 'OOO'\n",
    "                        end as Clnt_Grp  \n",
    "                \n",
    "                          FROM\n",
    "                            DDWV01.rb_clnt  as CL\n",
    "                \n",
    "                            INNER JOIN DDWV01.ROLL_HIER_RELTN_RNK as RO\n",
    "                             ON  RO.SNAP_DT  = CL.snap_DT\n",
    "                                  and RO.ORG_UNT_ID = CL.resp_unt\n",
    "                                    and RO.PARNT_HIER_TYP_ID = 80000 \n",
    "                                    and RO.ROLL_ID_RANK_600 in (80013,80029,80146,82314,83080,83081,83082,83091)\n",
    "                            \n",
    "                            INNER JOIN DG6V19.arngmnt_own_hist as AR\n",
    "                             ON AR.clnt_no = CL.clnt_no\n",
    "                                 and AR.mth_end_dt = CL.snap_dt\n",
    "                                 and AR.prmry_alt_ind = 'P'\n",
    "                                 and AR.mif_srvc_id = 2\n",
    "                \n",
    "                         WHERE \n",
    "                           clnt_grp NOT IN ('OOO','SB')\n",
    "                           and CL.snap_dt > '{start_snap_dt}' AND CL.snap_dt < '{end_snap_dt}' /*modified by Qianyi on 2018-11-07*/\n",
    "                         ) AS VT_CLNT_CORE,   \n",
    "                        \n",
    "                        DDWV01.ar_bal_dly AS AR_BAL_DLY\n",
    "                             \n",
    "                      WHERE EXTRACT (YEAR FROM VT_CLNT_CORE.mth_end_dt) = EXTRACT (YEAR FROM AR_BAL_DLY.snap_dt )\n",
    "                           and EXTRACT (MONTH FROM VT_CLNT_CORE.mth_end_dt) = EXTRACT (MONTH FROM AR_BAL_DLY.snap_dt )\n",
    "                           and VT_CLNT_CORE.ar_id = AR_BAL_DLY.ar_id\n",
    "                      GROUP BY 1,2) as B\n",
    "                         \n",
    "                    ON B.mth_end_dt = A.mth_end_dt\n",
    "                       and B.ar_id = A.ar_id\n",
    "\n",
    "                \n",
    "                where \n",
    "                      clnt_grp NOT IN ('OOO','SB')\n",
    "                      AND TOT_SN_EXP > 1000000\n",
    "                      and (c.clnt_sts='A' or c.clnt_sts is null) /* filter out inactive clients */\n",
    "                      and c.clnt_typ=2 /* keep only non-personal clients */\n",
    "                      and c.snap_dt > '{start_snap_dt}' AND c.snap_dt < '{end_snap_dt}'\n",
    "        \"\"\"\n",
    "    return pd.read_sql(qry, connection)"
   ]
  },
  {
   "cell_type": "code",
   "execution_count": 65,
   "metadata": {},
   "outputs": [
    {
     "data": {
      "text/plain": [
       "(798582, 41)"
      ]
     },
     "execution_count": 65,
     "metadata": {},
     "output_type": "execute_result"
    }
   ],
   "source": [
    "start_snap_dt='2015-01-01'\n",
    "end_snap_dt='2016-01-01'\n",
    "df1 = pull_bda_general(start_snap_dt, end_snap_dt)\n",
    "df1.shape"
   ]
  },
  {
   "cell_type": "code",
   "execution_count": 66,
   "metadata": {},
   "outputs": [],
   "source": [
    "df1.to_csv(raw_data_dir+'bda_general_y1.csv', index=False)"
   ]
  },
  {
   "cell_type": "code",
   "execution_count": 67,
   "metadata": {},
   "outputs": [
    {
     "data": {
      "text/plain": [
       "(832527, 41)"
      ]
     },
     "execution_count": 67,
     "metadata": {},
     "output_type": "execute_result"
    }
   ],
   "source": [
    "start_snap_dt='2016-01-01'\n",
    "end_snap_dt='2017-01-01'\n",
    "df2 = pull_bda_general(start_snap_dt, end_snap_dt)\n",
    "df2.shape"
   ]
  },
  {
   "cell_type": "code",
   "execution_count": 68,
   "metadata": {},
   "outputs": [],
   "source": [
    "df2.to_csv(raw_data_dir+'bda_general_y2.csv', index=False)"
   ]
  },
  {
   "cell_type": "code",
   "execution_count": 69,
   "metadata": {},
   "outputs": [
    {
     "data": {
      "text/plain": [
       "(867904, 41)"
      ]
     },
     "execution_count": 69,
     "metadata": {},
     "output_type": "execute_result"
    }
   ],
   "source": [
    "start_snap_dt='2017-01-01'\n",
    "end_snap_dt='2018-01-01'\n",
    "df3 = pull_bda_general(start_snap_dt, end_snap_dt)\n",
    "df3.shape"
   ]
  },
  {
   "cell_type": "code",
   "execution_count": 70,
   "metadata": {},
   "outputs": [],
   "source": [
    "df3.to_csv(raw_data_dir+'bda_general_y3.csv', index=False)"
   ]
  },
  {
   "cell_type": "code",
   "execution_count": 71,
   "metadata": {},
   "outputs": [
    {
     "data": {
      "text/plain": [
       "(1377650, 41)"
      ]
     },
     "execution_count": 71,
     "metadata": {},
     "output_type": "execute_result"
    }
   ],
   "source": [
    "start_snap_dt='2018-01-01'\n",
    "end_snap_dt='2019-07-01'\n",
    "df4 = pull_bda_general(start_snap_dt, end_snap_dt)\n",
    "df4.shape"
   ]
  },
  {
   "cell_type": "code",
   "execution_count": 72,
   "metadata": {},
   "outputs": [],
   "source": [
    "df4.to_csv(raw_data_dir+'bda_general_y4.csv', index=False)"
   ]
  },
  {
   "cell_type": "markdown",
   "metadata": {},
   "source": [
    "# Prod_Char"
   ]
  },
  {
   "cell_type": "code",
   "execution_count": 73,
   "metadata": {},
   "outputs": [],
   "source": [
    "def pull_prod_char(start_snap_dt, end_snap_dt):    \n",
    "    qry = f\"\"\"\\\n",
    "            select \t\n",
    "                    A.clnt_no,\n",
    "                    A.capture_dt,\n",
    "                    /*-- DDA behavioral Information*/\n",
    "                    dda_any_clct_typ,  /*-- dda any collection type*/\n",
    "                    dda_wrst_rstrnt_typ, /* -- dda worst restraint type*/\n",
    "                    dda_probe_data_sole_mths_cnt, /*-- dda probe data sole account months count*/\n",
    "                    dda_probe_data_joint_mths_cnt,  /*-- dda probe data joint account months count*/\n",
    "                    dda_probe_data_tot_mths_cnt, /*-- dda probe data total months count*/\n",
    "                    dda_days_since_lst_cg_dep, /*-- dda days since last customer generated deposit*/\n",
    "                    dda_curr_to_avg_pay_dep_ratio,  /*-- dda current to average payroll deposit ratio*/\n",
    "                    dda_mths_1_3_avg_cg_dep, /* -- dda months 1-3 average customer generated deposit*/\n",
    "                    dda_mths_1_12_avg_cg_dep,  /*-- dda months 1-12 average customer generated deposit*/\n",
    "                    dda_mths_1_6_sole_expct_val_dp,  /*-- dda months 1-6 sole owner expected value deposits*/\n",
    "                    dda_mths_1_6_joint_expct_valdp, /*-- dda months 1-6 joint owner expected value deposit*/\n",
    "                    dda_mths_1_6_tot_expct_val_dep,  /*-- dda months 1-6 total expected value deposits*/\n",
    "                    dda_curr_dep_to_expct_dep_rati, /*-- dda current deposit to expected deposit ratio*/\n",
    "                    dda_curr_qtr_dep_to_prev_dep_r,  /*\t\t-- dda current quarter deposit to previous deposit ratio*/\n",
    "                    dda_prev_qtr_dep_to_dep_mth7_9, /*\t\t-- dda previous quarter deposit to deposit mth7-9 ratio*/\n",
    "                    dda_ann_comp_of_qtr_dep_ratio,  /*\t\t--dda annual comp of quarter deposit ratio*/\n",
    "                    dda_mths_1_12_regity_of_deps, /*\t\t-- dda months 1-12 regularity of deposits*/\n",
    "                    dda_tot_od_lmt,  /*\t\t-- dda total overdraft limit*/\n",
    "                    dda_mths_1_3_avg_emth_bal,  /*\t\t-- dda months 1-3 average end of month balance*/\n",
    "                    dda_tot_courtesy_od_lmt, /*\t\t-- dda total courtesy overdraft limit*/\n",
    "                    dda_mths_1_3_sole_avg_dbs,  /*\t\t-- dda months 1-3 sole owner average debits*/\n",
    "                    dda_mths_1_3_joint_avg_dbs,  /*\t\t-- dda months 1-3 joint owner average debits*/\n",
    "                    dda_mths_1_3_tot_avg_dbs, /*\t\t--dda months 1-3 total of average debit*/\n",
    "                    dda_curr_mth_wrst_dys_in_debit,  /*\t\t-- dda current month worst days in debit*/\n",
    "                    dda_mths_1_3_wrst_dys_in_debit, /*\t\t-- dda months 1-3 worst days in debit*/\n",
    "                    dda_mths_4_6_wrst_dys_in_debit,   /*\t\t-- dda months 4-6 worst days in debit*/\n",
    "                    dda_curr_mth_tot_days_in_exces,   /*\t\t-- dda current month total days in excess*/\n",
    "                    dda_mths_1_3_tot_days_in_exces,   /*\t\t-- dda months 1-3 total days in excess*/\n",
    "                    dda_mths_4_6_tot_days_in_exces,  /*\t\t-- dda months 4-6 total days in excess*/\n",
    "                    dda_curr_mth_tot_no_of_rets,  /*\t\t-- dda current month total number of returns*/\n",
    "                    dda_mths_1_6_tot_no_of_rets,  /*\t\t--dda months 1-6 total number of returns*/\n",
    "                    dda_tot_no_of_sole_own_open_ac, /*\t\t--dda total number of sole owner open account*/\n",
    "                    dda_tot_no_of_joint_open_acct,  /*\t\t-- dda total number of joint open account*/\n",
    "                    dda_curr_mth_drs_cnt,  /*\t\t-- dda current month debits count*/\n",
    "                    mn_dda_mths_1_12_hi_low_bal_sw,  /*\t\t-- main dda months 1-12 high/low balance swing*/\n",
    "                    mn_dda_frcst_bal_to_avg_dep_rt,  /*\t\t-- main dda forecast balance to average deposit ratio*/\n",
    "                    mn_dda_frcst_qtr_bal_to_avg_dp, /*\t\t--main dda forecast quarter balance to average deposit ratio*/\n",
    "                    mn_dda_open_to_buy_ratio, /*\t\t-- main dda open to buy ratio*/\n",
    "                    mn_dda_qtr_chg_in_frcst_bal_rt, /*\t\t-- main dda quarter change in forecast balance ratio*/\n",
    "                    mn_dda_mthly_hi_bal, /*\t\t-- main dda monthly high balance*/\n",
    "                    dda_val_sole_own_pay_crs,  /*\t\t-- dda value sole owner payroll credits*/\n",
    "                    dda_val_joint_own_pay_crs,  /*\t\t-- dda value joint owner payroll credits*/\n",
    "                    dda_val_tot_own_pay_crs, /*\t\t-- dda value total payroll credits*/\n",
    "                    dda_val_deps_sole_net_pay_crs,  /*\t\t-- dda value deposits sole owner net payroll credit*/\n",
    "                    dda_val_deps_joint_net_pay_crs, /*\t\t-- dda value deposits joint owner net payroll credits*/\n",
    "                    dda_val_deps_tot_net_pay_crs,  /*\t\t-- dda value deposits total net payroll credits*/\n",
    "                    dda_av_pay_crdt_last12_s, /*\t\t-- average value of payroll credits last 12 months (sole)*/\n",
    "                    dda_av_pay_crdt_last12_j,  /*\t\t--average value of payroll credits last 12 months (joint)*/\n",
    "                    dda_dys_snc_excs_cnt, /*\t\t-- days since excess*/\n",
    "                    invst_tot_sole_opentrm_dp_cnt,  /*\t\t--investment total sole owner open term deposit count*/\n",
    "                    invst_tot_joint_opentrm_dp_cnt,  /*\t\t-- investment total joint open term deposit count*/\n",
    "                    ln_wrst_curr_drs_scor,  /*\t\t-- loan worst current drs score*/\n",
    "                    ln_wrst_ln_sts, /*\t\t-- loan worst loan status*/\n",
    "                    ln_wrst_curr_days,  /*\t\t-- loan worst current days delinquent*/\n",
    "                    ln_tot_os_arrears_amt, /*\t\t-- loan total outstanding arrears amount*/\n",
    "                    ln_mths_1_3_wrst_days_dlq, /*\t\t-- loan months 1-3 worst days delinquent*/\n",
    "                    ln_mths_4_6_wrst_days_dlq, /*\t\t-- loan months 4-6 worst days delinquent*/\n",
    "                    ln_mths_7_9_wrst_days_dlq,  /*\t\t-- loan months 7-9 worst days delinquent*/\n",
    "                    ln_mths_10_12_wrst_days_dlq, /*\t\t-- loan months 10-12 worst days delinquent*/\n",
    "                    ln_mths_1_6_30days_dlq_cnt,  /*\t\t-- loan months 1-6 30 days delinquent count*/\n",
    "                    ln_mths_snc_lst_60plus_dys_dlq,  /*\t\t-- loan months since last 60 plus days delinquent*/\n",
    "                    ln_non_revl_tot_emth_bal, /*\t\t-- loan non-revolving total end of month balance*/\n",
    "                    ln_non_revl_tot_minm_pymt,  /*\t\t-- loan non-revolving total minimum payment*/\n",
    "                    ln_non_revl_pymt_typ,  /*\t\t-- loan non-revolving payment type*/\n",
    "                    ln_non_revl_any_ln_ins_typ, /*\t\t-- loan non-revolving any loan insurance type*/\n",
    "                    ln_non_revl_max_mths_to_run, /*\t\t-- loan non-revolving maximum months to run*/\n",
    "                    ln_non_revl_mths_since_most_re, /*\t\t-- loan non-revolving months since most recent open loan*/\n",
    "                    ln_non_revl_most_recnt_open_ln,  /*\t\t-- loan non-revolving most recent open loan purpose code*/\n",
    "                    ln_non_revl_tot_sole_open_cnt, /*\t\t-- loan non-revolving total sole owner open loan count*/\n",
    "                    ln_non_revl_tot_joint_open_cnt,  /*\t\t-- loan non-revolving total joint open loan count*/\n",
    "                    ln_non_revl_12_mth_wrst_daydlq, /*\t\t-- worst days delinquent for non-revolving loans in the last 12 months*/\n",
    "                    ln_non_revl_wrst_curr_dys_dlq,  /*\t\t-- worst current days delinquent for loans*/\n",
    "                    ln_tot_cola_val,  /*\t\t-- loan total collateral value*/\n",
    "                    ln_revl_mth_1_3_emth_avg_bal, /*\t\t-- loan revolving month 1-3 end of month average balance*/\n",
    "                    ln_revl_tot_minm_pymt,  /*\t\t--loan revolving total minimum payment*/\n",
    "                    ln_revl_tot_lmt,  /*\t\t-- loan revolving total limit*/\n",
    "                    ln_revl_mths_1_3_avg_lmt_utlz, /*\t\t-- loan revolving month 1-3 average limit utilization*/\n",
    "                    ln_revl_utlzn_ratio_to_prev_qt,  /*\t\t-- loan revolving utilization ratio to previous quarter*/\n",
    "                    ln_revl_avg_pymt_stmt_bal_rat, /*\t\t-- loan revolving average payment to statement balance ratio*/\n",
    "                    ln_revl_chg_avg_pymt_stmt_rat,/*\t\t-- loan revolving change in average payment to statement balance ratio*/\n",
    "                    ln_revl_sole_own_tot_open_cnt,/*\t\t-- loan revolving sole owner total open count*/\n",
    "                    ln_revl_joint_own_tot_open_cnt,  /*\t\t-- loan revolving joint owner total open count*/\n",
    "                    ln_hi_int_rt,  /*\t\t-- loan highest interest rate*/\n",
    "                    ln_most_recntly_open_sub_purps, /*\t\t-- loan most recently opened sub purpose code*/\n",
    "                    mortg_wrst_curr_days_dlq,  /*\t\t-- mortgage worst current days delinquent*/\n",
    "                    mortg_mths_1_3_wrst_days_dlq,  /*\t\t-- mortgage months 1-3 worst days delinquent*/\n",
    "                    mortg_mths_4_6_wrst_days_dlq, /*\t\t-- mortgage months 4-6 worst days delinquent*/\n",
    "                    mortg_mths_7_9_wrst_days_dlq,  /*\t\t-- mortgage months 7-9 worst days delinquent*/\n",
    "                    mortg_mths_10_12_wrst_days_dlq, /*\t\t-- mortgage months 10-12 worst days delinquent*/\n",
    "                    mortg_mths_1_6_30days_dlq_cnt, /*\t\t-- mortgage months 1-6 30 days delinquent count*/\n",
    "                    mortg_mths_since_lst_60_plus_d, /*\t\t-- mortgage months since last 60 plus days delinquent*/\n",
    "                    mortg_mths_since_most_recnt_op,  /*\t\t-- mortgage months since most recent open*/\n",
    "                    mortg_scty_aprsd_val_less_os, /*\t\t-- mortgage security total appraised value less total outstanding*/\n",
    "                    mortg_emth_tot_bal,  /*\t\t-- mortgage end of month total balance*/\n",
    "                    mortg_tot_mthly_repay,  /*\t\t-- mortgage total monthly repayment*/\n",
    "                    mortg_ratio_osbal_ovr_aprsd_vl, /*\t\t-- mortgage ratio outstanding balance over appraised value*/\n",
    "                    mortg_tot_sole_own_open_cnt,  /*\t\t-- mortgage total sole owner open count*/\n",
    "                    mortg_tot_joint_own_open_cnt,  /*\t\t-- mortgage total joint owner open count*/\n",
    "                    mortg_lst_12_mth_wrst_dys_dlq,  /*\t\t-- worst days delinquent for mortgage in the last 12 months*/\n",
    "                    visa_age_of_oldest_acct, /*\t\t-- visa age of oldest account*/\n",
    "                    visa_mths_1_3_avg_stmt_bal,  /*\t\t-- visa months 1-3 average statement balance*/\n",
    "                    visa_mths_1_3_avg_drs,  /*\t\t-- visa months 1-3 average debits*/\n",
    "                    visa_bhvr_scor, /*\t\t-- visa behavioral score*/\n",
    "                    visa_ratio_mths_1_3_avg_pymt_o,  /*\t\t-- visa ratio months 1-3 average payment over expected payment*/\n",
    "                    visa_wrst_curr_sts_reas_cd,  /*\t\t-- visa worst current status / reason code*/\n",
    "                    visa_curr_wrst_days_dlq, /*\t\t-- visa current worst days delinquent*/\n",
    "                    visa_mths_1_3_wrst_days_dlq,  /*\t\t-- visa months 1-3 worst days delinquent*/\n",
    "                    visa_mths_4_6_wrst_days_dlq,  /*\t\t-- visa months 4-6 worst days delinquent*/\n",
    "                    visa_tot_no_open,  /*\t\t-- visa total number open accounts count*/\n",
    "                    visa_bnkruptcy_scor, /*\t\t-- visa bankruptcy score*/\n",
    "                    visa_bnk_init_lmt_decr,  /*\t\t-- bank initiated visa decrease*/\n",
    "                    visa_lst_12_mth_wrst_dys_dlq, /*\t\t-- worst days delinquent for visa in the last 12 months*/\n",
    "                    visa_mth_snc_bnk_price_incr,  /*\t\t-- months since last bank initiated visa price increase*/\n",
    "                    rcl_campgn_id,  /*\t\t-- rcl campaign id*/\n",
    "                    rcl_lst_12mth_wrst_dys_dlq_cnt,  /*\t\t-- worst days delinquent rcl last 12 months*/\n",
    "                    rcl_mth_since_lst_prc_incr, /*\t\t-- months since last bank initiated rcl price increase*/\n",
    "                    rcl_curr_wrst_dys_dlq_cnt,  /*\t\t-- worst current days delinquent for rcl*/\n",
    "                    rcl_tot_scty_lmt_amt,   /*\t\t-- total rcl secured limits*/\n",
    "                    rcl_tot_unscty_lmt_amt,  /*\t\t-- total rcl unsecured limits*/\n",
    "                    a.probe_sys_src_id,/*\t\t-- probe system source identifier*/\n",
    "                    a.dly_or_mth_typ_cd, /*\t\t-- daily or monthly type code*/\n",
    "                    a.grp_key,  /*\t\t-- group key*/\n",
    "                    avg_cust_dep_svng_l6m_tot_bal,  /*\t\t-- average customer deposit savings l6m total balance*/\n",
    "                    tot_avg_dr_trnvr_l12m_amt, /*\t\t-- total average debit turnover l12m amount*/\n",
    "                    tot_avg_cr_trnvr_l12m_amt,  /*\t\t-- total average credit turnover l12m amount*/\n",
    "                    tot_avgdr_trnvr_totavg_cr_l12m,  /*\t\t-- total avg debit turnover to total avg credit turnover l12m amount*/\n",
    "                    tot_expct_cr_trnvr_amt, /*\t\t-- total expected credit turnover amount*/\n",
    "                    tot_expct_cr_trnvr_tot_unscty,  /*\t\t-- total expected credit turnover to total unsecured lending*/\n",
    "                    tot_expct_cr_trnvr_tot_secur, /*\t\t-- total expected credit turnover to total secured lending*/\n",
    "                    tot_no_of_pymt_rvrs_cnt,  /*\t\t-- total number of payment reversal count*/\n",
    "                    tot_no_of_pymt_rvrs_l3m_cnt,  /*\t\t-- total number of payment reversal l3m count*/\n",
    "                    tot_no_of_pymt_rvrs_l4_6m_cnt, /*\t\t-- total number of payment reversal l4-6m count*/\n",
    "                    no_of_pymt_rvrs_l3m_l4_6m_pct,  /*\t\t--number of payment reversal l3m to l4-6m percent*/\n",
    "                    mth_snc_lst_pymt_rvrs_cnt\n",
    "                    \n",
    "                    /*-- More features added from CLNT_PROD_CHARSTC_VRB table*/\n",
    "                    CHQ_LMT_UTLZN_AVG_LDGR_BAL_CM,\n",
    "                    CHQ_LMT_UTLZN_AVG_LDGR_BAL_L6M,\n",
    "                    CHQ_LMT_UTLZN_FOR_MIN_BAL_CM,\n",
    "                    CHQ_LMT_UTLZN_FOR_MIN_L6M_BAL,\n",
    "                    CHQ_MAX_DYS_IN_CONT_EXCS_CNT,\n",
    "                    CHQ_MAX_NO_OF_DYS_IN_DR_CNT,\n",
    "                    CHQ_MAX_NO_DYS_IN_DR_L3M_CNT,\n",
    "                    CHQ_MAX_DYS_IN_DR_L3M_L4_6MPCT,\n",
    "                    CHQ_MAX_NO_DYS_IN_DR_L4_L6M,\n",
    "                    CHQ_MINM_BAL_L3M_AMT,\n",
    "                    MTH_SNC_LST_CHQ_CA_ACCT_OPEN,\n",
    "                   CHQ_TOT_AVG_CR_TRNVR_L3M_AMT,\n",
    "                   CHQ_TOT_DYS_IN_EXCS_CNT,\n",
    "                   CHQ_TOT_DYS_IN_EXCS_L3M_CNT,\n",
    "                   CHQ_TOT_DYS_IN_EXCS_L4_L6M_CNT,\n",
    "                   CU_NO_OF_CHQ_CA_ACCT_CNT,\n",
    "                  CU_NO_INDRCT_LEND_LN_LIVE_CNT,\n",
    "                  CU_NO_OF_MC_LIVE_CNT,\n",
    "                  CU_NO_OF_RCL_ACCT_LIVE_CNT,\n",
    "                  RCL_NO_REVL_CR_ACCT_LIVE_CNT,\n",
    "                 CU_NO_OF_SECUR_HMLN_RCL_LIVE,\n",
    "                 LN_FT_NO_OF_HOM_LN_LIVE_CNT,\n",
    "            CU_NO_OF_SECUR_RCL_LIVE_CNT,\n",
    "            CU_NO_OF_SECUR_TRM_LN_LIVE_CNT,\n",
    "            CU_NO_OF_TD_CA_ACCT_LIVE_CNT,\n",
    "            CU_NO_OF_TRM_DEP_LIVE_CNT,\n",
    "            HEF_FACILITY_BALANCE,\n",
    "            HEF_FACILITY_LIMIT,\n",
    "            HEF_FACILITY_REDUCING_IND,\n",
    "            HEF_FACILITY_WORST_EVER_DLQ,\n",
    "            LN_FT_NO_OF_PERS_LN_LIVE_CNT,\n",
    "            LN_NUM_GOV_GUAR_LNS_CNT,\n",
    "            LN_NUM_INDIRECT_LNS_CNT,\n",
    "            LN_NO_OF_FIX_TRM_ACCT_LIVE_CNT,\n",
    "            MINM_MTH_TO_RUN_ON_PERS_LN_CNT,\n",
    "            MTH_SNC_LST_CR_ACCT_OPEN_CNT,\n",
    "            MTH_SINCE_LST_LMT_CHG_CNT,\n",
    "            MTH_SNC_LST_PERS_LN_OPEN_CNT,\n",
    "            NON_CHQ_FT_MAX_DLQ_CNT,\n",
    "            NON_CHQ_FT_MAX_L6M_DLQ_CNT,\n",
    "            NON_CHQ_FT_MAX_L7_12M_DLQ_CNT,\n",
    "            NON_CHQ_FT_MTH_SNC_HL_ACCT_OPN,\n",
    "            NON_CHQ_FT_TOTEXPSR_UNSCTY,\n",
    "            NON_CHQ_FT_TOTEXPSR_UNSCTY_FCT,\n",
    "            NON_CHQ_FT_WRST_EXT_BHVR_SCOR,\n",
    "            NON_CHQ_MTH_MST_RCNT_2CYL_DLQ,\n",
    "            NON_CHQ_RCL_AVG_PYMT_L3M_BAL,\n",
    "            NON_CHQ_RCL_AVG_PYMT_L3M_L4_6M,\n",
    "            NON_CHQ_RCL_AVG_PYMT_L4_6M_BAL,\n",
    "            NON_CHQ_RCL_CUST_LMT_L6M_UTLZN,\n",
    "            NON_CHQ_RCL_CUST_LMT_UTLZN_AMT,\n",
    "            NON_CHQ_RCL_MAX_DLQ_CNT,\n",
    "            NON_CHQ_RCL_MAX_L6M_DLQ_CNT,\n",
    "            NON_CHQ_RCL_MAX_L7_12M_DLQ_CNT,\n",
    "            NON_CHQ_RCL_TOTEXPSR_UNSCTY,\n",
    "            NON_CHQ_RCL_TOTEXPR_UNSCTY_FCT,\n",
    "            NON_CHQ_RCL_TOTVAL_L3M_CSH_DBT,\n",
    "            NON_CHQ_RCL_TOTVAL_L3M_CSH_ADV,\n",
    "            RCL_NO_OF_CR_CRD_LIVE_CNT,\n",
    "            TOT_AVG_DR_TRNVR_L3M_AMT,\n",
    "            TOT_DEP_SVNG_BAL_AMT,\n",
    "            TOT_EXPSR_CHQ_UNSCTY_AMT,\n",
    "            TOT_NET_TRNVR_AMT\n",
    "                    \n",
    "            from DDWV11.clnt_bhvr_charstc AS A\n",
    "            \n",
    "            INNER JOIN (Select clnt_no, \n",
    "                        MTH_END_DT, \n",
    "                        TOT_SN_EXP \n",
    "                        FROM DG6V19.BUS_PRTFOL_CLNT WHERE TOT_SN_EXP >1000000) C\n",
    "            ON A.clnt_no = C.clnt_no and A.capture_dt = C.MTH_END_DT\n",
    "            \n",
    "            \n",
    "            INNER JOIN DDWV11.clnt_prod_charstc_vrb as B\n",
    "            ON A.clnt_no = B.clnt_no\n",
    "                  and A.capture_dt = B.capture_dt\n",
    "            where A.pers_bus_flg_typ = 'B' and A.capture_dt > '{start_snap_dt}' AND A.capture_dt < '{end_snap_dt}'\n",
    "    \"\"\"\n",
    "    return pd.read_sql(qry, connection)"
   ]
  },
  {
   "cell_type": "code",
   "execution_count": 74,
   "metadata": {},
   "outputs": [
    {
     "data": {
      "text/plain": [
       "(460593, 198)"
      ]
     },
     "execution_count": 74,
     "metadata": {},
     "output_type": "execute_result"
    }
   ],
   "source": [
    "start_snap_dt='2015-01-01'\n",
    "end_snap_dt='2016-01-01'\n",
    "df1 = pull_prod_char(start_snap_dt, end_snap_dt)\n",
    "df1.shape"
   ]
  },
  {
   "cell_type": "code",
   "execution_count": 75,
   "metadata": {},
   "outputs": [],
   "source": [
    "df1.to_csv(raw_data_dir+'prod_char_y1.csv', index=False)"
   ]
  },
  {
   "cell_type": "code",
   "execution_count": 76,
   "metadata": {},
   "outputs": [
    {
     "data": {
      "text/plain": [
       "(498065, 198)"
      ]
     },
     "execution_count": 76,
     "metadata": {},
     "output_type": "execute_result"
    }
   ],
   "source": [
    "start_snap_dt='2016-01-01'\n",
    "end_snap_dt='2017-01-01'\n",
    "df2 = pull_prod_char(start_snap_dt, end_snap_dt)\n",
    "df2.shape"
   ]
  },
  {
   "cell_type": "code",
   "execution_count": 77,
   "metadata": {},
   "outputs": [],
   "source": [
    "df2.to_csv(raw_data_dir+'prod_char_y2.csv', index=False)"
   ]
  },
  {
   "cell_type": "code",
   "execution_count": 78,
   "metadata": {},
   "outputs": [
    {
     "data": {
      "text/plain": [
       "(530605, 198)"
      ]
     },
     "execution_count": 78,
     "metadata": {},
     "output_type": "execute_result"
    }
   ],
   "source": [
    "start_snap_dt='2017-01-01'\n",
    "end_snap_dt='2018-01-01'\n",
    "df3 = pull_prod_char(start_snap_dt, end_snap_dt)\n",
    "df3.shape"
   ]
  },
  {
   "cell_type": "code",
   "execution_count": 79,
   "metadata": {},
   "outputs": [],
   "source": [
    "df3.to_csv(raw_data_dir+'prod_char_y3.csv', index=False)"
   ]
  },
  {
   "cell_type": "code",
   "execution_count": 80,
   "metadata": {},
   "outputs": [
    {
     "data": {
      "text/plain": [
       "(863901, 198)"
      ]
     },
     "execution_count": 80,
     "metadata": {},
     "output_type": "execute_result"
    }
   ],
   "source": [
    "start_snap_dt='2018-01-01'\n",
    "end_snap_dt='2019-07-01'\n",
    "df4 = pull_prod_char(start_snap_dt, end_snap_dt)\n",
    "df4.shape"
   ]
  },
  {
   "cell_type": "code",
   "execution_count": 81,
   "metadata": {},
   "outputs": [],
   "source": [
    "df4.to_csv(raw_data_dir+'prod_char_y4.csv', index=False)"
   ]
  },
  {
   "cell_type": "markdown",
   "metadata": {},
   "source": [
    "# Bhvr_Char"
   ]
  },
  {
   "cell_type": "code",
   "execution_count": 82,
   "metadata": {},
   "outputs": [],
   "source": [
    "def pull_bhvr_char(start_snap_dt, end_snap_dt):    \n",
    "    qry = f\"\"\"\\\n",
    "                select  \n",
    "                /*client number*/\n",
    "                    A.clnt_no, \n",
    "                /*capture date*/\n",
    "                    A.capture_dt, \n",
    "                /*customer type*/\n",
    "                    A.cust_typ, \n",
    "                /*personal business flag type */\n",
    "                    A.pers_bus_flg_typ, \n",
    "                /*consumer business flag type*/\n",
    "                    A.cnsmr_bus_flg_typ, \n",
    "                /*triage status*/\n",
    "                    A.triage_sts,\n",
    "                /*Months since last triage event */\n",
    "                    A.tm_mths_since_lst_triage_evnt, \n",
    "                /*last triage event identifier*/\n",
    "                    A.lst_triage_evnt_id, \n",
    "                /*business current credit code*/\n",
    "                    A.bus_curr_cr_cd,  \n",
    "                /*gbix node identifier*/\n",
    "                    A.gbix_node_id, \n",
    "                /*last customer segmentation code */\n",
    "                    A.lst_cust_segmt_cd,  \n",
    "                    \n",
    "                    \n",
    "                /******************************\n",
    "                Strength of Business Income\n",
    "                ********************************/\n",
    "                \n",
    "                /*client estimated gross income*/\n",
    "                    A.est_grs_incm, \n",
    "                /*age of business in months */\n",
    "                    A.age_of_bus_in_mths,\n",
    "                /*total expected monthly income amount */\n",
    "                    A.tot_expct_mth_incm_amt,  \n",
    "                /*total monthly income volatility amount*/\n",
    "                    A.tot_mth_incm_vltl_amt,\n",
    "                /*business annual turnover amount */\n",
    "                    A.bus_annual_trnvr_amt,  \n",
    "                    \n",
    "                    \n",
    "                /*****************************\n",
    "                Strength of Credit Relationship\n",
    "                *******************************/\n",
    "                /*strength of relationship type*/\n",
    "                    A.sor, \n",
    "                /*group strength of relationship type */\n",
    "                    A.grp_sor, \n",
    "                /*Primary DDA Type */\n",
    "                    A.prmry_dda_typ, \n",
    "                /*time with bank count */\n",
    "                    A.tm_with_bnk_cnt,\n",
    "                /*age of client relationship */\n",
    "                    A.clnt_reltn_age_in_mths, \n",
    "                /*age of oldest credit relationship in months*/\n",
    "                    A.age_oldest_cr_relt,\n",
    "                /*time since last non-primary relationship */\n",
    "                    A.tm_since_lst_non_prmry_reltn, \n",
    "                /*time/months since last strong strength of relationship*/\n",
    "                    A.tm_mths_since_lst_strong_sor, \n",
    "                /*months since last address change*/\n",
    "                    A.mth_since_lst_addr_chg, \n",
    "                /*customer relationship managment risk ranking*/\n",
    "                    A.crm_rsk_rank,  \n",
    "                    \n",
    "                /**********************\n",
    "                    Client Risk Index\n",
    "                **********************/\n",
    "                /*customer risk index display code*/\n",
    "                    A.cri_disp_cd,\n",
    "                /*client risk index scorecard identifier */\n",
    "                    A.cri_scorcd_id,\n",
    "                /*CRI raw score exlcude card data */\n",
    "                    A.cri_raw_score_excl, \n",
    "                /*CRI raw score include card data*/\n",
    "                    A.cri_raw_score_incl,\n",
    "                /*client risk index general */\n",
    "                    A.cri_gnrl,\n",
    "                /*last month customer risk index */\n",
    "                    A.lst_mth_cri, \n",
    "                /*noncheque rcl worst external behavioural score risk index */\n",
    "                    A.non_chq_rcl_wrst_ext_bhvr_scor, \n",
    "                    \n",
    "                /********************\n",
    "                    Exposures\n",
    "                ********************/\n",
    "                /*client months 1-3 end of month minimum balance*/\n",
    "                    A.m1_3_eom_min_bal, \n",
    "                /*client potential revolving credit exposure*/\n",
    "                    A.potnl_rc_expsr,  \n",
    "                /*client revolving credit exposure ratio mth1-12*/\n",
    "                    A.clnt_revl_cr_expsr_rat_m1_12,  \n",
    "                /*client unsecured exposure ratio mth1-12*/\n",
    "                    A.clnt_unscty_expsr_rat_m1_12,  \n",
    "                /*client actual exposure ignoring security*/\n",
    "                    A.actl_expsr_ig_sec,  \n",
    "                /*client actual exposure including security*/\n",
    "                    A.actl_expsr_in_sec, \n",
    "                /*client actual exposure including mortgages*/\n",
    "                    A.actl_expsr_in_mtge, \n",
    "                /*total unsecured lending amount*/\n",
    "                    A.tot_unscty_lend_amt, \n",
    "                /*total secured lending amount */\n",
    "                    A.tot_secure_lend_amt,\n",
    "                /*total approved security value */\n",
    "                    A.tot_aprov_scty_val,\n",
    "                /*total exposure unsecured amount */\n",
    "                    A.tot_expsr_unscty_amt, \n",
    "                /*total exposure unsecured factored */\n",
    "                    A.tot_expsr_unscty_fct,\n",
    "                /*unsecured lending to total exposure percent */\n",
    "                    A.unscty_lend_to_tot_expsr_pct,\n",
    "                /* secured lending to total security percent */\n",
    "                    A.secure_lend_to_tot_scty_pct,\n",
    "                /* total rbc unsecured exposure */\n",
    "                    A.tot_rbc_unscty_expsr_amt,  \n",
    "                    \n",
    "                /**********************\n",
    "                    Utilization\n",
    "                **********************/\n",
    "                /*open to buy amount*/\n",
    "                    A.open_to_buy_amt, \n",
    "                    \n",
    "                /************************\n",
    "                   Delinquency history\n",
    "                ************************/\n",
    "                /* total delinquency count*/\n",
    "                    A.tot_dlq_cnt,\n",
    "                /* total write off amount */\n",
    "                    A.tot_wrtof_amt, \n",
    "                /* client total arrears amount*/\n",
    "                    A.tot_amt_arrears,\n",
    "                /* client worst current arrears */\n",
    "                    A.worst_curr_arrears,\n",
    "                /* client months 1-12 total write off amount */\n",
    "                    A.m1_12_tot_wo_amt, \n",
    "                /* client total write off less recovery value */\n",
    "                    A.tot_wo_les_rec_val,\n",
    "                /* months since last write-off */\n",
    "                    A.mth_cnt_since_lst_writeoff,  \t\n",
    "                /* cu number times in collection*/\n",
    "                    A.cu_no_times_in_clct, \n",
    "                /* cu months since last collection entry*/\n",
    "                    A.cu_mth_since_lst_clct_entry, \n",
    "                /* cu months since last broken promise*/\n",
    "                    A.cu_mth_since_lst_brkn_prms,  \n",
    "                /* cu total number broken promises*/\n",
    "                    A.cu_tot_no_brkn_prms,\n",
    "                /* cu total months since last review */\n",
    "                    A.cu_tot_mth_since_lst_rvw, \n",
    "                    \n",
    "                /********************\n",
    "                  Revenue Amount\n",
    "                *********************/\n",
    "                /* total fee income amount*/\n",
    "                    A.tot_fee_incm_amt, \n",
    "                /* total interest income amount */\n",
    "                    A.tot_int_incm_amt, \n",
    "                    \n",
    "                /* Cost Amount*/\n",
    "                    A.tot_costs_amt, \n",
    "                    \n",
    "                    \n",
    "                /*\t-- Capability to Payback*/\n",
    "                /*-- client months 1-12 best saving position*/\n",
    "                    A.clnt_m1_12_bst_sav_posn,  \n",
    "                /*-- client change balance to average deposit ratio*/\n",
    "                    A.clnt_chg_bal_to_avg_dep_ratio, \n",
    "                /*-- client previous change balance to average deposit ratio */\n",
    "                    A.clnt_prev_chg_bal_avg_dep_rat, \n",
    "                /* -- client yearly change balance to average deposit ratio */\n",
    "                    A.clnt_yrly_chg_bal_avg_dep_rat,\n",
    "                /* --client ratio business over consumer deposit turnover */\n",
    "                    A.clnt_ratio_bus_over_cnsmr_dep, \n",
    "                /* --lending percent-total expected mthly income to total net revolving u*/\n",
    "                    A.exp_mth_incm_to_rvl_unsec_lend, \n",
    "                /*-- last collections status code*/\n",
    "                    A.lst_clctn_sts_cd, \n",
    "                /*-- last pre-collections triage status code */\n",
    "                    A.lst_pre_clctn_triage_sts_cd,\n",
    "                /*--number of months of probe history count */\n",
    "                    A.no_of_mth_of_probe_hist_cnt,  \n",
    "                    \n",
    "                     \n",
    "                /*\t-- Personal Credit Information*/\n",
    "                /*-- pc age oldest credit relationship*/\n",
    "                    A.pc_age_oldest_cr_reltn, \n",
    "                /*-- pc last months cri value*/\n",
    "                    A.pc_lst_mth_cri_val, \n",
    "                /* -- pc average months customer generated deposit month 1-12*/\n",
    "                    A.pc_avg_mth_cg_dep_mth_1_12,\n",
    "                /*-- pc expected value deposit month 1-6 joint*/\n",
    "                    A.pc_expct_val_dep_mth_1_6_jnt,\n",
    "                /* -- pc actual exposure including mortgage amount*/\n",
    "                    A.pc_actl_expsr_incl_mortg_amt, \n",
    "                /*-- pc ratio business consumer deposit value*/\n",
    "                    A.pc_rato_bus_cnsmr_dep_val, \n",
    "                /*--pc ttl rbc unsecured exposure amount */\n",
    "                    A.pc_ttl_rbc_unscty_expsr_amt, \n",
    "                /*-- pc fl1 cri generated node identifier*/\n",
    "                    A.pc_fl1_cri_gnrtd_node_id, \n",
    "                /*-- pc cri value*/\n",
    "                    A.pc_cri_val,  \n",
    "                /*--pc fl1 assign gbix node identifier*/\n",
    "                    A.pc_fl1_asgn_gbix_node_id,\n",
    "                /*-- pc gbix flag */\n",
    "                    A.pc_gbix_flg, \n",
    "                /*-- pc cri display code*/\n",
    "                    A.pc_cri_displ_cd, \n",
    "                /*-- pc cri crm code*/\n",
    "                    A.pc_cri_crm_cd,  \n",
    "                /*-- pc strength of relationship code*/\n",
    "                    A.pc_sor_cd,  \n",
    "                    \n",
    "                /*\t-- BusinessCredit Information*/\n",
    "                /*-- bc age oldest cred relationship*/\n",
    "                    A.bc_age_oldest_cr_reltn, \n",
    "                /*--bc age of business */\n",
    "                    A.bc_age_of_bus, \n",
    "                /*-- bc last months cri value*/\n",
    "                    A.bc_lst_mth_cri_val,\n",
    "                /*-- bc average months customer generated deposit month 1-12 */\n",
    "                    A.bc_avg_mth_cg_dep_mth_1_12,\n",
    "                /*--bc expected value deposit month 1-6 joint */\n",
    "                    A.bc_expct_val_dep_mth_1_6_joint,\n",
    "                /*--bc actual exposure including mortgage amount */\n",
    "                    A.bc_actl_expsr_incl_mortg_amt,\n",
    "                /*-- bc ratio business consumer deposit value */\n",
    "                    A.bc_rato_bus_cnsmr_dep_val,\n",
    "                /* -- bc ttl rbc unsecured exposure amount */\n",
    "                    A.bc_ttl_rbc_unscty_expsr_amt,\n",
    "                /*-- bc fl1 cri generated node identifier */\n",
    "                    A.bc_fl1_cri_gen_node_id,\n",
    "                /* -- bc cri value */\n",
    "                    A.bc_cri_val, \n",
    "                /*-- bc fl1 assign gbix node identifier*/\n",
    "                    A.bc_fl1_asgn_gbix_node_id,\n",
    "                /*  -- bc gbix flag */\n",
    "                    A.bc_gbix_flg,\n",
    "                /* -- bc cri display code*/\n",
    "                    A.bc_cri_displ_cd, \n",
    "                /* --bc cri crm code*/\n",
    "                    A.bc_cri_crm_cd, \n",
    "                /* --bc strength of relationship code*/\n",
    "                    A.bc_sor_cd, \n",
    "                /* -- collections reason code*/\n",
    "                    A.most_rcnt_clct_reason_code,\n",
    "                /*  -- triage reason exit date*/\n",
    "                    A.triage_reason_exit_date,\n",
    "                /* -- triage reason exit code*/\n",
    "                    A.triage_reason_exit_code,\n",
    "                \n",
    "                \n",
    "                /*\t---- The following are variables that were caputured in 2010 Business CRI model ------*/\n",
    "                /*-- residential code*/\n",
    "                    A.RESID_CD, \n",
    "                /*-- GEOGRAPHICAL UNIT */\n",
    "                    A.GEO_UNT, \n",
    "                /*-- CLIENT ANY ACCOUNT CURRENTLY IN COLLECTIONS*/\n",
    "                    A.ANY_ACCT_IN_CLCT, \n",
    "                /*-- CLIENT VULNERABILITY CODE */\n",
    "                    A.CLNT_VULNRABLTY_CD,\n",
    "                /*-- CLIENT LIFE TIME VALUE  */\n",
    "                    A.CLNT_LIFE_TM_VAL, \n",
    "                \n",
    "                \n",
    "                /*\t--- Credit Application Data*/\n",
    "                /*-- CREDIT APPLICATION TOTAL DEBT SERVICE RATIO */\n",
    "                    B.CA_TDS,  \n",
    "                /*--CREDIT APPLICATION SERVICE TYPE CODE*/\n",
    "                    B.CA_SRVC_TYP_CD,\n",
    "                /*--CREDIT APPLICATION MOST RECENT PRODUCT TYPE  */\n",
    "                    B.CA_MOST_RECNT_PROD_TYP ,\n",
    "                /*-- CREDIT APPLICATION DELIVERY CHANNEL */\n",
    "                    B.CA_DELVRY_CHNL,\n",
    "                /*-- CREDIT APPLICATION MOST RECENT APPLICATION DATA AGE  */\n",
    "                    B.CA_MST_RCNT_AP_AGE, \n",
    "                /*-- CREDIT APPLICATION HOUSING PAYMENT  */\n",
    "                    B.CA_HOUSING_PYMNTS, \n",
    "                /* --CREDIT APPLICATION INCOME AMOUNT */\n",
    "                    B.CA_INCM_AMT,\n",
    "                /*-- CREDIT APPLICATION OVERRIDE REASON CODE BY CREDIT APPROVAL OFFICER */\n",
    "                    B.CA_OVRD_REAS_CD_BY_CAO,\n",
    "                /*--CREDIT APPLICATION LENDER OVERRIDE REASON CODE  */\n",
    "                    B.CA_LN_OVRD_REAS_CD, \n",
    "                \n",
    "                /*\t---Credit Bureau Data*/\n",
    "                /*--NUMBER BK/NATL TRADES W/BAL 75% HIGH CREDIT */\n",
    "                    B.CB_BNK_NTL_TRD_75PCT_HICR_CNT, \n",
    "                /* --CREDIT BUREAU TOTAL LOAN COMMITMENT */\n",
    "                    B.CB_TOT_LN_COMT, \n",
    "                /* -- CREDIT BUREAU MOST RECENT CREDIT BUREAU SCORE*/\n",
    "                    B.MST_RECNT_CB_SCORE, \n",
    "                /*--HIGHEST CREDIT LINE UTILIZATION BANKCARD TRADELINE*/\n",
    "                    B.CB_BNKCRD_TRADELINE_HI_CR_AMT,\n",
    "                /*--MAXIMUM CREDIT LIMIT UTILIZATION ON EXTERNAL/BANKCARD/RETAIL CARD  */\n",
    "                    B.CB_EXTRNL_BNKCRD_RTL_MAX_CRAMT, \n",
    "                /* --TOTAL ESTIMATED UNSECURED EXTERNAL BALANCES */\n",
    "                    B.CB_TOT_EST_UNSECR_EXTRN_BAL,\n",
    "                /*--CREDIT BUREAU WORST RATING EVER  */\n",
    "                    B.CB_WRST_EVER_CR_BUR_RTG,\n",
    "                /*-- CREDIT BUREAU TOTAL ALL REVOLVING LIMITS  */\n",
    "                    B.CB_TOT_REVLV_LMTS,\n",
    "                /*--CREDIT BUREAU OLDEST TRADE AGE  */\n",
    "                    B.CB_OLDEST_TRD_AGE,\n",
    "                /* --CREDIT BUREAU AVERAGE LAST 3 MONTHS BANK REVOLVING OUTSTANDING BALANCE */\n",
    "                    B.CB_BNK_LST_3M_OS_B,\n",
    "                /* -- CREDIT BUREAU EXCEPTION FLAG TYPE  */\n",
    "                    B.CB_EXCPT_FLG, \n",
    "                /* -- CREDIT BUREAU LAST 12 MONTHS XRTL 30DAYS DELINQUENT COUNT */\n",
    "                    B.CB_LST12MTH_XRTL_30DY_DLQ_CNT,\n",
    "                /* -- NUMBER OF TRADES 30 DPD IN LAST 12 MONTHS  */\n",
    "                    B.CB_LST_12MTH_TRADES_30_DLQ_CNT,\n",
    "                /* -- NUMBER OF TRADES 60 DPD IN LAST 12 MONTHS */\n",
    "                    B.CB_LST_12MTH_TRADES_60_DLQ_CNT,\n",
    "                /*-- NUMBER OF TIMES 30 DPD IN LAST 12 MONTHS*/\n",
    "                    B.CB_LST_12_MTH_30_DAY_DLQ_CNT,  \n",
    "                /*  -- NUMBER OF TRADES 90+ DPD IN LAST 12 MONTHS */\n",
    "                    B.CB_LST_12_MTH_90_DYS_DLQ_CNT,\n",
    "                /*-- CREDIT BUREAU LAST 6 MONTHS WORST DELINQUENCY RATING ALL TRADES*/\n",
    "                    B.CB_LST_6M_DELQ_RTG,\n",
    "                /*-- CREDIT BUREAU WORST CURRENT DELINQUENCY RATING  */\n",
    "                    B.CB_WORST_DELQ_RTG, \n",
    "                /* -- HIGHEST AMOUNT OF BANKCARD TRADE HC/CL ACTIVE*/\n",
    "                    B.CB_HI_BNKCRD_HC_CL_ACTVTRD_AMT,\n",
    "                /*  --AGE IN MONTHS OF OLDEST OPEN REVOLVING TRADE */\n",
    "                    B.CB_OLDST_REVL_OPEN_TRD_AGE_MTH, \n",
    "                /*-- MONTHS SINCE MOST RECENT DELINQUENCY */\n",
    "                    B.CB_MOST_RECNT_DLQ_IN_MTHS,\n",
    "                /* -- CREDIT BUREAU AVG LAST 3 MONTHS REVOLVING OUTSTANDING BALANCE */\n",
    "                    B.CB_LST_3M_OS_BAL,\n",
    "                /* -- AVERAGE NUMBER OF MONTHS BANKCARDS ON FILE  */\n",
    "                    B.CB_BNKCRD_AVG_MTH_CNT,\n",
    "                /*   -- MONTHS SINCE OLDEST BANKCARD TRADE OPENED */\n",
    "                    B.CB_OLDST_BNKCRD_OPEN_TRD_MTHS, \n",
    "                /* -- MONTHS SINCE MOST RECENT INQUIRY */\n",
    "                    B.CB_MOST_RECNT_INQ_IN_MTHS,\n",
    "                /*-- CREDIT BUREAU OPEN TO BUY */\n",
    "                    B.CB_OPEN_TO_BUY, \n",
    "                /* -- NUMBER MONTHS SINCE LAST REPORTED 60 DPD */\n",
    "                    B.CB_LST_60_DAY_DLQ_MTH_CNT,\n",
    "                \n",
    "                /*\t-- More features added from CLNT_BHVR_CHARSTC*/\n",
    "                /*-- Criteria Paper BRR*/\n",
    "                    A.BRR, \n",
    "                /*-- Change in client risk index */\n",
    "                    A.CHG_IN_CRI,\n",
    "                /* -- Change in client group risk index */\n",
    "                    A.CHG_IN_GRP_CRI_TYP1,\n",
    "                /*-- Client profitability*/\n",
    "                    A.CLNT_PROF, \n",
    "                /* -- CRI Customer relationship management code*/\n",
    "                    A.CRI_CRM_CD,\n",
    "                /*-- CURRENT CREDIT TURNOVER TO UNSECURED LENDING PERCENT 1*/\n",
    "                    A.CURR_CR_TRNVR_UNSCTY_LEND_PCT1,\n",
    "                /*-- CURRENT CREDIT TURNOVER TO UNSECURED LENDING PERCENT 2 */\n",
    "                    A.CURR_CR_TRNVR_UNSCTY_LEND_PCT2, \n",
    "                /*-- CURRENT CREDIT TURNOVER TO UNSECURED LENDING PERCENT 3*/\n",
    "                    A.CURR_CR_TRNVR_UNSCTY_LEND_PCT3,\n",
    "                /* -- CURRENT CREDIT TURNOVER TO UNSECURED LENDING PERCENT 4 */\n",
    "                    A.CURR_CR_TRNVR_UNSCTY_LEND_PCT4,\n",
    "                /* -- CURRENT CREDIT TURNOVER TO UNSECURED LENDING PERCENT 5*/\n",
    "                    A.CURR_CR_TRNVR_UNSCTY_LEND_PCT5,\n",
    "                /* -- CURRENT CREDIT TURNOVER TO UNSECURED LENDING PERCENT 6*/\n",
    "                    A.CURR_CR_TRNVR_UNSCTY_LEND_PCT6,\n",
    "                /* -- CURRENT CREDIT TURNOVER TO UNSECURED LENDING PERCENT 7*/\n",
    "                    A.CURR_CR_TRNVR_UNSCTY_LEND_PCT7,\n",
    "                /*-- CUSTOMER GENERATED DEPOSITS M1-12*/\n",
    "                    A.CUS_CGD_L12M, \n",
    "                /* -- CUSTOMER GENERATED DEPOSITS M1-3*/\n",
    "                    A.CUS_CGD_L3M, \n",
    "                /*-- DISTRICT NUMBER*/\n",
    "                    A.DIST_NO,\n",
    "                /*-- Good/Bad/Indetermined Flag */\n",
    "                    A.GBIX_FLG_TYP,\n",
    "                /*-- GROUP CRI CUSTOMER RELATIONSHIP MANAGEMENT CODE */\n",
    "                    A.GRP_CRI_CRM_CD, \n",
    "                /* -- GROUP CRI FLAG INDICATOR*/\n",
    "                    A.GRP_CRI_FLG_IND, \n",
    "                /*-- GROUP CRI FLAG INDICATOR*/\n",
    "                    A.GRP_CRI, \n",
    "                /*-- GROUP CUSTOMER RISK INDEX DISPLAY CODE*/\n",
    "                    A.GRP_CRI_DISP_CD, \n",
    "                /*-- Group Key*/\n",
    "                    A.GRP_KEY,  \n",
    "                /*-- MONTHS SINCE LAST SIGNIFICANT INCOME COUNT*/\n",
    "                    A.MTH_SINCE_LST_SIGT_INCM_CNT, \n",
    "                /* -- MONTHS WITH SIGNIFICANT INCOME L6M COUNT */\n",
    "                    A.MTH_WITH_SIGT_INCM_L6M_CNT, \n",
    "                /*  -- POST RATING STRENGTH OF BUSINESS RELATIONSHIP*/\n",
    "                    A.POST_RTG_STR_OF_BUS_RELTN,\n",
    "                /*-- POST RATING STRENGTH OF CONSUMER RELATIONSHIP*/\n",
    "                    A.POST_RTG_STR_OF_CNSMR_RELTN, \n",
    "                /* -- RESPONSIBILITY TRANSIT NUMBER */\n",
    "                    A.RESP_TR_NO, \n",
    "                /*-- TIME/MONTHS SINCE LAST CONSOLIDATION */\n",
    "                    A.TM_SINCE_LST_CNSLN,\n",
    "                /*-- TOTAL ANNUAL INCOME 12 MONTHS AGO AMOUNT */\n",
    "                    A.TOT_ANINCM_TO_ANN_INCM_12MAGO, \n",
    "                /* --TOTAL ANNUAL INCOME AMOUNT*/\n",
    "                    A.TOT_ANN_INCM_AMT, \n",
    "                /* -- TOTAL ANNUAL INCOME CONSUMER TO BUSINESS PERCENT */\n",
    "                    A.TOT_ANN_INCM_CNSMR_TO_BUS_PCT,\n",
    "                /*-- TOTAL ANNUAL INCOME TO TOTAL ANNUAL INCOME 12M AGO */\n",
    "                    A.TOT_ANN_INCM_12_MTH_AGO, \n",
    "                /* -- TOTAL EXPECT MTHLY CREDIT COMITMENT TO TOTAL EXPECT MNTHLY INCOME */\n",
    "                    A.TOT_EXPCT_CRCOMT_MTH_INCM_PCT, \n",
    "                /*-- TOTAL EXPECTED MONTHLY CREDIT COMMITMENT AMOUNT*/\n",
    "                    A.TOT_EXPCT_MTH_CR_COMT_AMT, \n",
    "                /* -- TOTAL EXPECTED MONTHLY INCOME TO TNUL */\n",
    "                    A.TOT_EXPCT_MTH_INCM_TO_TNUL_PCT, \n",
    "                /*  -- TOTAL INCOME CM TO TOTAL EXPECTED MONTHLY INCOME PERCENT*/\n",
    "                    A.TOT_INCM_CM_TO_EXPCT_INCM_PCT,\n",
    "                /* -- TOTAL INCOME L3M TO L13-15M PERCENT*/\n",
    "                    A.TOT_INCM_L3M_TO_L13_15M_PCT, \n",
    "                /* -- TOTAL MONTHLY INCOME 1 MONTH AGO AMOUNT*/\n",
    "                    A.TOT_MTH_INCM_1_MTH_AGO_AMT, \n",
    "                /*-- TOTAL MONTHLY INCOME 10 MONTHS AGO AMOUNT*/\n",
    "                    A.TOT_MTH_INCM_10_MTH_AGO_AMT, \n",
    "                /* -- TOTAL MONTHLY INCOME 11 MONTHS AGO AMOUNT*/\n",
    "                    A.TOT_MTH_INCM_11_MTH_AGO_AMT, \n",
    "                /* -- TOTAL MONTHLY INCOME 11 MONTHS AGO AMOUNT */\n",
    "                    A.TOT_MTH_INCM_12_MTH_AGO_AMT, \n",
    "                /* -- TOTAL MONTHLY INCOME 13 MONTHS AGO AMOUNT*/\n",
    "                    A.TOT_MTH_INCM_13_MTH_AGO_AMT,\n",
    "                /* -- TOTAL MONTHLY INCOME 14 MONTHS AGO AMOUNT */\n",
    "                    A.TOT_MTH_INCM_14_MTH_AGO_AMT,\n",
    "                /* -- TOTAL MONTHLY INCOME 15 MONTHS AGO AMOUNT */\n",
    "                    A.TOT_MTH_INCM_15_MTH_AGO_AMT, \n",
    "                /* -- TOTAL MONTHLY INCOME 2 MONTH AGO AMOUNT*/\n",
    "                    A.TOT_MTH_INCM_2_MTH_AGO_AMT, \n",
    "                /*-- TOTAL MONTHLY INCOME 3 MONTH AGO AMOUNT*/\n",
    "                    A.TOT_MTH_INCM_3_MTH_AGO_AMT,  \n",
    "                /* -- TOTAL MONTHLY INCOME 4 MONTH AGO AMOUNT*/\n",
    "                    A.TOT_MTH_INCM_4_MTH_AGO_AMT, \n",
    "                /*-- TOTAL MONTHLY INCOME 5 MONTH AGO AMOUNT*/\n",
    "                    A.TOT_MTH_INCM_5_MTH_AGO_AMT,  \n",
    "                /*  -- TOTAL MONTHLY INCOME 6 MONTH AGO AMOUNT*/\n",
    "                    A.TOT_MTH_INCM_6_MTH_AGO_AMT,\n",
    "                /*  -- TOTAL MONTHLY INCOME 7 MONTH AGO AMOUNT*/\n",
    "                    A.TOT_MTH_INCM_7_MTH_AGO_AMT,\n",
    "                /*  -- TOTAL MONTHLY INCOME 8 MONTH AGO AMOUNT*/\n",
    "                    A.TOT_MTH_INCM_8_MTH_AGO_AMT,\n",
    "                /*  -- TOTAL MONTHLY INCOME 9 MONTH AGO AMOUNT*/\n",
    "                    A.TOT_MTH_INCM_9_MTH_AGO_AMT,\n",
    "                /* -- TOTAL NET REVOLVING UNSECURED LENDING AMOUNT*/\n",
    "                    A.TOT_NET_REVL_UNSCTY_LEND_AMT, \n",
    "                /*-- TOTAL NET UNSECURED LENDING AMOUNT*/\n",
    "                    A.TOT_NET_UNSCTY_LEND_AMT,  \n",
    "                /*-- TOTAL RISK WEIGHTED APPROVE SECURITY TO TOTAL APPR SECURITY PERCENT*/\n",
    "                    A.TOT_RSK_WGT_SCTY_TOT_APRV_SEC,\n",
    "                /*-- TOTAL RISK WEIGHTED APPROVE SECURITY TO TOTAL SECURED LENDING PERCENT */\n",
    "                    A.TOT_RSK_WGT_SCTY_TOTSECUR_LEND,  \n",
    "                /* -- TOTAL UNAUTHORIZED FEE INCOME AMOUNT*/\n",
    "                    A.TOT_UNAUTH_FEE_INCM_AMT,\n",
    "                /* -- TOTAL UNAUTHORIZED INTEREST INCOME AMOUNT*/\n",
    "                    A.TOT_UNAUTH_INT_INCM_AMT, \n",
    "                /*-- UNDELIVERABLE ADDRESS INDICATOR*/\n",
    "                    A.UNDELIV_ADDR_IND, \n",
    "                /*-- Criteria Paper BRR */\n",
    "                    A.CMRCL_CP_BRR,  \n",
    "                /*-- non-sufficient fund indicator*/\n",
    "                    A.NON_SUFF_FND_TYP_CD, \n",
    "                \n",
    "                /*-- More features added from CLNT_CR_CHARSTC_VRB*/\n",
    "                /*-- Additional bureau score for last month 1*/\n",
    "                   B.ADNL_BUR_SCOR_LST_MTH_1_VAL, \n",
    "                /*-- Additional bureau score for last month 2*/\n",
    "                   B.ADNL_BUR_SCOR_LST_MTH_2_VAL, \n",
    "                /*-- Additional bureau score for last month 3*/\n",
    "                   B.ADNL_BUR_SCOR_LST_MTH_3_VAL, \n",
    "                /*-- Additional bureau score for last month 4*/\n",
    "                   B.ADNL_BUR_SCOR_LST_MTH_4_VAL, \n",
    "                /*-- Additional bureau score for last month 5*/\n",
    "                   B.ADNL_BUR_SCOR_LST_MTH_5_VAL, \n",
    "                /*-- application status code*/\n",
    "                   B.CA_APP_STS_CD,  \n",
    "                /*-- application product type in last 24 months*/\n",
    "                   B.CA_APP_PROD_TYP_LST_24_MTH,  \n",
    "                /* -- Credit application exception or caution code*/\n",
    "                   B.CA_EXCPT_CAUT_CD,\n",
    "                /* -- Credit application exception resason code*/\n",
    "                   B.CA_EXCPT_REAS_CD,\n",
    "                /*-- Credit application scorecard id*/\n",
    "                   B.CA_PROD_SCRECRD_ID \n",
    "                \n",
    "                \n",
    "                        \n",
    "                FROM\tDDWV11.clnt_bhvr_charstc as A\n",
    "                \n",
    "                INNER JOIN (Select clnt_no, \n",
    "                        MTH_END_DT, \n",
    "                        TOT_SN_EXP \n",
    "                        FROM DG6V19.BUS_PRTFOL_CLNT WHERE TOT_SN_EXP >1000000) C\n",
    "                ON A.clnt_no = C.clnt_no and A.capture_dt = C.MTH_END_DT\n",
    "            \n",
    "            \n",
    "                LEFT JOIN  DDWV11.CLNT_CR_CHARSTC_VRB as B\n",
    "                ON A.clnt_no = B.clnt_no and A.capture_dt = B.capture_dt\n",
    "                   \n",
    "                WHERE A.pers_bus_flg_typ = 'B' and A.capture_dt > '{start_snap_dt}' AND A.capture_dt < '{end_snap_dt}'\n",
    "    \"\"\"\n",
    "    return pd.read_sql(qry, connection)"
   ]
  },
  {
   "cell_type": "code",
   "execution_count": 83,
   "metadata": {},
   "outputs": [
    {
     "data": {
      "text/plain": [
       "(460593, 216)"
      ]
     },
     "execution_count": 83,
     "metadata": {},
     "output_type": "execute_result"
    }
   ],
   "source": [
    "start_snap_dt='2015-01-01'\n",
    "end_snap_dt='2016-01-01'\n",
    "df1 = pull_bhvr_char(start_snap_dt, end_snap_dt)\n",
    "df1.shape"
   ]
  },
  {
   "cell_type": "code",
   "execution_count": 84,
   "metadata": {},
   "outputs": [],
   "source": [
    "df1.to_csv(raw_data_dir+'bhvr_char_y1.csv', index=False)"
   ]
  },
  {
   "cell_type": "code",
   "execution_count": 85,
   "metadata": {},
   "outputs": [
    {
     "data": {
      "text/plain": [
       "(498065, 216)"
      ]
     },
     "execution_count": 85,
     "metadata": {},
     "output_type": "execute_result"
    }
   ],
   "source": [
    "start_snap_dt='2016-01-01'\n",
    "end_snap_dt='2017-01-01'\n",
    "df2 = pull_bhvr_char(start_snap_dt, end_snap_dt)\n",
    "df2.shape"
   ]
  },
  {
   "cell_type": "code",
   "execution_count": 86,
   "metadata": {},
   "outputs": [],
   "source": [
    "df2.to_csv(raw_data_dir+'bhvr_char_y2.csv', index=False)"
   ]
  },
  {
   "cell_type": "code",
   "execution_count": 87,
   "metadata": {},
   "outputs": [
    {
     "data": {
      "text/plain": [
       "(530605, 216)"
      ]
     },
     "execution_count": 87,
     "metadata": {},
     "output_type": "execute_result"
    }
   ],
   "source": [
    "start_snap_dt='2017-01-01'\n",
    "end_snap_dt='2018-01-01'\n",
    "df3 = pull_bhvr_char(start_snap_dt, end_snap_dt)\n",
    "df3.shape"
   ]
  },
  {
   "cell_type": "code",
   "execution_count": 88,
   "metadata": {},
   "outputs": [],
   "source": [
    "df3.to_csv(raw_data_dir+'bhvr_char_y3.csv', index=False)"
   ]
  },
  {
   "cell_type": "code",
   "execution_count": 89,
   "metadata": {},
   "outputs": [
    {
     "data": {
      "text/plain": [
       "(863901, 216)"
      ]
     },
     "execution_count": 89,
     "metadata": {},
     "output_type": "execute_result"
    }
   ],
   "source": [
    "start_snap_dt='2018-01-01'\n",
    "end_snap_dt='2019-07-01'\n",
    "df4 = pull_bhvr_char(start_snap_dt, end_snap_dt)\n",
    "df4.shape"
   ]
  },
  {
   "cell_type": "code",
   "execution_count": 90,
   "metadata": {},
   "outputs": [],
   "source": [
    "df4.to_csv(raw_data_dir+'bhvr_char_y4.csv', index=False)"
   ]
  },
  {
   "cell_type": "markdown",
   "metadata": {},
   "source": [
    "# BRR Extract"
   ]
  },
  {
   "cell_type": "code",
   "execution_count": 91,
   "metadata": {},
   "outputs": [],
   "source": [
    "def pull_brr_extract(start_snap_dt, end_snap_dt):    \n",
    "    qry = f\"\"\"\\\n",
    "    SELECT \n",
    "            /* This datapull uses RB_CLNT as the base population for pulling data */\n",
    "            /* month end date */\n",
    "                   C.SNAP_DT as mth_end_dt, \n",
    "            /* client number */\n",
    "                   C.clnt_no , \n",
    "            /* client group, used to define commercial and small business clients */\n",
    "            case\n",
    "                        when (c.BSC in (190,192,200,202,250,490,590)\n",
    "                                or (c.BSC in (310,500,502,504,505,510) and \n",
    "                                    (c.CURR_CMI_NO not in (100,101,102,103,\n",
    "                                                            200,201,202,203, \n",
    "                                                            300,301,302,303,\n",
    "                                                            401,402,403,\n",
    "                                                            501,502,503) or c.CURR_CMI_NO is NULL))\n",
    "                             ) then 'COMM'\n",
    "\n",
    "                        when (c.BSC in (550,554,555)\n",
    "                                and (c.CURR_CMI_NO not in (100,101,102,103,\n",
    "                                                            200,201,202,203, \n",
    "                                                            300,301,302,303,\n",
    "                                                            401,402,403,\n",
    "                                                            501,502,503) or c.CURR_CMI_NO is NULL)\n",
    "                             ) then 'AG'\n",
    "                        when c.BSC in (330) then 'PUB'\n",
    "                        when (c.BSC in (310,500,502,504,505,510, 550,554,555) \n",
    "                                and c.CURR_CMI_NO in (100,101,102,103,\n",
    "                                                        200,201,202,203, \n",
    "                                                        300,301,302,303,\n",
    "                                                        401,402,403,\n",
    "                                                        501,502,503)\n",
    "                             )then 'SB'\n",
    "                        else 'OOO'\n",
    "                    end as Clnt_Grp,\n",
    "            /* response transit center*/\n",
    "                   C.resp_unt AS resp_transit,\n",
    "            /*BSC code */\n",
    "                   C.BSC, \n",
    "            /*Current client management index*/\n",
    "                   C.CURR_CMI_NO AS cmi,\n",
    "            /*country*/\n",
    "                   CASE\n",
    "                     WHEN c.snap_dt LE '2007-09-30' THEN ''\n",
    "                     WHEN AA.prov_cd IN ('AB','BC','MB','NB','NL','NS','NT','NU','ON','PE','QC','SK','YT') THEN 'Canada'\n",
    "                     ELSE 'Others'\n",
    "                   END AS country, \n",
    "            /*STATE/COUNTRY NAME*/\n",
    "                   AA.st_cntry_nm, \n",
    "            /*SUB COUNTRY CODE OF RESIDENCE (SUB_CNTRY_CD)*/\n",
    "                   AA.prov_cd, \n",
    "            /*Critieria Paper BORROWER RISK RATING (BRR) ( RSK_RTG )*/\n",
    "                   CH.RSK_RTG as BRR, \n",
    "            /* Numerical version of BRR */\n",
    "                CASE\n",
    "                            WHEN CH.RSK_RTG = '1+' THEN 1\n",
    "                            WHEN CH.RSK_RTG = '1' AND CH.RSK_RTG_MOD = 'H' THEN 2\n",
    "                            WHEN CH.RSK_RTG = '1' AND CH.RSK_RTG_MOD = 'M'  THEN 3\n",
    "                            WHEN CH.RSK_RTG = '1' AND CH.RSK_RTG_MOD IS NULL THEN 3\n",
    "                            WHEN CH.RSK_RTG = '1' AND CH.RSK_RTG_MOD = 'L' THEN 4\n",
    "                            WHEN CH.RSK_RTG = '2+' AND CH.RSK_RTG_MOD = 'H' THEN 5\n",
    "                            WHEN CH.RSK_RTG = '2+' AND CH.RSK_RTG_MOD = 'M' THEN 6\n",
    "                            WHEN CH.RSK_RTG = '2+' AND CH.RSK_RTG_MOD IS NULL THEN 6\n",
    "                            WHEN CH.RSK_RTG = '2+' AND CH.RSK_RTG_MOD = 'L' THEN 7\n",
    "                            WHEN CH.RSK_RTG = '2' AND CH.RSK_RTG_MOD = 'H' THEN 8\n",
    "                            WHEN CH.RSK_RTG = '2' AND CH.RSK_RTG_MOD = 'M' THEN 9\n",
    "                            WHEN CH.RSK_RTG = '2' AND CH.RSK_RTG_MOD IS NULL THEN 9\n",
    "                            WHEN CH.RSK_RTG = '2' AND CH.RSK_RTG_MOD = 'L' THEN 10\n",
    "                            WHEN CH.RSK_RTG = '2-' AND CH.RSK_RTG_MOD = 'H' THEN 11\n",
    "                            WHEN CH.RSK_RTG = '2-' AND CH.RSK_RTG_MOD = 'M' THEN 12\n",
    "                            WHEN CH.RSK_RTG = '2-' AND CH.RSK_RTG_MOD IS NULL THEN 12\n",
    "                            WHEN CH.RSK_RTG = '2-' AND CH.RSK_RTG_MOD = 'L' THEN 13\n",
    "                            WHEN CH.RSK_RTG = '3+' AND CH.RSK_RTG_MOD = 'H' THEN 14\n",
    "                            WHEN CH.RSK_RTG = '3+' AND CH.RSK_RTG_MOD = 'M' THEN 15\n",
    "                            WHEN CH.RSK_RTG = '3+' AND CH.RSK_RTG_MOD IS NULL THEN 15\n",
    "                            WHEN CH.RSK_RTG = '3+' AND CH.RSK_RTG_MOD = 'L' THEN 16\n",
    "                            WHEN CH.RSK_RTG = '3' AND CH.RSK_RTG_MOD = 'H' THEN 17\n",
    "                            WHEN CH.RSK_RTG = '3' AND CH.RSK_RTG_MOD = 'M' THEN 18\n",
    "                            WHEN CH.RSK_RTG = '3' AND CH.RSK_RTG_MOD IS NULL THEN 18\n",
    "                            WHEN CH.RSK_RTG = '3' AND CH.RSK_RTG_MOD = 'L' THEN 19\n",
    "                            WHEN CH.RSK_RTG = '4' THEN 20\n",
    "                            WHEN CH.RSK_RTG = '5' THEN 21\n",
    "                            WHEN CH.RSK_RTG = '6' THEN 22\n",
    "                          END as num_brr,\n",
    "            /*Special Loan Indicator*/\n",
    "                   case\n",
    "                     when BB.clnt_no is not null then 'Y' /* if client exists in the BB table, then it is SLG client */\n",
    "                     else 'N'\n",
    "                     end as slg_ind,\n",
    "            /* single name ID */\n",
    "                     CASE\n",
    "                           WHEN SN.SN_ID IS NULL THEN C.CLNT_NO\n",
    "                           ELSE SN.SN_ID\n",
    "                         END AS SN_ID,\n",
    "            /* sic number */\n",
    "                   CH.sic_cd1 AS sic,\n",
    "            /* sic description */\n",
    "                   S.sic_desc_en,\n",
    "            /*CUSTOMER RISK INDEX GENERAL (CRI_GNRL)*/\n",
    "                   D.cri_gnrl,\n",
    "            /*DATE BUSINESS ESTABLISHED*/\n",
    "                   B.dt_bus_estb,\n",
    "            /*VERTICAL INDUSTRY CLASSIFICATION CODE*/\n",
    "                   V.vic,  \n",
    "            /*VERTICAL INDUSTRY CODE IDENTIFIER*/\n",
    "                   V.vic_id,\n",
    "            /*VERTICAL INDUSTRY CLASSIFICATION CODE DESCRIPTION*/\n",
    "                   V.vic_desc_en, \n",
    "            /*SUB-VERTICAL INDUSTRY CLASSIFICATION CODE*/\n",
    "                   V.sub_vic, \n",
    "            /*SUB-VERTICAL INDUSTRY CODE IDENTIFIER*/\n",
    "                   V.sub_vic_id,\n",
    "            /*SUB-VERTICAL INDUSTRY CLASSIFICATION CODE DESCRIPT*/\n",
    "                   V.sub_vic_desc_en, \n",
    "            /* Personal/business customer type flag from Probe */\n",
    "                    D.pers_bus_flg_typ,\n",
    "            /* Date client signed up with RBC*/\n",
    "                    ch.dt_opened,\n",
    "            /* Number of years being RBC client */\n",
    "                    (ch.mth_end_dt - ch.DT_OPENED)/365  AS yrs_being_client,\n",
    "            /*BRR REVIEW DATE ( BRR_RVW_DT )*/\n",
    "                   C.brr_rvw_dt AS brr_review_dt, \n",
    "            /* Client status (Active/Inactive) with 1 month lag*/\n",
    "                   C.clnt_sts as status,\n",
    "            /*Client Total Authorization*/\n",
    "                   CASE WHEN BPC.clnt_auth is not null then BPC.clnt_auth\n",
    "                        ELSE 0\n",
    "                    end as clnt_auth, \n",
    "            /*Client Total Outstanding*/\n",
    "                   CASE WHEN BPC.clnt_os is not null then BPC.clnt_os\n",
    "                        ELSE 0\n",
    "                    end as clnt_os,\n",
    "            /*Client total single name exposure*/\n",
    "                    CASE WHEN BPC.tot_sn_exp is not null then BPC.tot_sn_exp\n",
    "                        ELSE 0\n",
    "                    end as tot_sn_exp,\n",
    "            /*Maximum Historical Total Single Name Exposure*/\n",
    "                   case when T.max_tsne is not null then t.max_tsne\n",
    "                   else 0 \n",
    "                   end as max_tsne,\n",
    "            /*CBRR without the L/M/H*/ \n",
    "                    C.CMRCL_BRR as CBRR,\n",
    "            /* CBRR L/M/H modifier */\n",
    "                    C.CMRCL_BRR_MOD_CD as CBRR_MOD_CD,\n",
    "            /*numerical CBRR from EDW Table*/\n",
    "                    CASE\n",
    "                            WHEN C.CMRCL_BRR = '1+' THEN 1\n",
    "                            WHEN C.CMRCL_BRR = '1' AND C.CMRCL_BRR_MOD_CD = 'H' THEN 2\n",
    "                            WHEN C.CMRCL_BRR = '1' AND C.CMRCL_BRR_MOD_CD = 'M'  THEN 3\n",
    "                            WHEN C.CMRCL_BRR = '1' AND C.CMRCL_BRR_MOD_CD IS NULL THEN 3\n",
    "                            WHEN C.CMRCL_BRR = '1' AND C.CMRCL_BRR_MOD_CD = 'L' THEN 4\n",
    "                            WHEN C.CMRCL_BRR = '2+' AND C.CMRCL_BRR_MOD_CD = 'H' THEN 5\n",
    "                            WHEN C.CMRCL_BRR = '2+' AND C.CMRCL_BRR_MOD_CD = 'M' THEN 6\n",
    "                            WHEN C.CMRCL_BRR = '2+' AND C.CMRCL_BRR_MOD_CD IS NULL THEN 6\n",
    "                            WHEN C.CMRCL_BRR = '2+' AND C.CMRCL_BRR_MOD_CD = 'L' THEN 7\n",
    "                            WHEN C.CMRCL_BRR = '2' AND C.CMRCL_BRR_MOD_CD = 'H' THEN 8\n",
    "                            WHEN C.CMRCL_BRR = '2' AND C.CMRCL_BRR_MOD_CD = 'M' THEN 9\n",
    "                            WHEN C.CMRCL_BRR = '2' AND C.CMRCL_BRR_MOD_CD IS NULL THEN 9\n",
    "                            WHEN C.CMRCL_BRR = '2' AND C.CMRCL_BRR_MOD_CD = 'L' THEN 10\n",
    "                            WHEN C.CMRCL_BRR = '2-' AND C.CMRCL_BRR_MOD_CD = 'H' THEN 11\n",
    "                            WHEN C.CMRCL_BRR = '2-' AND C.CMRCL_BRR_MOD_CD = 'M' THEN 12\n",
    "                            WHEN C.CMRCL_BRR = '2-' AND C.CMRCL_BRR_MOD_CD IS NULL THEN 12\n",
    "                            WHEN C.CMRCL_BRR = '2-' AND C.CMRCL_BRR_MOD_CD = 'L' THEN 13\n",
    "                            WHEN C.CMRCL_BRR = '3+' AND C.CMRCL_BRR_MOD_CD = 'H' THEN 14\n",
    "                            WHEN C.CMRCL_BRR = '3+' AND C.CMRCL_BRR_MOD_CD = 'M' THEN 15\n",
    "                            WHEN C.CMRCL_BRR = '3+' AND C.CMRCL_BRR_MOD_CD IS NULL THEN 15\n",
    "                            WHEN C.CMRCL_BRR = '3+' AND C.CMRCL_BRR_MOD_CD = 'L' THEN 16\n",
    "                            WHEN C.CMRCL_BRR = '3' AND C.CMRCL_BRR_MOD_CD = 'H' THEN 17\n",
    "                            WHEN C.CMRCL_BRR = '3' AND C.CMRCL_BRR_MOD_CD = 'M' THEN 18\n",
    "                            WHEN C.CMRCL_BRR = '3' AND C.CMRCL_BRR_MOD_CD IS NULL THEN 18\n",
    "                            WHEN C.CMRCL_BRR = '3' AND C.CMRCL_BRR_MOD_CD = 'L' THEN 19\n",
    "                            WHEN C.CMRCL_BRR = '4' THEN 20\n",
    "                            WHEN C.CMRCL_BRR = '5' THEN 21\n",
    "                            WHEN C.CMRCL_BRR = '6' THEN 22\n",
    "                          END as NUM_CBRR,\n",
    "            /* Newton BRR without the L/M/H */ \n",
    "                    C.NEWTON_BRR as CP_BRR,\n",
    "            /* Newton BRR L/M/H modifier */\n",
    "                    C.NEWTON_BRR_MOD_CD as CP_BRR_MOD_CD,\n",
    "            /* numerical Newton BRR from EDW table */\n",
    "                            CASE\n",
    "                            WHEN C.NEWTON_BRR = '1+' THEN 1\n",
    "                            WHEN C.NEWTON_BRR = '1' AND C.NEWTON_BRR_MOD_CD = 'H' THEN 2\n",
    "                            WHEN C.NEWTON_BRR = '1' AND C.NEWTON_BRR_MOD_CD = 'M'  THEN 3\n",
    "                            WHEN C.NEWTON_BRR = '1' AND C.NEWTON_BRR_MOD_CD IS NULL THEN 3\n",
    "                            WHEN C.NEWTON_BRR = '1' AND C.NEWTON_BRR_MOD_CD = 'L' THEN 4\n",
    "                            WHEN C.NEWTON_BRR = '2+' AND C.NEWTON_BRR_MOD_CD = 'H' THEN 5\n",
    "                            WHEN C.NEWTON_BRR = '2+' AND C.NEWTON_BRR_MOD_CD = 'M' THEN 6\n",
    "                            WHEN C.NEWTON_BRR = '2+' AND C.NEWTON_BRR_MOD_CD IS NULL THEN 6\n",
    "                            WHEN C.NEWTON_BRR = '2+' AND C.NEWTON_BRR_MOD_CD = 'L' THEN 7\n",
    "                            WHEN C.NEWTON_BRR = '2' AND C.NEWTON_BRR_MOD_CD = 'H' THEN 8\n",
    "                            WHEN C.NEWTON_BRR = '2' AND C.NEWTON_BRR_MOD_CD = 'M' THEN 9\n",
    "                            WHEN C.NEWTON_BRR = '2' AND C.NEWTON_BRR_MOD_CD IS NULL THEN 9\n",
    "                            WHEN C.NEWTON_BRR = '2' AND C.NEWTON_BRR_MOD_CD = 'L' THEN 10\n",
    "                            WHEN C.NEWTON_BRR = '2-' AND C.NEWTON_BRR_MOD_CD = 'H' THEN 11\n",
    "                            WHEN C.NEWTON_BRR = '2-' AND C.NEWTON_BRR_MOD_CD = 'M' THEN 12\n",
    "                            WHEN C.NEWTON_BRR = '2-' AND C.NEWTON_BRR_MOD_CD IS NULL THEN 12\n",
    "                            WHEN C.NEWTON_BRR = '2-' AND C.NEWTON_BRR_MOD_CD = 'L' THEN 13\n",
    "                            WHEN C.NEWTON_BRR = '3+' AND C.NEWTON_BRR_MOD_CD = 'H' THEN 14\n",
    "                            WHEN C.NEWTON_BRR = '3+' AND C.NEWTON_BRR_MOD_CD = 'M' THEN 15\n",
    "                            WHEN C.NEWTON_BRR = '3+' AND C.NEWTON_BRR_MOD_CD IS NULL THEN 15\n",
    "                            WHEN C.NEWTON_BRR = '3+' AND C.NEWTON_BRR_MOD_CD = 'L' THEN 16\n",
    "                            WHEN C.NEWTON_BRR = '3' AND C.NEWTON_BRR_MOD_CD = 'H' THEN 17\n",
    "                            WHEN C.NEWTON_BRR = '3' AND C.NEWTON_BRR_MOD_CD = 'M' THEN 18\n",
    "                            WHEN C.NEWTON_BRR = '3' AND C.NEWTON_BRR_MOD_CD IS NULL THEN 18\n",
    "                            WHEN C.NEWTON_BRR = '3' AND C.NEWTON_BRR_MOD_CD = 'L' THEN 19\n",
    "                            WHEN C.NEWTON_BRR = '4' THEN 20\n",
    "                            WHEN C.NEWTON_BRR = '5' THEN 21\n",
    "                            WHEN C.NEWTON_BRR = '6' THEN 22\n",
    "                          END as NUM_CP_BRR, \n",
    "            /* EDW effective BRR without the L/M/H */ \n",
    "                    C.BRR as EFF_BRR,\n",
    "            /* EDW effective BRR L/M/H modifier */\n",
    "                    C.BRR_MOD_CD as EFF_BRR_MOD_CD,\n",
    "            /* numerical Newton BRR from EDW table */\n",
    "                            CASE\n",
    "                            WHEN C.BRR = '1+' THEN 1\n",
    "                            WHEN C.BRR = '1' AND C.BRR_MOD_CD = 'H' THEN 2\n",
    "                            WHEN C.BRR = '1' AND C.BRR_MOD_CD = 'M'  THEN 3\n",
    "                            WHEN C.BRR = '1' AND C.BRR_MOD_CD IS NULL THEN 3\n",
    "                            WHEN C.BRR = '1' AND C.BRR_MOD_CD = 'L' THEN 4\n",
    "                            WHEN C.BRR = '2+' AND C.BRR_MOD_CD = 'H' THEN 5\n",
    "                            WHEN C.BRR = '2+' AND C.BRR_MOD_CD = 'M' THEN 6\n",
    "                            WHEN C.BRR = '2+' AND C.BRR_MOD_CD IS NULL THEN 6\n",
    "                            WHEN C.BRR = '2+' AND C.BRR_MOD_CD = 'L' THEN 7\n",
    "                            WHEN C.BRR = '2' AND C.BRR_MOD_CD = 'H' THEN 8\n",
    "                            WHEN C.BRR = '2' AND C.BRR_MOD_CD = 'M' THEN 9\n",
    "                            WHEN C.BRR = '2' AND C.BRR_MOD_CD IS NULL THEN 9\n",
    "                            WHEN C.BRR = '2' AND C.BRR_MOD_CD = 'L' THEN 10\n",
    "                            WHEN C.BRR = '2-' AND C.BRR_MOD_CD = 'H' THEN 11\n",
    "                            WHEN C.BRR = '2-' AND C.BRR_MOD_CD = 'M' THEN 12\n",
    "                            WHEN C.BRR = '2-' AND C.BRR_MOD_CD IS NULL THEN 12\n",
    "                            WHEN C.BRR = '2-' AND C.BRR_MOD_CD = 'L' THEN 13\n",
    "                            WHEN C.BRR = '3+' AND C.BRR_MOD_CD = 'H' THEN 14\n",
    "                            WHEN C.BRR = '3+' AND C.BRR_MOD_CD = 'M' THEN 15\n",
    "                            WHEN C.BRR = '3+' AND C.BRR_MOD_CD IS NULL THEN 15\n",
    "                            WHEN C.BRR = '3+' AND C.BRR_MOD_CD = 'L' THEN 16\n",
    "                            WHEN C.BRR = '3' AND C.BRR_MOD_CD = 'H' THEN 17\n",
    "                            WHEN C.BRR = '3' AND C.BRR_MOD_CD = 'M' THEN 18\n",
    "                            WHEN C.BRR = '3' AND C.BRR_MOD_CD IS NULL THEN 18\n",
    "                            WHEN C.BRR = '3' AND C.BRR_MOD_CD = 'L' THEN 19\n",
    "                            WHEN C.BRR = '4' THEN 20\n",
    "                            WHEN C.BRR = '5' THEN 21\n",
    "                            WHEN C.BRR = '6' THEN 22\n",
    "                          END as NUM_EFF_BRR,\n",
    "\n",
    "            /* BRR from Probe */\n",
    "                    D.BRR as BRR_FROM_PROBE,\n",
    "                    D.NUM_BRR as NUM_BRR_FROM_PROBE,\n",
    "                    D.TTC_BRR_RAW_1M_LAG as TTC_CBRR_1M_LAG_FROM_PROBE,\n",
    "                    D.TTC_BRR_NO_1M_LAG as TTC_CBRR_NO_1M_LAG_FROM_PROBE,\n",
    "                    D.CMRCL_CP_BRR as CMRCL_CP_BRR_FROM_PROBE\n",
    "\n",
    "\n",
    "            FROM DDWV01.rb_clnt AS C\n",
    "\n",
    "                    /* Inner join with roll-up rank hierarchy table to get Canadian banking clients */\n",
    "                 INNER JOIN DDWV01.ROLL_HIER_RELTN_RNK AS R\n",
    "                      ON  r.SNAP_DT  = c.snap_dt\n",
    "                          AND r.ORG_UNT_ID = c.resp_unt\n",
    "                          AND r.PARNT_HIER_TYP_ID = 80000 \n",
    "                          AND r.ROLL_ID_RANK_600 IN (80013,80029,80146,82314,83080,83081,83082,83091)\n",
    "\n",
    "                /* Identify clients with SLG manager, logic obtained from Business Portfolio Client table source code */\n",
    "                 LEFT JOIN\n",
    "                 (\n",
    "                     select distinct h.clnt_no, h.assign_typ, h.acct_mgr_cd,h.mth_end_dt\n",
    "                     from dg6v19.clnt_am_assignment_hist as H\n",
    "                     inner join ddwv01.org_unt_to_slg_mgr_reltn as S\n",
    "                     on H.acct_mgr_cd = S.slg_tr_no\n",
    "                     and H.mth_end_dt > '{start_snap_dt}' AND H.mth_end_dt < '{end_snap_dt}'\n",
    "                     and H.assign_typ = 'S'\n",
    "                      ) as BB\n",
    "                        ON C.clnt_no = BB.clnt_no\n",
    "                        and C.snap_dt = BB.mth_end_dt\n",
    "\n",
    "                /* Used to get client SN ID, logic obtained from Business Portfolio Client table source code  */\n",
    "                LEFT JOIN DG6V19.CLNT_SN_HIST as SN\n",
    "                             ON C.CLNT_NO = SN.CLNT_NO\n",
    "                            AND C.snap_DT = SN.MTH_END_DT\n",
    "\n",
    "                /* use this table to get the link to address, VIC tables, SIC tables */\n",
    "                 LEFT JOIN DG6V19.clnt_hist AS CH\n",
    "                   ON CH.clnt_no = C.clnt_no\n",
    "                      AND CH.mth_end_dt = c.snap_dt\n",
    "\n",
    "                /* SIC info */\n",
    "                 LEFT JOIN DDWV01.sic AS S\n",
    "                   ON S.sic_cd = CH.sic_cd1\n",
    "                      AND S.snap_dt = CH.mth_end_dt\n",
    "\n",
    "                /* Business established date */\n",
    "                 LEFT JOIN DG6V19.non_pers_clnt_hist B\n",
    "                   ON B.clnt_no = C.clnt_no\n",
    "                      AND B.mth_end_dt = c.snap_dt\n",
    "\n",
    "                /* Address */\n",
    "                 LEFT JOIN DG6V19.addr_hist AS AA\n",
    "                   ON AA.addr_id = CH.addr_id\n",
    "                      AND AA.mth_end_dt = CH.mth_end_dt\n",
    "                      AND AA.addr_src = 'C'\n",
    "\n",
    "                /* VIC */\t\n",
    "                 LEFT JOIN DG6V19.sub_vic_hist AS V\n",
    "                   ON V.sub_vic_id = CH.sub_vic_id\n",
    "                      AND V.mth_end_dt = CH.mth_end_dt  \n",
    "\n",
    "                /* Probe table */\n",
    "                 LEFT JOIN DDWV11.clnt_bhvr_charstc AS D\n",
    "                   ON D.clnt_no = C.clnt_no\n",
    "                      AND D.capture_dt = c.snap_dt \n",
    "                      AND D.pers_bus_flg_typ = 'B'\n",
    "\n",
    "                /* table to identify if client has overdraft facility */\n",
    "                left join ( select clnt_no, mth_end_dt, max(od_ind) as od_ind /* aggregate to client level */\n",
    "                            from \n",
    "                            (select lend.clnt_no, /* arrangement level table */\n",
    "                                  lend.mth_end_dt,\n",
    "                                  lend.ar_id,\n",
    "                                  CASE WHEN FAC_TABLE.FAC_TYPE1 in ('OD', 'OV', 'OM') THEN 1\n",
    "                                    ELSE 0\n",
    "                                  END AS od_ind\n",
    "                                /* Arrangement ownership history table to link accounts to clients*/\n",
    "                                  from DG6V19.ARNGMNT_OWN_HIST as lend \n",
    "                                  /* Facility table to identify overdraft facilities */\n",
    "                                  inner join DG6V19.BUS_COMM_RPT_FAC as FAC_TABLE\n",
    "                                  on FAC_TABLE.prod_no = lend.ar_id\n",
    "                                  and FAC_TABLE.SNAP_DT = lend.MTH_END_DT\n",
    "                                  where FAC_TABLE.SNAP_DT > '{start_snap_dt}' AND FAC_TABLE.SNAP_DT < '{end_snap_dt}'                                 \n",
    "                                  ) as OD_fac \n",
    "                                group by 1, 2) as OD\n",
    "                      ON C.CLNT_NO = OD.CLNT_NO \n",
    "                      AND c.snap_dt = OD.MTH_END_DT\n",
    "\n",
    "                 /* Calculate max TSNE */\n",
    "                 LEFT JOIN (SELECT t1.MTH_END_DT,  \n",
    "                                    t1.CLNT_NO, \n",
    "                                    Max(t2.TOT_SN_EXP) AS Max_TSNE \n",
    "                             FROM \n",
    "                                    DG6V19.BUS_PRTFOL_CLNT AS t1,\n",
    "                                    DG6V19.BUS_PRTFOL_CLNT AS t2\n",
    "                             WHERE\n",
    "                                    t1.CLNT_NO = t2.CLNT_NO AND \n",
    "                                    t1.MTH_END_DT >= t2.MTH_END_DT \n",
    "                             GROUP BY 1,2 )AS T\n",
    "\n",
    "                   ON C.CLNT_NO = T.CLNT_NO \n",
    "                      AND c.snap_dt = T.MTH_END_DT\n",
    "\n",
    "                /* business portfolio client table with client authorization, outstanding, max TSNE info */\n",
    "                 LEFT JOIN DG6V19.BUS_PRTFOL_CLNT AS BPC\n",
    "                   ON BPC.clnt_no = C.clnt_no\n",
    "                      AND BPC.mth_end_dt = c.snap_dt\n",
    "\n",
    "            WHERE CLNT_GRP is in ('COMM', 'AG', 'PUB') /* keep only commercial clients*/\n",
    "            and (bpc.tot_sn_exp > 1000000) /* TSNE >1000000 */\n",
    "            and (c.snap_dt > '{start_snap_dt}' AND c.snap_dt < '{end_snap_dt}')\n",
    "            and (c.clnt_sts='A' or c.clnt_sts is null) /* filter out inactive clients */\n",
    "            and c.clnt_typ=2 /* keep only non-personal clients */\n",
    "            \"\"\"\n",
    "    return pd.read_sql(qry, connection)"
   ]
  },
  {
   "cell_type": "code",
   "execution_count": 92,
   "metadata": {},
   "outputs": [
    {
     "data": {
      "text/plain": [
       "(447726, 46)"
      ]
     },
     "execution_count": 92,
     "metadata": {},
     "output_type": "execute_result"
    }
   ],
   "source": [
    "start_snap_dt='2015-01-01'\n",
    "end_snap_dt='2016-01-01'\n",
    "df1 = pull_brr_extract(start_snap_dt, end_snap_dt)\n",
    "df1.shape"
   ]
  },
  {
   "cell_type": "code",
   "execution_count": 93,
   "metadata": {},
   "outputs": [],
   "source": [
    "df1.to_csv(raw_data_dir+'brr_extract_y1.csv', index=False)"
   ]
  },
  {
   "cell_type": "code",
   "execution_count": 94,
   "metadata": {},
   "outputs": [
    {
     "data": {
      "text/plain": [
       "(470041, 46)"
      ]
     },
     "execution_count": 94,
     "metadata": {},
     "output_type": "execute_result"
    }
   ],
   "source": [
    "start_snap_dt='2016-01-01'\n",
    "end_snap_dt='2017-01-01'\n",
    "df2 = pull_brr_extract(start_snap_dt, end_snap_dt)\n",
    "df2.shape"
   ]
  },
  {
   "cell_type": "code",
   "execution_count": 95,
   "metadata": {},
   "outputs": [],
   "source": [
    "df2.to_csv(raw_data_dir+'brr_extract_y2.csv', index=False)"
   ]
  },
  {
   "cell_type": "code",
   "execution_count": 96,
   "metadata": {},
   "outputs": [
    {
     "data": {
      "text/plain": [
       "(497862, 46)"
      ]
     },
     "execution_count": 96,
     "metadata": {},
     "output_type": "execute_result"
    }
   ],
   "source": [
    "start_snap_dt='2017-01-01'\n",
    "end_snap_dt='2018-01-01'\n",
    "df3 = pull_brr_extract(start_snap_dt, end_snap_dt)\n",
    "df3.shape"
   ]
  },
  {
   "cell_type": "code",
   "execution_count": 97,
   "metadata": {},
   "outputs": [],
   "source": [
    "df3.to_csv(raw_data_dir+'brr_extract_y3.csv', index=False)"
   ]
  },
  {
   "cell_type": "code",
   "execution_count": 98,
   "metadata": {},
   "outputs": [
    {
     "data": {
      "text/plain": [
       "(807177, 46)"
      ]
     },
     "execution_count": 98,
     "metadata": {},
     "output_type": "execute_result"
    }
   ],
   "source": [
    "start_snap_dt='2018-01-01'\n",
    "end_snap_dt='2019-07-01'\n",
    "df4 = pull_brr_extract(start_snap_dt, end_snap_dt)\n",
    "df4.shape"
   ]
  },
  {
   "cell_type": "code",
   "execution_count": 99,
   "metadata": {},
   "outputs": [],
   "source": [
    "df4.to_csv(raw_data_dir+'brr_extract_y4.csv', index=False)"
   ]
  },
  {
   "cell_type": "markdown",
   "metadata": {},
   "source": [
    "# BDA TXN NO COBC"
   ]
  },
  {
   "cell_type": "code",
   "execution_count": 100,
   "metadata": {},
   "outputs": [],
   "source": [
    "def pull_bda_txn_no_cobc(start_snap_dt, end_snap_dt):    \n",
    "    bda_txn_no_cobc_qry = f\"\"\"\\\n",
    "    SELECT      \n",
    "         A.mth_end_dt,\n",
    "\n",
    "         A.ar_id,\n",
    "         max(A.clnt_no),\n",
    "         SUM(X.dr) AS dr_cnt,\n",
    "         SUM( T.amt * X.dr) AS dr_amt\n",
    "         ,\n",
    "         MAX (\n",
    "             CASE WHEN X.dr = 1 THEN T.amt  \n",
    "             ELSE 0 END\n",
    "          ) AS dr_max_amt,\n",
    "\n",
    "         SUM(X.cr) AS cr_cnt,\n",
    "         SUM( T.amt * X.cr) AS cr_amt,\n",
    "         MAX (\n",
    "            CASE WHEN X.cr = 1 THEN T.amt  \n",
    "            ELSE 0 END\n",
    "          ) AS cr_max_amt,\n",
    "\n",
    "         SUM(X.nsf_cr) AS nsf_cr_cnt,\n",
    "         SUM( T.amt * X.nsf_cr) AS nsf_cr_amt,\n",
    "         MAX (\n",
    "            CASE WHEN X.nsf_cr = 1 THEN T.amt  \n",
    "            ELSE 0 END\n",
    "            ) AS nsf_cr_max_amt,\n",
    "\n",
    "          SUM(X.nsf_dr) AS nsf_dr_cnt,\n",
    "          SUM( T.amt * X.nsf_dr) AS nsf_dr_amt,\n",
    "          MAX (\n",
    "             CASE WHEN X.nsf_dr = 1 THEN T.amt  \n",
    "             ELSE 0 END\n",
    "             ) AS nsf_dr_max_amt,\n",
    "\n",
    "          SUM(X.nsf_fees) AS nsf_fees_cnt,\n",
    "          SUM( T.amt * X.nsf_fees) AS nsf_fees_amt,\n",
    "          MAX (\n",
    "             CASE WHEN X.nsf_fees = 1 THEN T.amt  \n",
    "             ELSE 0 END\n",
    "            ) AS nsf_fees_max_amt,\n",
    "\n",
    "          SUM(X.ret_itms) AS ret_itms_cnt,\n",
    "          SUM( T.amt * X.ret_itms) AS ret_itms_amt,\n",
    "          MAX (\n",
    "             CASE WHEN X.ret_itms = 1 THEN T.amt  \n",
    "             ELSE 0 END\n",
    "           ) AS ret_itms_max_amt,\n",
    "\n",
    "           COUNT(*) AS cnt \n",
    "    FROM \n",
    "      ddwv01.curr_acct_txn  AS T, \n",
    "     (\n",
    "         select  txn_cd, \n",
    "                      dr_or_cr, \n",
    "                      CASE\n",
    "                         WHEN dr_or_cr = 'dr' THEN 1\n",
    "                         ELSE 0\n",
    "                      END AS dr,\n",
    "\n",
    "                      CASE\n",
    "                          WHEN dr_or_cr = 'cr' THEN 1\n",
    "                           ELSE 0\n",
    "                       END AS cr,\n",
    "\n",
    "                      CASE\n",
    "                          WHEN txn_cd IN (128,135,140,202, 225, 503, 506, 507, 613,615) THEN 1\n",
    "                          ELSE 0\n",
    "                      END AS nsf_cr,\n",
    "\n",
    "                      CASE\n",
    "                          WHEN txn_cd IN (156,167) THEN 1\n",
    "                          ELSE 0\n",
    "                      END AS nsf_dr,\n",
    "\n",
    "                      CASE\n",
    "                          WHEN txn_cd IN (288,496,986) THEN 1\n",
    "                          ELSE 0\n",
    "                      END AS nsf_fees,\n",
    "\n",
    "                      CASE\n",
    "                          WHEN txn_cd IN (168,170,250, 261,299,423,589,593,594) THEN 1\n",
    "                          ELSE 0\n",
    "                      END AS ret_itms\n",
    "\n",
    "                 FROM (SELECT txn_cd, dr_or_cr\n",
    "                                FROM  DL_proews.vt_txn_cr_dr\n",
    "                               ) AS A\n",
    "\n",
    "       ) AS X,\n",
    "       DL_proews.vt_client_core_no_cobc AS A\n",
    "\n",
    "    /*    INNER JOIN (Select clnt_no, MTH_END_DT, TOT_SN_EXP \n",
    "        FROM DG6V19.BUS_PRTFOL_CLNT WHERE TOT_SN_EXP > 1000000) AS T1\n",
    "        ON EXTRACT (YEAR FROM T1.MTH_END_DT) =  EXTRACT (YEAR FROM T.pst_dt) \n",
    "        AND EXTRACT (MONTH FROM T1.MTH_END_DT) =  EXTRACT (MONTH FROM T.pst_dt)\n",
    "        AND A.clnt_no = T1.clnt_no */\n",
    "\n",
    "    WHERE  T.txn_cd = X.txn_cd  \n",
    "           AND   T.ar_id = A.ar_id\n",
    "           AND EXTRACT (YEAR FROM A.mth_end_dt) =  EXTRACT (YEAR FROM T.pst_dt) \n",
    "           AND EXTRACT (MONTH FROM A.mth_end_dt) =  EXTRACT (MONTH FROM T.pst_dt)\n",
    "           AND A.Clnt_Grp NOT IN ('OOO','SB')\n",
    "    /*--  AND T.ar_id = '00000000009121003821'*/\n",
    "      AND A.mth_end_dt > '{start_snap_dt}' AND A.mth_end_dt < '{end_snap_dt}'\n",
    "      and T.pst_cd IN (1,2,3,4,901,902,903,904)\n",
    "      GROUP BY 1,2;\n",
    "    \"\"\"\n",
    "    return pd.read_sql(bda_txn_no_cobc_qry, connection)"
   ]
  },
  {
   "cell_type": "code",
   "execution_count": 101,
   "metadata": {},
   "outputs": [
    {
     "data": {
      "text/plain": [
       "(2576061, 22)"
      ]
     },
     "execution_count": 101,
     "metadata": {},
     "output_type": "execute_result"
    }
   ],
   "source": [
    "start_snap_dt='2015-01-01'\n",
    "end_snap_dt='2016-01-01'\n",
    "df1 = pull_bda_txn_no_cobc(start_snap_dt, end_snap_dt)\n",
    "df1.shape"
   ]
  },
  {
   "cell_type": "code",
   "execution_count": 102,
   "metadata": {},
   "outputs": [],
   "source": [
    "df1.to_csv(raw_data_dir+'bda_txn_no_cobc_prod_lvl_y1.csv', index=False)"
   ]
  },
  {
   "cell_type": "code",
   "execution_count": 103,
   "metadata": {},
   "outputs": [
    {
     "data": {
      "text/plain": [
       "(2593908, 22)"
      ]
     },
     "execution_count": 103,
     "metadata": {},
     "output_type": "execute_result"
    }
   ],
   "source": [
    "start_snap_dt='2016-01-01'\n",
    "end_snap_dt='2017-01-01'\n",
    "df2 = pull_bda_txn_no_cobc(start_snap_dt, end_snap_dt)\n",
    "df2.shape"
   ]
  },
  {
   "cell_type": "code",
   "execution_count": 104,
   "metadata": {},
   "outputs": [],
   "source": [
    "df2.to_csv(raw_data_dir+'bda_txn_no_cobc_prod_lvl_y2.csv', index=False)"
   ]
  },
  {
   "cell_type": "code",
   "execution_count": 105,
   "metadata": {},
   "outputs": [
    {
     "data": {
      "text/plain": [
       "(2609344, 22)"
      ]
     },
     "execution_count": 105,
     "metadata": {},
     "output_type": "execute_result"
    }
   ],
   "source": [
    "start_snap_dt='2017-01-01'\n",
    "end_snap_dt='2018-01-01'\n",
    "df3 = pull_bda_txn_no_cobc(start_snap_dt, end_snap_dt)\n",
    "df3.shape"
   ]
  },
  {
   "cell_type": "code",
   "execution_count": 106,
   "metadata": {},
   "outputs": [],
   "source": [
    "df3.to_csv(raw_data_dir+'bda_txn_no_cobc_prod_lvl_y3.csv', index=False)"
   ]
  },
  {
   "cell_type": "code",
   "execution_count": 107,
   "metadata": {},
   "outputs": [
    {
     "data": {
      "text/plain": [
       "(4016286, 22)"
      ]
     },
     "execution_count": 107,
     "metadata": {},
     "output_type": "execute_result"
    }
   ],
   "source": [
    "start_snap_dt='2018-01-01'\n",
    "end_snap_dt='2019-07-01'\n",
    "df4 = pull_bda_txn_no_cobc(start_snap_dt, end_snap_dt)\n",
    "df4.shape"
   ]
  },
  {
   "cell_type": "code",
   "execution_count": 108,
   "metadata": {},
   "outputs": [],
   "source": [
    "df4.to_csv(raw_data_dir+'bda_txn_no_cobc_prod_lvl_y4.csv', index=False)"
   ]
  },
  {
   "cell_type": "markdown",
   "metadata": {},
   "source": [
    "# Loan General"
   ]
  },
  {
   "cell_type": "code",
   "execution_count": 109,
   "metadata": {},
   "outputs": [],
   "source": [
    "def pull_loan_general(start_snap_dt, end_snap_dt):    \n",
    "    loan_general_qry = f\"\"\"\\\n",
    "            select \n",
    "            /* month end date */\n",
    "                   C.SNAP_DT as mth_end_dt, \n",
    "            /* client number */\n",
    "                   C.clnt_no , \n",
    "            /* client group, used to define commercial and small business clients */\n",
    "            case\n",
    "                        when (c.BSC in (190,192,200,202,250,490,590)\n",
    "                                or (c.BSC in (310,500,502,504,505,510) and \n",
    "                                    (c.CURR_CMI_NO not in (100,101,102,103,\n",
    "                                                            200,201,202,203,\n",
    "                                                            300,301,302,303,\n",
    "                                                            401,402,403,\n",
    "                                                            501,502,503) or c.CURR_CMI_NO is NULL))\n",
    "                             ) then 'COMM'\n",
    "                \n",
    "                        when (c.BSC in (550,554,555)\n",
    "                                and (c.CURR_CMI_NO not in (100,101,102,103,\n",
    "                                                            200,201,202,203, \n",
    "                                                            300,301,302,303,\n",
    "                                                            401,402,403,\n",
    "                                                            501,502,503) or c.CURR_CMI_NO is NULL)\n",
    "                             ) then 'AG'\n",
    "                        when c.BSC in (330) then 'PUB'\n",
    "                        when (c.BSC in (310,500,502,504,505,510, 550,554,555) \n",
    "                                and c.CURR_CMI_NO in (100,101,102,103,\n",
    "                                                        200,201,202,203,\n",
    "                                                        300,301,302,303,\n",
    "                                                        401,402,403,\n",
    "                                                        501,502,503)\n",
    "                             )then 'SB'\n",
    "                        else 'OOO'\n",
    "                    end as Clnt_Grp,\n",
    "                  A.ar_id, /*-- arrangement id*/\n",
    "                  'A' || trim(A.ar_id) as t_ar_id, /* Added by QH 2018-11-08*/\n",
    "                  A.dw_srvc_id,  /*-- dw service id*/\n",
    "                  A.dfr_pymt_ind,  /*-- deferred payment indicator*/\n",
    "                  A.dfr_pymts_tot, /*-- defered payment total*/\n",
    "                  A.delay_pymt_due_dt, /*-- delayed payments total*/\n",
    "                  A.ov_lmt_alwnc_amt, /*-- over limit allowance amount*/\n",
    "                  A.pymt_retry_cntr, /*-- payment retry counter*/\n",
    "                  A.number_waived, /*-- total number of payment waived*/\n",
    "                  L.mif_srvc_id/* -- MIF service id*/\n",
    "                \n",
    "            \n",
    "            FROM DDWV01.rb_clnt AS C\n",
    "            \n",
    "                    INNER JOIN (Select clnt_no, MTH_END_DT, TOT_SN_EXP \n",
    "                    FROM DG6V19.BUS_PRTFOL_CLNT WHERE TOT_SN_EXP > 1000000) AS T\n",
    "                    ON c.snap_dt = T.MTH_END_DT\n",
    "                    AND C.clnt_no = T.clnt_no\n",
    "\n",
    "                    \n",
    "                    /* Inner join with roll-up rank hierarchy table to get Canadian banking clients */\n",
    "                 INNER JOIN DDWV01.ROLL_HIER_RELTN_RNK AS R\n",
    "                      ON  r.SNAP_DT  = c.snap_dt\n",
    "                          AND r.ORG_UNT_ID = c.resp_unt\n",
    "                          AND r.PARNT_HIER_TYP_ID = 80000 \n",
    "                          AND r.ROLL_ID_RANK_600 IN (80013,80029,80146,82314,83080,83081,83082,83091)\n",
    "                               \n",
    "                 INNER JOIN DG6V19.bus_prtfol_lend as L\n",
    "                     on L.mth_end_dt = C.snap_dt\n",
    "                        and L.clnt_no = C.clnt_no\n",
    "                        /*--and L.mth_end_dt LE '2018-05-31'*/\n",
    "                        and L.mif_srvc_id = 20\n",
    "            \n",
    "                 INNER JOIN DDWV01.ln_general as A\n",
    "                     on A.snap_dt = L.mth_end_dt\n",
    "                        and A.ar_id = L.ar_id \n",
    "                        and A.dw_srvc_id = L.mif_srvc_id \n",
    "                        and A.dw_srvc_id = 20\n",
    "            /*\t\t\t--and A.snap_dt LE '2018-05-31'*/\n",
    "            \n",
    "            where clnt_grp NOT IN ('OOO') and clnt_grp NOT IN ('SB') \n",
    "                  and (c.clnt_sts='A' or c.clnt_sts is null) /* filter out inactive clients */\n",
    "                  and c.clnt_typ=2 /* keep only non-personal clients */\n",
    "                and c.snap_dt > '{start_snap_dt}' AND c.snap_dt < '{end_snap_dt}'\n",
    "            \"\"\"\n",
    "    return pd.read_sql(loan_general_qry, connection)"
   ]
  },
  {
   "cell_type": "code",
   "execution_count": 110,
   "metadata": {},
   "outputs": [
    {
     "data": {
      "text/plain": [
       "(1089142, 13)"
      ]
     },
     "execution_count": 110,
     "metadata": {},
     "output_type": "execute_result"
    }
   ],
   "source": [
    "start_snap_dt='2015-01-01'\n",
    "end_snap_dt='2016-01-01'\n",
    "df1 = pull_loan_general(start_snap_dt, end_snap_dt)\n",
    "df1.shape"
   ]
  },
  {
   "cell_type": "code",
   "execution_count": 111,
   "metadata": {},
   "outputs": [],
   "source": [
    "df1.to_csv(raw_data_dir+'loan_general_y1.csv', index=False)"
   ]
  },
  {
   "cell_type": "code",
   "execution_count": 112,
   "metadata": {},
   "outputs": [
    {
     "data": {
      "text/plain": [
       "(1136590, 13)"
      ]
     },
     "execution_count": 112,
     "metadata": {},
     "output_type": "execute_result"
    }
   ],
   "source": [
    "start_snap_dt='2016-01-01'\n",
    "end_snap_dt='2017-01-01'\n",
    "df2 = pull_loan_general(start_snap_dt, end_snap_dt)\n",
    "df2.shape"
   ]
  },
  {
   "cell_type": "code",
   "execution_count": 113,
   "metadata": {},
   "outputs": [],
   "source": [
    "df2.to_csv(raw_data_dir+'loan_general_y2.csv', index=False)"
   ]
  },
  {
   "cell_type": "code",
   "execution_count": 114,
   "metadata": {},
   "outputs": [
    {
     "data": {
      "text/plain": [
       "(1207142, 13)"
      ]
     },
     "execution_count": 114,
     "metadata": {},
     "output_type": "execute_result"
    }
   ],
   "source": [
    "start_snap_dt='2017-01-01'\n",
    "end_snap_dt='2018-01-01'\n",
    "df3 = pull_loan_general(start_snap_dt, end_snap_dt)\n",
    "df3.shape"
   ]
  },
  {
   "cell_type": "code",
   "execution_count": 115,
   "metadata": {},
   "outputs": [],
   "source": [
    "df3.to_csv(raw_data_dir+'loan_general_y3.csv', index=False)"
   ]
  },
  {
   "cell_type": "code",
   "execution_count": 116,
   "metadata": {},
   "outputs": [
    {
     "data": {
      "text/plain": [
       "(1963653, 13)"
      ]
     },
     "execution_count": 116,
     "metadata": {},
     "output_type": "execute_result"
    }
   ],
   "source": [
    "start_snap_dt='2018-01-01'\n",
    "end_snap_dt='2019-07-01'\n",
    "df4 = pull_loan_general(start_snap_dt, end_snap_dt)\n",
    "df4.shape"
   ]
  },
  {
   "cell_type": "code",
   "execution_count": 117,
   "metadata": {},
   "outputs": [],
   "source": [
    "df4.to_csv(raw_data_dir+'loan_general_y4.csv', index=False)"
   ]
  },
  {
   "cell_type": "markdown",
   "metadata": {},
   "source": [
    "# Agg Loan TXN Acct Level"
   ]
  },
  {
   "cell_type": "code",
   "execution_count": null,
   "metadata": {},
   "outputs": [],
   "source": [
    "def pull_agg_loan_txn(start_snap_dt, end_snap_dt):    \n",
    "    aggr_loan_txn_qry = f\"\"\"\\\n",
    "        Select \n",
    "        a.mth_end_dt, \n",
    "        a.CLNT_NO, \n",
    "        a.clnt_grp,\n",
    "        a.AR_ID, \n",
    "        a.t_ar_id,\n",
    "        a.CRNCY_CD,\n",
    "\n",
    "        count(a.TXN_CD) as num_txn,       /* number of transactions made in a month*/\n",
    "                                         /* TO DO: most-frequent transaction code in a month*/\n",
    "        sum(a.AMT) as tot_amt,\n",
    "        max(a.AMT) as max_amt,\n",
    "        min(a.AMT) as min_amt,\n",
    "        avg(a.AMT) as avg_amt, \n",
    "        stddev_samp(a.AMT) as vol_amt, /* standard deviation, i.e., volatility amt in a month*/\n",
    "\n",
    "        sum(a.PRNCPL_AMT) as tot_prncpl_amt,\n",
    "        max(a.PRNCPL_AMT) as max_prncpl_amt, \n",
    "        min(a.PRNCPL_AMT) as min_prncpl_amt,\n",
    "        avg(a.PRNCPL_AMT) as avg_prncpl_amt,\n",
    "        stddev_samp(a.PRNCPL_AMT) as vol_prncpl_amt,\n",
    "\n",
    "        sum(a.PREPAY_AMT) as tot_prepay_amt,\n",
    "        max(a.PREPAY_AMT) as max_prepay_amt,\n",
    "        min(a.PREPAY_AMT) as min_prepay_amt,\n",
    "        avg(a.PREPAY_AMT) as avg_prepay_amt, \n",
    "        stddev_samp(a.PREPAY_AMT) as vol_prepay_amt,\n",
    "\n",
    "        sum(a.INT_AMT) as tot_int_amt,\n",
    "        max(a.INT_AMT) as max_int_amt,\n",
    "        min(a.INT_AMT) as min_int_amt,\n",
    "        avg(a.INT_AMT) as avg_int_amt, \n",
    "        stddev_samp(a.INT_AMT) vol_int_amt\n",
    "\n",
    "        FROM (\n",
    "        SELECT \n",
    "            /* month end date */\n",
    "                   C.SNAP_DT as mth_end_dt, \n",
    "            /* client number */\n",
    "                   C.clnt_no , \n",
    "            /* client group, used to define commercial and small business clients */\n",
    "            case\n",
    "                        when (c.BSC in (190,192,200,202,250,490,590)\n",
    "                                or (c.BSC in (310,500,502,504,505,510) and \n",
    "                                    (c.CURR_CMI_NO not in (100,101,102,103,\n",
    "                                                            200,201,202,203, \n",
    "                                                            300,301,302,303,\n",
    "                                                            401,402,403,\n",
    "                                                            501,502,503) or c.CURR_CMI_NO is NULL))\n",
    "                             ) then 'COMM'\n",
    "                \n",
    "                        when (c.BSC in (550,554,555)\n",
    "                                and (c.CURR_CMI_NO not in (100,101,102,103,\n",
    "                                                            200,201,202,203, \n",
    "                                                            300,301,302,303,\n",
    "                                                            401,402,403,\n",
    "                                                            501,502,503) or c.CURR_CMI_NO is NULL)\n",
    "                             ) then 'AG'\n",
    "                        when c.BSC in (330) then 'PUB'\n",
    "                        when (c.BSC in (310,500,502,504,505,510, 550,554,555) \n",
    "                                and c.CURR_CMI_NO in (100,101,102,103,\n",
    "                                                        200,201,202,203,\n",
    "                                                        300,301,302,303,\n",
    "                                                        401,402,403,\n",
    "                                                        501,502,503)\n",
    "                             )then 'SB'\n",
    "                        else 'OOO'\n",
    "                    end as Clnt_Grp,\n",
    "            /*-- arrangement id*/\n",
    "                   L.ar_id , \n",
    "             'A' || trim(L.ar_id) as t_ar_id, /* Added by QH 2018-11-08*/\n",
    "            /*-- mif service id*/\n",
    "                   L.mif_srvc_id, \n",
    "            /*-- loan discription*/\n",
    "                   L.ln_desc , \n",
    "            /*-- snapshot date*/\n",
    "                   X.snap_dt,\n",
    "            /*-- effective date*/\n",
    "                   X.eff_dt,\n",
    "            /*-- currency code */\n",
    "                   A.crncy_cd, \n",
    "            /*-- transaction status code*/\n",
    "                   X.txn_sts_cd, \n",
    "            /* -- transaction code*/\n",
    "                   X.txn_cd,  \n",
    "            /* -- correction indicator*/\n",
    "                   X.correction_ind,\n",
    "            /*-- acount */\n",
    "                   X.amt,  \n",
    "            /*-- principal amount*/\n",
    "                   X.prncpl_amt,  \n",
    "            /*-- prepayment amount*/\n",
    "                   X.prepay_amt, \n",
    "            /*-- interest amount*/\n",
    "                   X.int_amt, \n",
    "            /*-- transaction fee amount*/\n",
    "                   X.txn_fee_amt, \n",
    "            /*-- transaction insurance amount */\n",
    "                   X.txn_ins_amt  \n",
    "            \n",
    "            \n",
    "            FROM DDWV01.rb_clnt AS C\t\n",
    "            \n",
    "                    /* Inner join with roll-up rank hierarchy table to get Canadian banking clients */\n",
    "                 INNER JOIN DDWV01.ROLL_HIER_RELTN_RNK AS R\n",
    "                      ON  r.SNAP_DT  = c.snap_dt\n",
    "                          AND r.ORG_UNT_ID = c.resp_unt\n",
    "                          AND r.PARNT_HIER_TYP_ID = 80000 \n",
    "                          AND r.ROLL_ID_RANK_600 IN (80013,80029,80146,82314,83080,83081,83082,83091)\n",
    "\t\t\t\t\n",
    "\t\t\t\tINNER JOIN (Select clnt_no, \n",
    "                        MTH_END_DT as snap_dt, \n",
    "                        TOT_SN_EXP \n",
    "                        FROM DG6V19.BUS_PRTFOL_CLNT WHERE TOT_SN_EXP >1000000) B /*filter out single name exposure 1MM*/\n",
    "                ON C.clnt_no = B.clnt_no and C.snap_dt = B.snap_dt\n",
    "            \n",
    "                  INNER JOIN DG6V19.bus_prtfol_lend AS L\n",
    "                     ON L.clnt_no = C.clnt_no\n",
    "                         AND L.mth_end_dt = C.snap_dt\n",
    "            \n",
    "            \n",
    "                  INNER JOIN DG6V19.arngmnt_hist AS A\n",
    "                     ON A.ar_id = L.ar_id\n",
    "                        AND A.mth_end_dt = L.mth_end_dt\n",
    "                        AND A.mif_srvc_id = L.mif_srvc_id\n",
    "\t\t\t\t\t\n",
    "            \n",
    "            \n",
    "                  INNER JOIN DDWV01.ln_mrtg_prncpl_nt AS X /*mif_srvc_id 20 and 21 only */\n",
    "                    ON X.ar_id = L.ar_id\n",
    "                       AND X.srvc_cd = L.mif_srvc_id\n",
    "                       AND Extract (YEAR From X.snap_dt) = Extract (YEAR From L.mth_end_dt)\n",
    "                       AND Extract (MONTH From X.snap_dt) = Extract (MONTH From L.mth_end_dt)\n",
    "            \n",
    "            where clnt_grp NOT IN ('OOO', 'SB') \n",
    "                  and (c.clnt_sts='A' or c.clnt_sts is null) /* filter out inactive clients */\n",
    "                  and c.clnt_typ=2 /* keep only non-personal clients */\n",
    "            and c.snap_dt > '{start_snap_dt}' AND c.snap_dt < '{end_snap_dt}'\n",
    "        ) a\n",
    "        group by a.mth_end_dt, a.clnt_no, a.clnt_grp, a.AR_ID, a.t_ar_id, a.CRNCY_CD\n",
    "        \"\"\"\n",
    "    return pd.read_sql(aggr_loan_txn_qry, connection)"
   ]
  },
  {
   "cell_type": "code",
   "execution_count": null,
   "metadata": {},
   "outputs": [],
   "source": [
    "start_snap_dt='2015-01-01'\n",
    "end_snap_dt='2016-01-01'\n",
    "df1 = pull_agg_loan_txn(start_snap_dt, end_snap_dt)\n",
    "df1.shape"
   ]
  },
  {
   "cell_type": "code",
   "execution_count": 111,
   "metadata": {},
   "outputs": [],
   "source": [
    "df1.to_csv(raw_data_dir+'agg_loan_txn_acct_lvl_y1.csv', index=False)"
   ]
  },
  {
   "cell_type": "code",
   "execution_count": null,
   "metadata": {},
   "outputs": [],
   "source": [
    "start_snap_dt='2016-01-01'\n",
    "end_snap_dt='2017-01-01'\n",
    "df2 = pull_agg_loan_txn(start_snap_dt, end_snap_dt)\n",
    "df2.shape"
   ]
  },
  {
   "cell_type": "code",
   "execution_count": null,
   "metadata": {},
   "outputs": [],
   "source": [
    "df2.to_csv(raw_data_dir+'agg_loan_txn_acct_lvl_y2.csv', index=False)"
   ]
  },
  {
   "cell_type": "code",
   "execution_count": null,
   "metadata": {},
   "outputs": [],
   "source": [
    "start_snap_dt='2017-01-01'\n",
    "end_snap_dt='2018-01-01'\n",
    "df3 = pull_agg_loan_txn(start_snap_dt, end_snap_dt)\n",
    "df3.shape"
   ]
  },
  {
   "cell_type": "code",
   "execution_count": null,
   "metadata": {},
   "outputs": [],
   "source": [
    "df3.to_csv(raw_data_dir+'agg_loan_txn_acct_lvl_y3.csv', index=False)"
   ]
  },
  {
   "cell_type": "code",
   "execution_count": null,
   "metadata": {},
   "outputs": [],
   "source": [
    "start_snap_dt='2018-01-01'\n",
    "end_snap_dt='2019-07-01'\n",
    "df4 = pull_agg_loan_txn(start_snap_dt, end_snap_dt)\n",
    "df4.shape"
   ]
  },
  {
   "cell_type": "code",
   "execution_count": null,
   "metadata": {},
   "outputs": [],
   "source": [
    "df4.to_csv(raw_data_dir+'agg_loan_txn_acct_lvl_y4.csv', index=False)"
   ]
  },
  {
   "cell_type": "markdown",
   "metadata": {},
   "source": [
    "# Most recent Year Pull"
   ]
  },
  {
   "cell_type": "code",
   "execution_count": 13,
   "metadata": {},
   "outputs": [],
   "source": [
    "start_snap_dt='2019-07-01'\n",
    "end_snap_dt='2020-08-01'"
   ]
  },
  {
   "cell_type": "code",
   "execution_count": null,
   "metadata": {},
   "outputs": [],
   "source": [
    "df5 = pull_client_general(start_snap_dt, end_snap_dt)\n",
    "df5.shape"
   ]
  },
  {
   "cell_type": "markdown",
   "metadata": {},
   "source": [
    "### Client General"
   ]
  },
  {
   "cell_type": "code",
   "execution_count": null,
   "metadata": {},
   "outputs": [],
   "source": [
    "df5.drop_duplicates(subset=['mth_end_dt', 'CLNT_NO'], keep='first', inplace=True)\n",
    "df5.shape"
   ]
  },
  {
   "cell_type": "code",
   "execution_count": null,
   "metadata": {},
   "outputs": [],
   "source": [
    "df5.to_csv(raw_data_dir+'clnt_general_y5.csv', index=False)"
   ]
  },
  {
   "cell_type": "markdown",
   "metadata": {},
   "source": [
    "### Mort_Hist"
   ]
  },
  {
   "cell_type": "code",
   "execution_count": null,
   "metadata": {},
   "outputs": [],
   "source": [
    "df5 = pull_mort_hist(start_snap_dt, end_snap_dt)\n",
    "df5.shape"
   ]
  },
  {
   "cell_type": "code",
   "execution_count": null,
   "metadata": {},
   "outputs": [],
   "source": [
    "df5.to_csv(raw_data_dir+'mort_hist_y5.csv', index=False)"
   ]
  },
  {
   "cell_type": "markdown",
   "metadata": {},
   "source": [
    "### Lend_General"
   ]
  },
  {
   "cell_type": "code",
   "execution_count": 14,
   "metadata": {},
   "outputs": [
    {
     "data": {
      "text/plain": [
       "(5477538, 49)"
      ]
     },
     "execution_count": 14,
     "metadata": {},
     "output_type": "execute_result"
    }
   ],
   "source": [
    "df5 = pull_lend_general(start_snap_dt, end_snap_dt)\n",
    "df5.shape"
   ]
  },
  {
   "cell_type": "code",
   "execution_count": 15,
   "metadata": {},
   "outputs": [],
   "source": [
    "df5.to_csv(raw_data_dir+'lend_general_y5.csv', index=False)"
   ]
  },
  {
   "cell_type": "markdown",
   "metadata": {},
   "source": [
    "### Loan_hist"
   ]
  },
  {
   "cell_type": "code",
   "execution_count": null,
   "metadata": {},
   "outputs": [],
   "source": [
    "df5 = pull_loan_hist(start_snap_dt, end_snap_dt)\n",
    "df5.shape"
   ]
  },
  {
   "cell_type": "code",
   "execution_count": null,
   "metadata": {},
   "outputs": [],
   "source": [
    "df5.to_csv(raw_data_dir+'loan_hist_y5.csv', index=False)"
   ]
  },
  {
   "cell_type": "markdown",
   "metadata": {},
   "source": [
    "### Financials"
   ]
  },
  {
   "cell_type": "code",
   "execution_count": null,
   "metadata": {},
   "outputs": [],
   "source": [
    "df5 = pull_financials(start_snap_dt, end_snap_dt)\n",
    "df5.shape"
   ]
  },
  {
   "cell_type": "code",
   "execution_count": null,
   "metadata": {},
   "outputs": [],
   "source": [
    "df5.to_csv(raw_data_dir+'financials_y5.csv', index=False)"
   ]
  },
  {
   "cell_type": "markdown",
   "metadata": {},
   "source": [
    "### Fac general"
   ]
  },
  {
   "cell_type": "code",
   "execution_count": null,
   "metadata": {},
   "outputs": [],
   "source": [
    "df5 = pull_fac_general(start_snap_dt, end_snap_dt)\n",
    "df5.shape"
   ]
  },
  {
   "cell_type": "code",
   "execution_count": null,
   "metadata": {},
   "outputs": [],
   "source": [
    "df5.to_csv(raw_data_dir+'fac_general_y5.csv', index=False)"
   ]
  },
  {
   "cell_type": "markdown",
   "metadata": {},
   "source": [
    "### BDA General"
   ]
  },
  {
   "cell_type": "code",
   "execution_count": null,
   "metadata": {},
   "outputs": [],
   "source": [
    "df5 = pull_bda_general(start_snap_dt, end_snap_dt)\n",
    "df5.shape"
   ]
  },
  {
   "cell_type": "code",
   "execution_count": null,
   "metadata": {},
   "outputs": [],
   "source": [
    "df5.to_csv(raw_data_dir+'bda_general_y5.csv', index=False)"
   ]
  },
  {
   "cell_type": "markdown",
   "metadata": {},
   "source": [
    "### Prod Char"
   ]
  },
  {
   "cell_type": "code",
   "execution_count": null,
   "metadata": {},
   "outputs": [],
   "source": [
    "df5 = pull_prod_char(start_snap_dt, end_snap_dt)\n",
    "df5.shape"
   ]
  },
  {
   "cell_type": "code",
   "execution_count": null,
   "metadata": {},
   "outputs": [],
   "source": [
    "df5.to_csv(raw_data_dir+'prod_char_y5.csv', index=False)"
   ]
  },
  {
   "cell_type": "markdown",
   "metadata": {},
   "source": [
    "### Bhvr Char"
   ]
  },
  {
   "cell_type": "code",
   "execution_count": null,
   "metadata": {},
   "outputs": [],
   "source": [
    "df5 = pull_bhvr_char(start_snap_dt, end_snap_dt)\n",
    "df5.shape"
   ]
  },
  {
   "cell_type": "code",
   "execution_count": null,
   "metadata": {},
   "outputs": [],
   "source": [
    "df5.to_csv(raw_data_dir+'bhvr_char_y5.csv', index=False)"
   ]
  },
  {
   "cell_type": "markdown",
   "metadata": {},
   "source": [
    "### BRR Extract"
   ]
  },
  {
   "cell_type": "code",
   "execution_count": null,
   "metadata": {},
   "outputs": [],
   "source": [
    "df5 = pull_brr_extract(start_snap_dt, end_snap_dt)\n",
    "df5.shape"
   ]
  },
  {
   "cell_type": "code",
   "execution_count": null,
   "metadata": {},
   "outputs": [],
   "source": [
    "df5.to_csv(raw_data_dir+'brr_extract_y5.csv', index=False)"
   ]
  },
  {
   "cell_type": "markdown",
   "metadata": {},
   "source": [
    "### BDA TXN NO COBC"
   ]
  },
  {
   "cell_type": "code",
   "execution_count": null,
   "metadata": {},
   "outputs": [],
   "source": [
    "df5 = pull_bda_txn_no_cobc(start_snap_dt, end_snap_dt)\n",
    "df5.shape"
   ]
  },
  {
   "cell_type": "code",
   "execution_count": null,
   "metadata": {},
   "outputs": [],
   "source": [
    "df5.to_csv(raw_data_dir+'bda_txn_no_cobc_prod_lvl_y5.csv', index=False)"
   ]
  },
  {
   "cell_type": "markdown",
   "metadata": {},
   "source": [
    "### Loan General"
   ]
  },
  {
   "cell_type": "code",
   "execution_count": null,
   "metadata": {},
   "outputs": [],
   "source": [
    "df5 = pull_loan_general(start_snap_dt, end_snap_dt)\n",
    "df5.shape"
   ]
  },
  {
   "cell_type": "code",
   "execution_count": null,
   "metadata": {},
   "outputs": [],
   "source": [
    "df5.to_csv(raw_data_dir+'loan_general_y5.csv', index=False)"
   ]
  },
  {
   "cell_type": "markdown",
   "metadata": {},
   "source": [
    "### Agg Loan TXN Acct Level"
   ]
  },
  {
   "cell_type": "code",
   "execution_count": null,
   "metadata": {},
   "outputs": [],
   "source": [
    "df5 = pull_agg_loan_txn(start_snap_dt, end_snap_dt)\n",
    "df5.shape"
   ]
  },
  {
   "cell_type": "code",
   "execution_count": null,
   "metadata": {},
   "outputs": [],
   "source": [
    "df5.to_csv(raw_data_dir+'agg_loan_txn_acct_lvl_y5.csv', index=False)"
   ]
  },
  {
   "cell_type": "code",
   "execution_count": null,
   "metadata": {},
   "outputs": [],
   "source": []
  },
  {
   "cell_type": "code",
   "execution_count": null,
   "metadata": {},
   "outputs": [],
   "source": []
  },
  {
   "cell_type": "code",
   "execution_count": null,
   "metadata": {},
   "outputs": [],
   "source": []
  },
  {
   "cell_type": "code",
   "execution_count": null,
   "metadata": {},
   "outputs": [],
   "source": [
    "del df1\n",
    "del df2\n",
    "del df3\n",
    "del df4\n",
    "del df5"
   ]
  },
  {
   "cell_type": "code",
   "execution_count": null,
   "metadata": {},
   "outputs": [],
   "source": []
  }
 ],
 "metadata": {
  "kernelspec": {
   "display_name": "Python 3",
   "language": "python",
   "name": "python3"
  },
  "language_info": {
   "codemirror_mode": {
    "name": "ipython",
    "version": 3
   },
   "file_extension": ".py",
   "mimetype": "text/x-python",
   "name": "python",
   "nbconvert_exporter": "python",
   "pygments_lexer": "ipython3",
   "version": "3.7.6"
  }
 },
 "nbformat": 4,
 "nbformat_minor": 4
}
